{
 "cells": [
  {
   "cell_type": "markdown",
   "id": "c3497cd5",
   "metadata": {},
   "source": [
    "# Problem Statement :"
   ]
  },
  {
   "cell_type": "markdown",
   "id": "3e1b86db",
   "metadata": {},
   "source": [
    "Flight ticket prices can be something hard to guess, today we might see a price, check out the price of the same flight tomorrow, it will be a different story. We might have often heard travellers saying that flight ticket prices are so unpredictable. Here we will be provided with prices of flight tickets for various airlines between the months of March and June of 2019 and between various cities."
   ]
  },
  {
   "cell_type": "markdown",
   "id": "cab996d9",
   "metadata": {},
   "source": [
    "# Aim :"
   ]
  },
  {
   "cell_type": "markdown",
   "id": "e55020ae",
   "metadata": {},
   "source": [
    "__To build a machine learning model to predict the price of the flight ticket.__\n",
    "\n",
    "Given :\n",
    "        \n",
    "        Size of training set: 10683 records\n",
    "\n",
    "        Size of test set: 2671 records"
   ]
  },
  {
   "cell_type": "code",
   "execution_count": 1,
   "id": "b39d1981",
   "metadata": {},
   "outputs": [],
   "source": [
    "# Importing the first required libraries\n",
    "\n",
    "import pandas as pd\n",
    "import warnings\n",
    "warnings.filterwarnings('ignore')"
   ]
  },
  {
   "cell_type": "markdown",
   "id": "1c719197",
   "metadata": {},
   "source": [
    "__Datasets :__\n",
    "In this project we have 2 separate datasets, one for training purpose and one for testing purpose."
   ]
  },
  {
   "cell_type": "code",
   "execution_count": 2,
   "id": "1817c2be",
   "metadata": {},
   "outputs": [],
   "source": [
    "# Getting the datasets\n",
    "\n",
    "trainset=pd.read_excel(\"Flight_Train.xlsx\")\n",
    "testset=pd.read_excel(\"Flight_Test.xlsx\")"
   ]
  },
  {
   "cell_type": "code",
   "execution_count": 3,
   "id": "baaa0ec3",
   "metadata": {},
   "outputs": [
    {
     "data": {
      "text/html": [
       "<div>\n",
       "<style scoped>\n",
       "    .dataframe tbody tr th:only-of-type {\n",
       "        vertical-align: middle;\n",
       "    }\n",
       "\n",
       "    .dataframe tbody tr th {\n",
       "        vertical-align: top;\n",
       "    }\n",
       "\n",
       "    .dataframe thead th {\n",
       "        text-align: right;\n",
       "    }\n",
       "</style>\n",
       "<table border=\"1\" class=\"dataframe\">\n",
       "  <thead>\n",
       "    <tr style=\"text-align: right;\">\n",
       "      <th></th>\n",
       "      <th>Airline</th>\n",
       "      <th>Date_of_Journey</th>\n",
       "      <th>Source</th>\n",
       "      <th>Destination</th>\n",
       "      <th>Route</th>\n",
       "      <th>Dep_Time</th>\n",
       "      <th>Arrival_Time</th>\n",
       "      <th>Duration</th>\n",
       "      <th>Total_Stops</th>\n",
       "      <th>Additional_Info</th>\n",
       "      <th>Price</th>\n",
       "    </tr>\n",
       "  </thead>\n",
       "  <tbody>\n",
       "    <tr>\n",
       "      <th>0</th>\n",
       "      <td>IndiGo</td>\n",
       "      <td>24/03/2019</td>\n",
       "      <td>Banglore</td>\n",
       "      <td>New Delhi</td>\n",
       "      <td>BLR → DEL</td>\n",
       "      <td>22:20</td>\n",
       "      <td>01:10 22 Mar</td>\n",
       "      <td>2h 50m</td>\n",
       "      <td>non-stop</td>\n",
       "      <td>No info</td>\n",
       "      <td>3897</td>\n",
       "    </tr>\n",
       "    <tr>\n",
       "      <th>1</th>\n",
       "      <td>Air India</td>\n",
       "      <td>1/05/2019</td>\n",
       "      <td>Kolkata</td>\n",
       "      <td>Banglore</td>\n",
       "      <td>CCU → IXR → BBI → BLR</td>\n",
       "      <td>05:50</td>\n",
       "      <td>13:15</td>\n",
       "      <td>7h 25m</td>\n",
       "      <td>2 stops</td>\n",
       "      <td>No info</td>\n",
       "      <td>7662</td>\n",
       "    </tr>\n",
       "    <tr>\n",
       "      <th>2</th>\n",
       "      <td>Jet Airways</td>\n",
       "      <td>9/06/2019</td>\n",
       "      <td>Delhi</td>\n",
       "      <td>Cochin</td>\n",
       "      <td>DEL → LKO → BOM → COK</td>\n",
       "      <td>09:25</td>\n",
       "      <td>04:25 10 Jun</td>\n",
       "      <td>19h</td>\n",
       "      <td>2 stops</td>\n",
       "      <td>No info</td>\n",
       "      <td>13882</td>\n",
       "    </tr>\n",
       "    <tr>\n",
       "      <th>3</th>\n",
       "      <td>IndiGo</td>\n",
       "      <td>12/05/2019</td>\n",
       "      <td>Kolkata</td>\n",
       "      <td>Banglore</td>\n",
       "      <td>CCU → NAG → BLR</td>\n",
       "      <td>18:05</td>\n",
       "      <td>23:30</td>\n",
       "      <td>5h 25m</td>\n",
       "      <td>1 stop</td>\n",
       "      <td>No info</td>\n",
       "      <td>6218</td>\n",
       "    </tr>\n",
       "    <tr>\n",
       "      <th>4</th>\n",
       "      <td>IndiGo</td>\n",
       "      <td>01/03/2019</td>\n",
       "      <td>Banglore</td>\n",
       "      <td>New Delhi</td>\n",
       "      <td>BLR → NAG → DEL</td>\n",
       "      <td>16:50</td>\n",
       "      <td>21:35</td>\n",
       "      <td>4h 45m</td>\n",
       "      <td>1 stop</td>\n",
       "      <td>No info</td>\n",
       "      <td>13302</td>\n",
       "    </tr>\n",
       "  </tbody>\n",
       "</table>\n",
       "</div>"
      ],
      "text/plain": [
       "       Airline Date_of_Journey    Source Destination                  Route  \\\n",
       "0       IndiGo      24/03/2019  Banglore   New Delhi              BLR → DEL   \n",
       "1    Air India       1/05/2019   Kolkata    Banglore  CCU → IXR → BBI → BLR   \n",
       "2  Jet Airways       9/06/2019     Delhi      Cochin  DEL → LKO → BOM → COK   \n",
       "3       IndiGo      12/05/2019   Kolkata    Banglore        CCU → NAG → BLR   \n",
       "4       IndiGo      01/03/2019  Banglore   New Delhi        BLR → NAG → DEL   \n",
       "\n",
       "  Dep_Time  Arrival_Time Duration Total_Stops Additional_Info  Price  \n",
       "0    22:20  01:10 22 Mar   2h 50m    non-stop         No info   3897  \n",
       "1    05:50         13:15   7h 25m     2 stops         No info   7662  \n",
       "2    09:25  04:25 10 Jun      19h     2 stops         No info  13882  \n",
       "3    18:05         23:30   5h 25m      1 stop         No info   6218  \n",
       "4    16:50         21:35   4h 45m      1 stop         No info  13302  "
      ]
     },
     "execution_count": 3,
     "metadata": {},
     "output_type": "execute_result"
    }
   ],
   "source": [
    "trainset.head()"
   ]
  },
  {
   "cell_type": "markdown",
   "id": "184214e3",
   "metadata": {},
   "source": [
    "Now let's understand the various features of this dataset :\n",
    "\n",
    "__Airline:__ The name of the airline.\n",
    "\n",
    "__Date_of_Journey:__ The date of the journey\n",
    "\n",
    "__Source:__ The source from which the service begins.\n",
    "\n",
    "__Destination:__ The destination where the service ends.\n",
    "\n",
    "__Route:__ The route taken by the flight to reach the destination.\n",
    "\n",
    "__Dep_Time:__ The time when the journey starts from the source.\n",
    "\n",
    "__Arrival_Time:__ Time of arrival at the destination.\n",
    "\n",
    "__Duration:__ Total duration of the flight.\n",
    "\n",
    "__Total_Stops:__ Total stops between the source and destination.\n",
    "\n",
    "__Additional_Info:__ Additional information about the flight\n",
    "\n",
    "__Price:__ The price of the ticket"
   ]
  },
  {
   "cell_type": "markdown",
   "id": "000e0a4b",
   "metadata": {},
   "source": [
    "# Exploratory Data Analysis for Train Dataset "
   ]
  },
  {
   "cell_type": "code",
   "execution_count": 4,
   "id": "2674ec52",
   "metadata": {},
   "outputs": [
    {
     "data": {
      "text/plain": [
       "Index(['Airline', 'Date_of_Journey', 'Source', 'Destination', 'Route',\n",
       "       'Dep_Time', 'Arrival_Time', 'Duration', 'Total_Stops',\n",
       "       'Additional_Info', 'Price'],\n",
       "      dtype='object')"
      ]
     },
     "execution_count": 4,
     "metadata": {},
     "output_type": "execute_result"
    }
   ],
   "source": [
    "# Checking the features of the train dataset\n",
    "\n",
    "trainset.columns"
   ]
  },
  {
   "cell_type": "code",
   "execution_count": 5,
   "id": "1107d8c7",
   "metadata": {},
   "outputs": [
    {
     "data": {
      "text/plain": [
       "(10683, 11)"
      ]
     },
     "execution_count": 5,
     "metadata": {},
     "output_type": "execute_result"
    }
   ],
   "source": [
    "# Checking shape of the train dataset\n",
    "\n",
    "trainset.shape"
   ]
  },
  {
   "cell_type": "markdown",
   "id": "d288d7dd",
   "metadata": {},
   "source": [
    "__The train dataset has 10683 rows and 11 columns.__"
   ]
  },
  {
   "cell_type": "code",
   "execution_count": 6,
   "id": "5aeefe50",
   "metadata": {},
   "outputs": [
    {
     "data": {
      "text/plain": [
       "Airline            object\n",
       "Date_of_Journey    object\n",
       "Source             object\n",
       "Destination        object\n",
       "Route              object\n",
       "Dep_Time           object\n",
       "Arrival_Time       object\n",
       "Duration           object\n",
       "Total_Stops        object\n",
       "Additional_Info    object\n",
       "Price               int64\n",
       "dtype: object"
      ]
     },
     "execution_count": 6,
     "metadata": {},
     "output_type": "execute_result"
    }
   ],
   "source": [
    "# Checking datatype of the train dataset\n",
    "\n",
    "trainset.dtypes"
   ]
  },
  {
   "cell_type": "markdown",
   "id": "753f99af",
   "metadata": {},
   "source": [
    "__So, all the features are object datatype, which are in string format, except for the 'Price' is int datatype.__"
   ]
  },
  {
   "cell_type": "code",
   "execution_count": 7,
   "id": "6a7f7499",
   "metadata": {},
   "outputs": [
    {
     "name": "stdout",
     "output_type": "stream",
     "text": [
      "<class 'pandas.core.frame.DataFrame'>\n",
      "RangeIndex: 10683 entries, 0 to 10682\n",
      "Data columns (total 11 columns):\n",
      " #   Column           Non-Null Count  Dtype \n",
      "---  ------           --------------  ----- \n",
      " 0   Airline          10683 non-null  object\n",
      " 1   Date_of_Journey  10683 non-null  object\n",
      " 2   Source           10683 non-null  object\n",
      " 3   Destination      10683 non-null  object\n",
      " 4   Route            10682 non-null  object\n",
      " 5   Dep_Time         10683 non-null  object\n",
      " 6   Arrival_Time     10683 non-null  object\n",
      " 7   Duration         10683 non-null  object\n",
      " 8   Total_Stops      10682 non-null  object\n",
      " 9   Additional_Info  10683 non-null  object\n",
      " 10  Price            10683 non-null  int64 \n",
      "dtypes: int64(1), object(10)\n",
      "memory usage: 918.2+ KB\n"
     ]
    }
   ],
   "source": [
    "# Getting more information about the dataset\n",
    "\n",
    "trainset.info()"
   ]
  },
  {
   "cell_type": "markdown",
   "id": "da824614",
   "metadata": {},
   "source": [
    "__Here we can observe that all the 10683 rows, for all the columns, are non null, that is there are no null values.__\n",
    "\n",
    "__And memory used by the dataset is 918.2+ KB.__"
   ]
  },
  {
   "cell_type": "code",
   "execution_count": 8,
   "id": "c61f121d",
   "metadata": {},
   "outputs": [
    {
     "data": {
      "text/plain": [
       "Airline            0\n",
       "Date_of_Journey    0\n",
       "Source             0\n",
       "Destination        0\n",
       "Route              1\n",
       "Dep_Time           0\n",
       "Arrival_Time       0\n",
       "Duration           0\n",
       "Total_Stops        1\n",
       "Additional_Info    0\n",
       "Price              0\n",
       "dtype: int64"
      ]
     },
     "execution_count": 8,
     "metadata": {},
     "output_type": "execute_result"
    }
   ],
   "source": [
    "# Checking for null values in train dataset\n",
    "\n",
    "trainset.isnull().sum()"
   ]
  },
  {
   "cell_type": "markdown",
   "id": "cdc2d63c",
   "metadata": {},
   "source": [
    "__There are only 2 null values in the train dataset, so it can be dropped easily.__"
   ]
  },
  {
   "cell_type": "code",
   "execution_count": 9,
   "id": "b4dfcfba",
   "metadata": {},
   "outputs": [],
   "source": [
    "trainset.dropna(inplace=True)"
   ]
  },
  {
   "cell_type": "code",
   "execution_count": 10,
   "id": "51b0b5d7",
   "metadata": {},
   "outputs": [
    {
     "data": {
      "text/plain": [
       "(10682, 11)"
      ]
     },
     "execution_count": 10,
     "metadata": {},
     "output_type": "execute_result"
    }
   ],
   "source": [
    "# Shape of train dataset after dropping null values :-\n",
    "\n",
    "trainset.shape"
   ]
  },
  {
   "cell_type": "code",
   "execution_count": 11,
   "id": "e87ef473",
   "metadata": {},
   "outputs": [
    {
     "data": {
      "text/plain": [
       "Airline            0\n",
       "Date_of_Journey    0\n",
       "Source             0\n",
       "Destination        0\n",
       "Route              0\n",
       "Dep_Time           0\n",
       "Arrival_Time       0\n",
       "Duration           0\n",
       "Total_Stops        0\n",
       "Additional_Info    0\n",
       "Price              0\n",
       "dtype: int64"
      ]
     },
     "execution_count": 11,
     "metadata": {},
     "output_type": "execute_result"
    }
   ],
   "source": [
    "trainset.isnull().sum()"
   ]
  },
  {
   "cell_type": "markdown",
   "id": "2bcca451",
   "metadata": {},
   "source": [
    "__Successfully dropped the null values.__"
   ]
  },
  {
   "cell_type": "markdown",
   "id": "6f64783c",
   "metadata": {},
   "source": [
    "__We can also visualize and check :__"
   ]
  },
  {
   "cell_type": "code",
   "execution_count": 12,
   "id": "89725aa3",
   "metadata": {},
   "outputs": [],
   "source": [
    "# First importing the seaborn library\n",
    "\n",
    "import seaborn as sns"
   ]
  },
  {
   "cell_type": "code",
   "execution_count": 13,
   "id": "cea36c78",
   "metadata": {},
   "outputs": [
    {
     "data": {
      "text/plain": [
       "<AxesSubplot:>"
      ]
     },
     "execution_count": 13,
     "metadata": {},
     "output_type": "execute_result"
    },
    {
     "data": {
      "image/png": "[encoded data removed]",
      "text/plain": [
       "<Figure size 432x288 with 2 Axes>"
      ]
     },
     "metadata": {
      "needs_background": "light"
     },
     "output_type": "display_data"
    }
   ],
   "source": [
    "sns.heatmap(trainset.isnull())"
   ]
  },
  {
   "cell_type": "markdown",
   "id": "5ae63418",
   "metadata": {},
   "source": [
    "__From the above heatmap visualization we can observe that there are no white spaces, hence no null values.__"
   ]
  },
  {
   "cell_type": "code",
   "execution_count": 14,
   "id": "3a84ae48",
   "metadata": {},
   "outputs": [
    {
     "data": {
      "text/plain": [
       "Airline              12\n",
       "Date_of_Journey      44\n",
       "Source                5\n",
       "Destination           6\n",
       "Route               128\n",
       "Dep_Time            222\n",
       "Arrival_Time       1343\n",
       "Duration            368\n",
       "Total_Stops           5\n",
       "Additional_Info      10\n",
       "Price              1870\n",
       "dtype: int64"
      ]
     },
     "execution_count": 14,
     "metadata": {},
     "output_type": "execute_result"
    }
   ],
   "source": [
    "trainset.nunique()"
   ]
  },
  {
   "cell_type": "markdown",
   "id": "6f237c4e",
   "metadata": {},
   "source": [
    "__We have some categorical data here, lets check their value counts :__"
   ]
  },
  {
   "cell_type": "code",
   "execution_count": 15,
   "id": "59a4ad2b",
   "metadata": {
    "scrolled": false
   },
   "outputs": [
    {
     "name": "stdout",
     "output_type": "stream",
     "text": [
      "Jet Airways                          3849\n",
      "IndiGo                               2053\n",
      "Air India                            1751\n",
      "Multiple carriers                    1196\n",
      "SpiceJet                              818\n",
      "Vistara                               479\n",
      "Air Asia                              319\n",
      "GoAir                                 194\n",
      "Multiple carriers Premium economy      13\n",
      "Jet Airways Business                    6\n",
      "Vistara Premium economy                 3\n",
      "Trujet                                  1\n",
      "Name: Airline, dtype: int64\n",
      "~~~~~~~~~~~~~~~~~~~~~~~~~~~~~~~~~~~~~~~~~~~~~~~~~~~~~~~~\n",
      "18/05/2019    504\n",
      "6/06/2019     503\n",
      "21/05/2019    497\n",
      "9/06/2019     495\n",
      "12/06/2019    493\n",
      "9/05/2019     484\n",
      "21/03/2019    423\n",
      "15/05/2019    405\n",
      "27/05/2019    382\n",
      "27/06/2019    355\n",
      "24/06/2019    351\n",
      "1/06/2019     342\n",
      "3/06/2019     333\n",
      "15/06/2019    328\n",
      "24/03/2019    323\n",
      "6/03/2019     308\n",
      "27/03/2019    299\n",
      "24/05/2019    286\n",
      "6/05/2019     281\n",
      "1/05/2019     277\n",
      "12/05/2019    259\n",
      "1/04/2019     257\n",
      "3/03/2019     218\n",
      "9/03/2019     200\n",
      "15/03/2019    162\n",
      "18/03/2019    156\n",
      "01/03/2019    152\n",
      "12/03/2019    142\n",
      "9/04/2019     125\n",
      "3/04/2019     110\n",
      "21/06/2019    109\n",
      "18/06/2019    105\n",
      "09/03/2019    102\n",
      "6/04/2019     100\n",
      "03/03/2019     97\n",
      "06/03/2019     95\n",
      "27/04/2019     94\n",
      "24/04/2019     92\n",
      "3/05/2019      90\n",
      "15/04/2019     89\n",
      "21/04/2019     82\n",
      "18/04/2019     67\n",
      "12/04/2019     63\n",
      "1/03/2019      47\n",
      "Name: Date_of_Journey, dtype: int64\n",
      "~~~~~~~~~~~~~~~~~~~~~~~~~~~~~~~~~~~~~~~~~~~~~~~~~~~~~~~~\n",
      "Delhi       4536\n",
      "Kolkata     2871\n",
      "Banglore    2197\n",
      "Mumbai       697\n",
      "Chennai      381\n",
      "Name: Source, dtype: int64\n",
      "~~~~~~~~~~~~~~~~~~~~~~~~~~~~~~~~~~~~~~~~~~~~~~~~~~~~~~~~\n",
      "Cochin       4536\n",
      "Banglore     2871\n",
      "Delhi        1265\n",
      "New Delhi     932\n",
      "Hyderabad     697\n",
      "Kolkata       381\n",
      "Name: Destination, dtype: int64\n",
      "~~~~~~~~~~~~~~~~~~~~~~~~~~~~~~~~~~~~~~~~~~~~~~~~~~~~~~~~\n",
      "DEL → BOM → COK                2376\n",
      "BLR → DEL                      1552\n",
      "CCU → BOM → BLR                 979\n",
      "CCU → BLR                       724\n",
      "BOM → HYD                       621\n",
      "                               ... \n",
      "BOM → JDH → JAI → DEL → HYD       1\n",
      "CCU → IXA → BLR                   1\n",
      "BOM → NDC → HYD                   1\n",
      "CCU → RPR → HYD → BLR             1\n",
      "BOM → BLR → CCU → BBI → HYD       1\n",
      "Name: Route, Length: 128, dtype: int64\n",
      "~~~~~~~~~~~~~~~~~~~~~~~~~~~~~~~~~~~~~~~~~~~~~~~~~~~~~~~~\n",
      "18:55    233\n",
      "17:00    227\n",
      "07:05    205\n",
      "10:00    203\n",
      "07:10    202\n",
      "        ... \n",
      "22:25      1\n",
      "12:45      1\n",
      "21:35      1\n",
      "03:00      1\n",
      "16:25      1\n",
      "Name: Dep_Time, Length: 222, dtype: int64\n",
      "~~~~~~~~~~~~~~~~~~~~~~~~~~~~~~~~~~~~~~~~~~~~~~~~~~~~~~~~\n",
      "19:00           423\n",
      "21:00           360\n",
      "19:15           333\n",
      "16:10           154\n",
      "12:35           122\n",
      "               ... \n",
      "02:20 19 Apr      1\n",
      "02:20 02 Jun      1\n",
      "10:40 22 May      1\n",
      "00:15 04 Mar      1\n",
      "04:25 04 Apr      1\n",
      "Name: Arrival_Time, Length: 1343, dtype: int64\n",
      "~~~~~~~~~~~~~~~~~~~~~~~~~~~~~~~~~~~~~~~~~~~~~~~~~~~~~~~~\n",
      "2h 50m     550\n",
      "1h 30m     386\n",
      "2h 55m     337\n",
      "2h 45m     337\n",
      "2h 35m     329\n",
      "          ... \n",
      "30h 25m      1\n",
      "13h 35m      1\n",
      "35h 20m      1\n",
      "41h 20m      1\n",
      "33h 20m      1\n",
      "Name: Duration, Length: 368, dtype: int64\n",
      "~~~~~~~~~~~~~~~~~~~~~~~~~~~~~~~~~~~~~~~~~~~~~~~~~~~~~~~~\n",
      "1 stop      5625\n",
      "non-stop    3491\n",
      "2 stops     1520\n",
      "3 stops       45\n",
      "4 stops        1\n",
      "Name: Total_Stops, dtype: int64\n",
      "~~~~~~~~~~~~~~~~~~~~~~~~~~~~~~~~~~~~~~~~~~~~~~~~~~~~~~~~\n",
      "No info                         8344\n",
      "In-flight meal not included     1982\n",
      "No check-in baggage included     320\n",
      "1 Long layover                    19\n",
      "Change airports                    7\n",
      "Business class                     4\n",
      "No Info                            3\n",
      "Red-eye flight                     1\n",
      "2 Long layover                     1\n",
      "1 Short layover                    1\n",
      "Name: Additional_Info, dtype: int64\n",
      "~~~~~~~~~~~~~~~~~~~~~~~~~~~~~~~~~~~~~~~~~~~~~~~~~~~~~~~~\n",
      "10262    258\n",
      "10844    212\n",
      "7229     162\n",
      "4804     160\n",
      "4823     131\n",
      "        ... \n",
      "16946      1\n",
      "10783      1\n",
      "14861      1\n",
      "10759      1\n",
      "4098       1\n",
      "Name: Price, Length: 1870, dtype: int64\n",
      "~~~~~~~~~~~~~~~~~~~~~~~~~~~~~~~~~~~~~~~~~~~~~~~~~~~~~~~~\n"
     ]
    }
   ],
   "source": [
    "# Checking the value counts of each columns\n",
    "for i in trainset.columns:\n",
    "    print(trainset[i].value_counts())\n",
    "    print('~~~~~~~~~~~~~~~~~~~~~~~~~~~~~~~~~~~~~~~~~~~~~~~~~~~~~~~~')"
   ]
  },
  {
   "cell_type": "markdown",
   "id": "f91a16cc",
   "metadata": {},
   "source": [
    "__These are some popular destinations passengers are travelling to. But there are repeated values for 'Delhi' and 'New Delhi', which are basically the same locations. Hence it can be replaced with one feature.__"
   ]
  },
  {
   "cell_type": "code",
   "execution_count": 16,
   "id": "419cd1df",
   "metadata": {},
   "outputs": [],
   "source": [
    "trainset[\"Destination\"]=trainset[\"Destination\"].replace({'New Delhi': 'Delhi'})"
   ]
  },
  {
   "cell_type": "code",
   "execution_count": 17,
   "id": "62fab750",
   "metadata": {},
   "outputs": [
    {
     "data": {
      "text/plain": [
       "Cochin       4536\n",
       "Banglore     2871\n",
       "Delhi        2197\n",
       "Hyderabad     697\n",
       "Kolkata       381\n",
       "Name: Destination, dtype: int64"
      ]
     },
     "execution_count": 17,
     "metadata": {},
     "output_type": "execute_result"
    }
   ],
   "source": [
    "trainset.Destination.value_counts()"
   ]
  },
  {
   "cell_type": "markdown",
   "id": "eb82ba68",
   "metadata": {},
   "source": [
    "__Successfully replaced.__"
   ]
  },
  {
   "cell_type": "markdown",
   "id": "d82ac1df",
   "metadata": {},
   "source": [
    "# Feature Engineering :"
   ]
  },
  {
   "cell_type": "markdown",
   "id": "dd161395",
   "metadata": {},
   "source": [
    "In the dataset we can observe columns such as __\"Date_of_Journey\", \"Route\", \"Dep_Time\", \"Arrival_Time\",\t\"Duration\"__ are not in a proper format which can be used for analysis and machine learning models. \n",
    "\n",
    "Therefore we need to convert them into timestamps using __datetime__ library for proper analysis and prediction."
   ]
  },
  {
   "cell_type": "code",
   "execution_count": 18,
   "id": "e31048c0",
   "metadata": {},
   "outputs": [
    {
     "data": {
      "text/plain": [
       "0        24/03/2019\n",
       "1         1/05/2019\n",
       "2         9/06/2019\n",
       "3        12/05/2019\n",
       "4        01/03/2019\n",
       "            ...    \n",
       "10678     9/04/2019\n",
       "10679    27/04/2019\n",
       "10680    27/04/2019\n",
       "10681    01/03/2019\n",
       "10682     9/05/2019\n",
       "Name: Date_of_Journey, Length: 10682, dtype: object"
      ]
     },
     "execution_count": 18,
     "metadata": {},
     "output_type": "execute_result"
    }
   ],
   "source": [
    "trainset.Date_of_Journey"
   ]
  },
  {
   "cell_type": "markdown",
   "id": "117bf869",
   "metadata": {},
   "source": [
    "__From \"Date_of_Journey\", we will extract only the date and month. This data is specifically for the year 2019 only, so no need to extract year.__"
   ]
  },
  {
   "cell_type": "code",
   "execution_count": 19,
   "id": "ab849951",
   "metadata": {},
   "outputs": [],
   "source": [
    "# To extract the day of journey\n",
    "\n",
    "trainset['Journey_Day']= pd.to_datetime(trainset.Date_of_Journey, format=\"%d/%m/%Y\").dt.day"
   ]
  },
  {
   "cell_type": "code",
   "execution_count": 20,
   "id": "3dbb2c97",
   "metadata": {},
   "outputs": [],
   "source": [
    "# To extract the month of journey\n",
    "\n",
    "trainset['Journey_Month']= pd.to_datetime(trainset.Date_of_Journey, format=\"%d/%m/%Y\").dt.month"
   ]
  },
  {
   "cell_type": "code",
   "execution_count": 21,
   "id": "5ef5046e",
   "metadata": {},
   "outputs": [
    {
     "data": {
      "text/html": [
       "<div>\n",
       "<style scoped>\n",
       "    .dataframe tbody tr th:only-of-type {\n",
       "        vertical-align: middle;\n",
       "    }\n",
       "\n",
       "    .dataframe tbody tr th {\n",
       "        vertical-align: top;\n",
       "    }\n",
       "\n",
       "    .dataframe thead th {\n",
       "        text-align: right;\n",
       "    }\n",
       "</style>\n",
       "<table border=\"1\" class=\"dataframe\">\n",
       "  <thead>\n",
       "    <tr style=\"text-align: right;\">\n",
       "      <th></th>\n",
       "      <th>Airline</th>\n",
       "      <th>Date_of_Journey</th>\n",
       "      <th>Source</th>\n",
       "      <th>Destination</th>\n",
       "      <th>Route</th>\n",
       "      <th>Dep_Time</th>\n",
       "      <th>Arrival_Time</th>\n",
       "      <th>Duration</th>\n",
       "      <th>Total_Stops</th>\n",
       "      <th>Additional_Info</th>\n",
       "      <th>Price</th>\n",
       "      <th>Journey_Day</th>\n",
       "      <th>Journey_Month</th>\n",
       "    </tr>\n",
       "  </thead>\n",
       "  <tbody>\n",
       "    <tr>\n",
       "      <th>0</th>\n",
       "      <td>IndiGo</td>\n",
       "      <td>24/03/2019</td>\n",
       "      <td>Banglore</td>\n",
       "      <td>Delhi</td>\n",
       "      <td>BLR → DEL</td>\n",
       "      <td>22:20</td>\n",
       "      <td>01:10 22 Mar</td>\n",
       "      <td>2h 50m</td>\n",
       "      <td>non-stop</td>\n",
       "      <td>No info</td>\n",
       "      <td>3897</td>\n",
       "      <td>24</td>\n",
       "      <td>3</td>\n",
       "    </tr>\n",
       "    <tr>\n",
       "      <th>1</th>\n",
       "      <td>Air India</td>\n",
       "      <td>1/05/2019</td>\n",
       "      <td>Kolkata</td>\n",
       "      <td>Banglore</td>\n",
       "      <td>CCU → IXR → BBI → BLR</td>\n",
       "      <td>05:50</td>\n",
       "      <td>13:15</td>\n",
       "      <td>7h 25m</td>\n",
       "      <td>2 stops</td>\n",
       "      <td>No info</td>\n",
       "      <td>7662</td>\n",
       "      <td>1</td>\n",
       "      <td>5</td>\n",
       "    </tr>\n",
       "    <tr>\n",
       "      <th>2</th>\n",
       "      <td>Jet Airways</td>\n",
       "      <td>9/06/2019</td>\n",
       "      <td>Delhi</td>\n",
       "      <td>Cochin</td>\n",
       "      <td>DEL → LKO → BOM → COK</td>\n",
       "      <td>09:25</td>\n",
       "      <td>04:25 10 Jun</td>\n",
       "      <td>19h</td>\n",
       "      <td>2 stops</td>\n",
       "      <td>No info</td>\n",
       "      <td>13882</td>\n",
       "      <td>9</td>\n",
       "      <td>6</td>\n",
       "    </tr>\n",
       "    <tr>\n",
       "      <th>3</th>\n",
       "      <td>IndiGo</td>\n",
       "      <td>12/05/2019</td>\n",
       "      <td>Kolkata</td>\n",
       "      <td>Banglore</td>\n",
       "      <td>CCU → NAG → BLR</td>\n",
       "      <td>18:05</td>\n",
       "      <td>23:30</td>\n",
       "      <td>5h 25m</td>\n",
       "      <td>1 stop</td>\n",
       "      <td>No info</td>\n",
       "      <td>6218</td>\n",
       "      <td>12</td>\n",
       "      <td>5</td>\n",
       "    </tr>\n",
       "    <tr>\n",
       "      <th>4</th>\n",
       "      <td>IndiGo</td>\n",
       "      <td>01/03/2019</td>\n",
       "      <td>Banglore</td>\n",
       "      <td>Delhi</td>\n",
       "      <td>BLR → NAG → DEL</td>\n",
       "      <td>16:50</td>\n",
       "      <td>21:35</td>\n",
       "      <td>4h 45m</td>\n",
       "      <td>1 stop</td>\n",
       "      <td>No info</td>\n",
       "      <td>13302</td>\n",
       "      <td>1</td>\n",
       "      <td>3</td>\n",
       "    </tr>\n",
       "  </tbody>\n",
       "</table>\n",
       "</div>"
      ],
      "text/plain": [
       "       Airline Date_of_Journey    Source Destination                  Route  \\\n",
       "0       IndiGo      24/03/2019  Banglore       Delhi              BLR → DEL   \n",
       "1    Air India       1/05/2019   Kolkata    Banglore  CCU → IXR → BBI → BLR   \n",
       "2  Jet Airways       9/06/2019     Delhi      Cochin  DEL → LKO → BOM → COK   \n",
       "3       IndiGo      12/05/2019   Kolkata    Banglore        CCU → NAG → BLR   \n",
       "4       IndiGo      01/03/2019  Banglore       Delhi        BLR → NAG → DEL   \n",
       "\n",
       "  Dep_Time  Arrival_Time Duration Total_Stops Additional_Info  Price  \\\n",
       "0    22:20  01:10 22 Mar   2h 50m    non-stop         No info   3897   \n",
       "1    05:50         13:15   7h 25m     2 stops         No info   7662   \n",
       "2    09:25  04:25 10 Jun      19h     2 stops         No info  13882   \n",
       "3    18:05         23:30   5h 25m      1 stop         No info   6218   \n",
       "4    16:50         21:35   4h 45m      1 stop         No info  13302   \n",
       "\n",
       "   Journey_Day  Journey_Month  \n",
       "0           24              3  \n",
       "1            1              5  \n",
       "2            9              6  \n",
       "3           12              5  \n",
       "4            1              3  "
      ]
     },
     "execution_count": 21,
     "metadata": {},
     "output_type": "execute_result"
    }
   ],
   "source": [
    "trainset.head()"
   ]
  },
  {
   "cell_type": "markdown",
   "id": "8e6e5d1e",
   "metadata": {},
   "source": [
    "__Separate columns for day and month of journey are added to the train dataset.__\n",
    "\n",
    "__Hence, \"Date_of_Journey\" can be dropped.__"
   ]
  },
  {
   "cell_type": "code",
   "execution_count": 22,
   "id": "b8b51453",
   "metadata": {},
   "outputs": [],
   "source": [
    "trainset.drop(['Date_of_Journey'],axis=1,inplace=True)"
   ]
  },
  {
   "cell_type": "code",
   "execution_count": 23,
   "id": "f25a468c",
   "metadata": {},
   "outputs": [
    {
     "data": {
      "text/html": [
       "<div>\n",
       "<style scoped>\n",
       "    .dataframe tbody tr th:only-of-type {\n",
       "        vertical-align: middle;\n",
       "    }\n",
       "\n",
       "    .dataframe tbody tr th {\n",
       "        vertical-align: top;\n",
       "    }\n",
       "\n",
       "    .dataframe thead th {\n",
       "        text-align: right;\n",
       "    }\n",
       "</style>\n",
       "<table border=\"1\" class=\"dataframe\">\n",
       "  <thead>\n",
       "    <tr style=\"text-align: right;\">\n",
       "      <th></th>\n",
       "      <th>Airline</th>\n",
       "      <th>Source</th>\n",
       "      <th>Destination</th>\n",
       "      <th>Route</th>\n",
       "      <th>Dep_Time</th>\n",
       "      <th>Arrival_Time</th>\n",
       "      <th>Duration</th>\n",
       "      <th>Total_Stops</th>\n",
       "      <th>Additional_Info</th>\n",
       "      <th>Price</th>\n",
       "      <th>Journey_Day</th>\n",
       "      <th>Journey_Month</th>\n",
       "    </tr>\n",
       "  </thead>\n",
       "  <tbody>\n",
       "    <tr>\n",
       "      <th>0</th>\n",
       "      <td>IndiGo</td>\n",
       "      <td>Banglore</td>\n",
       "      <td>Delhi</td>\n",
       "      <td>BLR → DEL</td>\n",
       "      <td>22:20</td>\n",
       "      <td>01:10 22 Mar</td>\n",
       "      <td>2h 50m</td>\n",
       "      <td>non-stop</td>\n",
       "      <td>No info</td>\n",
       "      <td>3897</td>\n",
       "      <td>24</td>\n",
       "      <td>3</td>\n",
       "    </tr>\n",
       "  </tbody>\n",
       "</table>\n",
       "</div>"
      ],
      "text/plain": [
       "  Airline    Source Destination      Route Dep_Time  Arrival_Time Duration  \\\n",
       "0  IndiGo  Banglore       Delhi  BLR → DEL    22:20  01:10 22 Mar   2h 50m   \n",
       "\n",
       "  Total_Stops Additional_Info  Price  Journey_Day  Journey_Month  \n",
       "0    non-stop         No info   3897           24              3  "
      ]
     },
     "execution_count": 23,
     "metadata": {},
     "output_type": "execute_result"
    }
   ],
   "source": [
    "trainset.head(1)"
   ]
  },
  {
   "cell_type": "markdown",
   "id": "6220674d",
   "metadata": {},
   "source": [
    "__Successfully dropped.__"
   ]
  },
  {
   "cell_type": "markdown",
   "id": "5d2ffc4c",
   "metadata": {},
   "source": [
    "__Now similarly, we can extract values from \"Dep_Time\"__"
   ]
  },
  {
   "cell_type": "code",
   "execution_count": 24,
   "id": "c5b6cdb4",
   "metadata": {},
   "outputs": [
    {
     "data": {
      "text/plain": [
       "0        22:20\n",
       "1        05:50\n",
       "2        09:25\n",
       "3        18:05\n",
       "4        16:50\n",
       "         ...  \n",
       "10678    19:55\n",
       "10679    20:45\n",
       "10680    08:20\n",
       "10681    11:30\n",
       "10682    10:55\n",
       "Name: Dep_Time, Length: 10682, dtype: object"
      ]
     },
     "execution_count": 24,
     "metadata": {},
     "output_type": "execute_result"
    }
   ],
   "source": [
    "trainset.Dep_Time"
   ]
  },
  {
   "cell_type": "code",
   "execution_count": 25,
   "id": "beda4aac",
   "metadata": {},
   "outputs": [],
   "source": [
    "# To extract the hour value\n",
    "\n",
    "trainset['Dep_Hour']= pd.to_datetime(trainset.Dep_Time).dt.hour"
   ]
  },
  {
   "cell_type": "code",
   "execution_count": 26,
   "id": "74696658",
   "metadata": {},
   "outputs": [],
   "source": [
    "# To extract the minute value\n",
    "\n",
    "trainset['Dep_Min']= pd.to_datetime(trainset.Dep_Time).dt.minute"
   ]
  },
  {
   "cell_type": "code",
   "execution_count": 27,
   "id": "9d9b77e1",
   "metadata": {},
   "outputs": [
    {
     "data": {
      "text/html": [
       "<div>\n",
       "<style scoped>\n",
       "    .dataframe tbody tr th:only-of-type {\n",
       "        vertical-align: middle;\n",
       "    }\n",
       "\n",
       "    .dataframe tbody tr th {\n",
       "        vertical-align: top;\n",
       "    }\n",
       "\n",
       "    .dataframe thead th {\n",
       "        text-align: right;\n",
       "    }\n",
       "</style>\n",
       "<table border=\"1\" class=\"dataframe\">\n",
       "  <thead>\n",
       "    <tr style=\"text-align: right;\">\n",
       "      <th></th>\n",
       "      <th>Airline</th>\n",
       "      <th>Source</th>\n",
       "      <th>Destination</th>\n",
       "      <th>Route</th>\n",
       "      <th>Dep_Time</th>\n",
       "      <th>Arrival_Time</th>\n",
       "      <th>Duration</th>\n",
       "      <th>Total_Stops</th>\n",
       "      <th>Additional_Info</th>\n",
       "      <th>Price</th>\n",
       "      <th>Journey_Day</th>\n",
       "      <th>Journey_Month</th>\n",
       "      <th>Dep_Hour</th>\n",
       "      <th>Dep_Min</th>\n",
       "    </tr>\n",
       "  </thead>\n",
       "  <tbody>\n",
       "    <tr>\n",
       "      <th>0</th>\n",
       "      <td>IndiGo</td>\n",
       "      <td>Banglore</td>\n",
       "      <td>Delhi</td>\n",
       "      <td>BLR → DEL</td>\n",
       "      <td>22:20</td>\n",
       "      <td>01:10 22 Mar</td>\n",
       "      <td>2h 50m</td>\n",
       "      <td>non-stop</td>\n",
       "      <td>No info</td>\n",
       "      <td>3897</td>\n",
       "      <td>24</td>\n",
       "      <td>3</td>\n",
       "      <td>22</td>\n",
       "      <td>20</td>\n",
       "    </tr>\n",
       "    <tr>\n",
       "      <th>1</th>\n",
       "      <td>Air India</td>\n",
       "      <td>Kolkata</td>\n",
       "      <td>Banglore</td>\n",
       "      <td>CCU → IXR → BBI → BLR</td>\n",
       "      <td>05:50</td>\n",
       "      <td>13:15</td>\n",
       "      <td>7h 25m</td>\n",
       "      <td>2 stops</td>\n",
       "      <td>No info</td>\n",
       "      <td>7662</td>\n",
       "      <td>1</td>\n",
       "      <td>5</td>\n",
       "      <td>5</td>\n",
       "      <td>50</td>\n",
       "    </tr>\n",
       "    <tr>\n",
       "      <th>2</th>\n",
       "      <td>Jet Airways</td>\n",
       "      <td>Delhi</td>\n",
       "      <td>Cochin</td>\n",
       "      <td>DEL → LKO → BOM → COK</td>\n",
       "      <td>09:25</td>\n",
       "      <td>04:25 10 Jun</td>\n",
       "      <td>19h</td>\n",
       "      <td>2 stops</td>\n",
       "      <td>No info</td>\n",
       "      <td>13882</td>\n",
       "      <td>9</td>\n",
       "      <td>6</td>\n",
       "      <td>9</td>\n",
       "      <td>25</td>\n",
       "    </tr>\n",
       "    <tr>\n",
       "      <th>3</th>\n",
       "      <td>IndiGo</td>\n",
       "      <td>Kolkata</td>\n",
       "      <td>Banglore</td>\n",
       "      <td>CCU → NAG → BLR</td>\n",
       "      <td>18:05</td>\n",
       "      <td>23:30</td>\n",
       "      <td>5h 25m</td>\n",
       "      <td>1 stop</td>\n",
       "      <td>No info</td>\n",
       "      <td>6218</td>\n",
       "      <td>12</td>\n",
       "      <td>5</td>\n",
       "      <td>18</td>\n",
       "      <td>5</td>\n",
       "    </tr>\n",
       "    <tr>\n",
       "      <th>4</th>\n",
       "      <td>IndiGo</td>\n",
       "      <td>Banglore</td>\n",
       "      <td>Delhi</td>\n",
       "      <td>BLR → NAG → DEL</td>\n",
       "      <td>16:50</td>\n",
       "      <td>21:35</td>\n",
       "      <td>4h 45m</td>\n",
       "      <td>1 stop</td>\n",
       "      <td>No info</td>\n",
       "      <td>13302</td>\n",
       "      <td>1</td>\n",
       "      <td>3</td>\n",
       "      <td>16</td>\n",
       "      <td>50</td>\n",
       "    </tr>\n",
       "  </tbody>\n",
       "</table>\n",
       "</div>"
      ],
      "text/plain": [
       "       Airline    Source Destination                  Route Dep_Time  \\\n",
       "0       IndiGo  Banglore       Delhi              BLR → DEL    22:20   \n",
       "1    Air India   Kolkata    Banglore  CCU → IXR → BBI → BLR    05:50   \n",
       "2  Jet Airways     Delhi      Cochin  DEL → LKO → BOM → COK    09:25   \n",
       "3       IndiGo   Kolkata    Banglore        CCU → NAG → BLR    18:05   \n",
       "4       IndiGo  Banglore       Delhi        BLR → NAG → DEL    16:50   \n",
       "\n",
       "   Arrival_Time Duration Total_Stops Additional_Info  Price  Journey_Day  \\\n",
       "0  01:10 22 Mar   2h 50m    non-stop         No info   3897           24   \n",
       "1         13:15   7h 25m     2 stops         No info   7662            1   \n",
       "2  04:25 10 Jun      19h     2 stops         No info  13882            9   \n",
       "3         23:30   5h 25m      1 stop         No info   6218           12   \n",
       "4         21:35   4h 45m      1 stop         No info  13302            1   \n",
       "\n",
       "   Journey_Month  Dep_Hour  Dep_Min  \n",
       "0              3        22       20  \n",
       "1              5         5       50  \n",
       "2              6         9       25  \n",
       "3              5        18        5  \n",
       "4              3        16       50  "
      ]
     },
     "execution_count": 27,
     "metadata": {},
     "output_type": "execute_result"
    }
   ],
   "source": [
    "trainset.head()"
   ]
  },
  {
   "cell_type": "markdown",
   "id": "2051d66c",
   "metadata": {},
   "source": [
    "__Separate columns for hour and minute of departure are added to the train dataset.__\n",
    "\n",
    "__Hence, \"Dep_Time\" can be dropped.__"
   ]
  },
  {
   "cell_type": "code",
   "execution_count": 28,
   "id": "13663411",
   "metadata": {},
   "outputs": [],
   "source": [
    "trainset.drop(['Dep_Time'],axis=1,inplace=True)"
   ]
  },
  {
   "cell_type": "code",
   "execution_count": 29,
   "id": "0ab49a2c",
   "metadata": {},
   "outputs": [
    {
     "data": {
      "text/html": [
       "<div>\n",
       "<style scoped>\n",
       "    .dataframe tbody tr th:only-of-type {\n",
       "        vertical-align: middle;\n",
       "    }\n",
       "\n",
       "    .dataframe tbody tr th {\n",
       "        vertical-align: top;\n",
       "    }\n",
       "\n",
       "    .dataframe thead th {\n",
       "        text-align: right;\n",
       "    }\n",
       "</style>\n",
       "<table border=\"1\" class=\"dataframe\">\n",
       "  <thead>\n",
       "    <tr style=\"text-align: right;\">\n",
       "      <th></th>\n",
       "      <th>Airline</th>\n",
       "      <th>Source</th>\n",
       "      <th>Destination</th>\n",
       "      <th>Route</th>\n",
       "      <th>Arrival_Time</th>\n",
       "      <th>Duration</th>\n",
       "      <th>Total_Stops</th>\n",
       "      <th>Additional_Info</th>\n",
       "      <th>Price</th>\n",
       "      <th>Journey_Day</th>\n",
       "      <th>Journey_Month</th>\n",
       "      <th>Dep_Hour</th>\n",
       "      <th>Dep_Min</th>\n",
       "    </tr>\n",
       "  </thead>\n",
       "  <tbody>\n",
       "    <tr>\n",
       "      <th>0</th>\n",
       "      <td>IndiGo</td>\n",
       "      <td>Banglore</td>\n",
       "      <td>Delhi</td>\n",
       "      <td>BLR → DEL</td>\n",
       "      <td>01:10 22 Mar</td>\n",
       "      <td>2h 50m</td>\n",
       "      <td>non-stop</td>\n",
       "      <td>No info</td>\n",
       "      <td>3897</td>\n",
       "      <td>24</td>\n",
       "      <td>3</td>\n",
       "      <td>22</td>\n",
       "      <td>20</td>\n",
       "    </tr>\n",
       "  </tbody>\n",
       "</table>\n",
       "</div>"
      ],
      "text/plain": [
       "  Airline    Source Destination      Route  Arrival_Time Duration Total_Stops  \\\n",
       "0  IndiGo  Banglore       Delhi  BLR → DEL  01:10 22 Mar   2h 50m    non-stop   \n",
       "\n",
       "  Additional_Info  Price  Journey_Day  Journey_Month  Dep_Hour  Dep_Min  \n",
       "0         No info   3897           24              3        22       20  "
      ]
     },
     "execution_count": 29,
     "metadata": {},
     "output_type": "execute_result"
    }
   ],
   "source": [
    "trainset.head(1)"
   ]
  },
  {
   "cell_type": "markdown",
   "id": "b4da33a8",
   "metadata": {},
   "source": [
    "__Successfully dropped.__"
   ]
  },
  {
   "cell_type": "markdown",
   "id": "3477d051",
   "metadata": {},
   "source": [
    "__Now similarly, we can extract values from \"Arrival_Time\"__"
   ]
  },
  {
   "cell_type": "code",
   "execution_count": 30,
   "id": "33138019",
   "metadata": {},
   "outputs": [
    {
     "data": {
      "text/plain": [
       "0        01:10 22 Mar\n",
       "1               13:15\n",
       "2        04:25 10 Jun\n",
       "3               23:30\n",
       "4               21:35\n",
       "             ...     \n",
       "10678           22:25\n",
       "10679           23:20\n",
       "10680           11:20\n",
       "10681           14:10\n",
       "10682           19:15\n",
       "Name: Arrival_Time, Length: 10682, dtype: object"
      ]
     },
     "execution_count": 30,
     "metadata": {},
     "output_type": "execute_result"
    }
   ],
   "source": [
    "trainset.Arrival_Time"
   ]
  },
  {
   "cell_type": "code",
   "execution_count": 31,
   "id": "9b1af975",
   "metadata": {},
   "outputs": [],
   "source": [
    "# To extract the hour value\n",
    "\n",
    "trainset['Arrival_Hour']= pd.to_datetime(trainset.Arrival_Time).dt.hour"
   ]
  },
  {
   "cell_type": "code",
   "execution_count": 32,
   "id": "bd455c07",
   "metadata": {},
   "outputs": [],
   "source": [
    "# To extract the minute value\n",
    "\n",
    "trainset['Arrival_Min']= pd.to_datetime(trainset.Arrival_Time).dt.minute"
   ]
  },
  {
   "cell_type": "code",
   "execution_count": 33,
   "id": "8924b945",
   "metadata": {},
   "outputs": [
    {
     "data": {
      "text/html": [
       "<div>\n",
       "<style scoped>\n",
       "    .dataframe tbody tr th:only-of-type {\n",
       "        vertical-align: middle;\n",
       "    }\n",
       "\n",
       "    .dataframe tbody tr th {\n",
       "        vertical-align: top;\n",
       "    }\n",
       "\n",
       "    .dataframe thead th {\n",
       "        text-align: right;\n",
       "    }\n",
       "</style>\n",
       "<table border=\"1\" class=\"dataframe\">\n",
       "  <thead>\n",
       "    <tr style=\"text-align: right;\">\n",
       "      <th></th>\n",
       "      <th>Airline</th>\n",
       "      <th>Source</th>\n",
       "      <th>Destination</th>\n",
       "      <th>Route</th>\n",
       "      <th>Arrival_Time</th>\n",
       "      <th>Duration</th>\n",
       "      <th>Total_Stops</th>\n",
       "      <th>Additional_Info</th>\n",
       "      <th>Price</th>\n",
       "      <th>Journey_Day</th>\n",
       "      <th>Journey_Month</th>\n",
       "      <th>Dep_Hour</th>\n",
       "      <th>Dep_Min</th>\n",
       "      <th>Arrival_Hour</th>\n",
       "      <th>Arrival_Min</th>\n",
       "    </tr>\n",
       "  </thead>\n",
       "  <tbody>\n",
       "    <tr>\n",
       "      <th>0</th>\n",
       "      <td>IndiGo</td>\n",
       "      <td>Banglore</td>\n",
       "      <td>Delhi</td>\n",
       "      <td>BLR → DEL</td>\n",
       "      <td>01:10 22 Mar</td>\n",
       "      <td>2h 50m</td>\n",
       "      <td>non-stop</td>\n",
       "      <td>No info</td>\n",
       "      <td>3897</td>\n",
       "      <td>24</td>\n",
       "      <td>3</td>\n",
       "      <td>22</td>\n",
       "      <td>20</td>\n",
       "      <td>1</td>\n",
       "      <td>10</td>\n",
       "    </tr>\n",
       "    <tr>\n",
       "      <th>1</th>\n",
       "      <td>Air India</td>\n",
       "      <td>Kolkata</td>\n",
       "      <td>Banglore</td>\n",
       "      <td>CCU → IXR → BBI → BLR</td>\n",
       "      <td>13:15</td>\n",
       "      <td>7h 25m</td>\n",
       "      <td>2 stops</td>\n",
       "      <td>No info</td>\n",
       "      <td>7662</td>\n",
       "      <td>1</td>\n",
       "      <td>5</td>\n",
       "      <td>5</td>\n",
       "      <td>50</td>\n",
       "      <td>13</td>\n",
       "      <td>15</td>\n",
       "    </tr>\n",
       "    <tr>\n",
       "      <th>2</th>\n",
       "      <td>Jet Airways</td>\n",
       "      <td>Delhi</td>\n",
       "      <td>Cochin</td>\n",
       "      <td>DEL → LKO → BOM → COK</td>\n",
       "      <td>04:25 10 Jun</td>\n",
       "      <td>19h</td>\n",
       "      <td>2 stops</td>\n",
       "      <td>No info</td>\n",
       "      <td>13882</td>\n",
       "      <td>9</td>\n",
       "      <td>6</td>\n",
       "      <td>9</td>\n",
       "      <td>25</td>\n",
       "      <td>4</td>\n",
       "      <td>25</td>\n",
       "    </tr>\n",
       "    <tr>\n",
       "      <th>3</th>\n",
       "      <td>IndiGo</td>\n",
       "      <td>Kolkata</td>\n",
       "      <td>Banglore</td>\n",
       "      <td>CCU → NAG → BLR</td>\n",
       "      <td>23:30</td>\n",
       "      <td>5h 25m</td>\n",
       "      <td>1 stop</td>\n",
       "      <td>No info</td>\n",
       "      <td>6218</td>\n",
       "      <td>12</td>\n",
       "      <td>5</td>\n",
       "      <td>18</td>\n",
       "      <td>5</td>\n",
       "      <td>23</td>\n",
       "      <td>30</td>\n",
       "    </tr>\n",
       "    <tr>\n",
       "      <th>4</th>\n",
       "      <td>IndiGo</td>\n",
       "      <td>Banglore</td>\n",
       "      <td>Delhi</td>\n",
       "      <td>BLR → NAG → DEL</td>\n",
       "      <td>21:35</td>\n",
       "      <td>4h 45m</td>\n",
       "      <td>1 stop</td>\n",
       "      <td>No info</td>\n",
       "      <td>13302</td>\n",
       "      <td>1</td>\n",
       "      <td>3</td>\n",
       "      <td>16</td>\n",
       "      <td>50</td>\n",
       "      <td>21</td>\n",
       "      <td>35</td>\n",
       "    </tr>\n",
       "  </tbody>\n",
       "</table>\n",
       "</div>"
      ],
      "text/plain": [
       "       Airline    Source Destination                  Route  Arrival_Time  \\\n",
       "0       IndiGo  Banglore       Delhi              BLR → DEL  01:10 22 Mar   \n",
       "1    Air India   Kolkata    Banglore  CCU → IXR → BBI → BLR         13:15   \n",
       "2  Jet Airways     Delhi      Cochin  DEL → LKO → BOM → COK  04:25 10 Jun   \n",
       "3       IndiGo   Kolkata    Banglore        CCU → NAG → BLR         23:30   \n",
       "4       IndiGo  Banglore       Delhi        BLR → NAG → DEL         21:35   \n",
       "\n",
       "  Duration Total_Stops Additional_Info  Price  Journey_Day  Journey_Month  \\\n",
       "0   2h 50m    non-stop         No info   3897           24              3   \n",
       "1   7h 25m     2 stops         No info   7662            1              5   \n",
       "2      19h     2 stops         No info  13882            9              6   \n",
       "3   5h 25m      1 stop         No info   6218           12              5   \n",
       "4   4h 45m      1 stop         No info  13302            1              3   \n",
       "\n",
       "   Dep_Hour  Dep_Min  Arrival_Hour  Arrival_Min  \n",
       "0        22       20             1           10  \n",
       "1         5       50            13           15  \n",
       "2         9       25             4           25  \n",
       "3        18        5            23           30  \n",
       "4        16       50            21           35  "
      ]
     },
     "execution_count": 33,
     "metadata": {},
     "output_type": "execute_result"
    }
   ],
   "source": [
    "trainset.head()"
   ]
  },
  {
   "cell_type": "markdown",
   "id": "f6a38dde",
   "metadata": {},
   "source": [
    "__2 Separate columns for hour and minute of arrival are added to the train dataset.__\n",
    "\n",
    "__Hence, \"Arrival_Time\" can be dropped.__"
   ]
  },
  {
   "cell_type": "code",
   "execution_count": 34,
   "id": "54990ff4",
   "metadata": {},
   "outputs": [],
   "source": [
    "trainset.drop(['Arrival_Time'],axis=1,inplace=True)"
   ]
  },
  {
   "cell_type": "code",
   "execution_count": 35,
   "id": "bad85e19",
   "metadata": {},
   "outputs": [
    {
     "data": {
      "text/html": [
       "<div>\n",
       "<style scoped>\n",
       "    .dataframe tbody tr th:only-of-type {\n",
       "        vertical-align: middle;\n",
       "    }\n",
       "\n",
       "    .dataframe tbody tr th {\n",
       "        vertical-align: top;\n",
       "    }\n",
       "\n",
       "    .dataframe thead th {\n",
       "        text-align: right;\n",
       "    }\n",
       "</style>\n",
       "<table border=\"1\" class=\"dataframe\">\n",
       "  <thead>\n",
       "    <tr style=\"text-align: right;\">\n",
       "      <th></th>\n",
       "      <th>Airline</th>\n",
       "      <th>Source</th>\n",
       "      <th>Destination</th>\n",
       "      <th>Route</th>\n",
       "      <th>Duration</th>\n",
       "      <th>Total_Stops</th>\n",
       "      <th>Additional_Info</th>\n",
       "      <th>Price</th>\n",
       "      <th>Journey_Day</th>\n",
       "      <th>Journey_Month</th>\n",
       "      <th>Dep_Hour</th>\n",
       "      <th>Dep_Min</th>\n",
       "      <th>Arrival_Hour</th>\n",
       "      <th>Arrival_Min</th>\n",
       "    </tr>\n",
       "  </thead>\n",
       "  <tbody>\n",
       "    <tr>\n",
       "      <th>0</th>\n",
       "      <td>IndiGo</td>\n",
       "      <td>Banglore</td>\n",
       "      <td>Delhi</td>\n",
       "      <td>BLR → DEL</td>\n",
       "      <td>2h 50m</td>\n",
       "      <td>non-stop</td>\n",
       "      <td>No info</td>\n",
       "      <td>3897</td>\n",
       "      <td>24</td>\n",
       "      <td>3</td>\n",
       "      <td>22</td>\n",
       "      <td>20</td>\n",
       "      <td>1</td>\n",
       "      <td>10</td>\n",
       "    </tr>\n",
       "  </tbody>\n",
       "</table>\n",
       "</div>"
      ],
      "text/plain": [
       "  Airline    Source Destination      Route Duration Total_Stops  \\\n",
       "0  IndiGo  Banglore       Delhi  BLR → DEL   2h 50m    non-stop   \n",
       "\n",
       "  Additional_Info  Price  Journey_Day  Journey_Month  Dep_Hour  Dep_Min  \\\n",
       "0         No info   3897           24              3        22       20   \n",
       "\n",
       "   Arrival_Hour  Arrival_Min  \n",
       "0             1           10  "
      ]
     },
     "execution_count": 35,
     "metadata": {},
     "output_type": "execute_result"
    }
   ],
   "source": [
    "trainset.head(1)"
   ]
  },
  {
   "cell_type": "markdown",
   "id": "661c7a19",
   "metadata": {},
   "source": [
    "__Successfully dropped.__"
   ]
  },
  {
   "cell_type": "markdown",
   "id": "7ea6a5a9",
   "metadata": {},
   "source": [
    "__Now we have to extract values from \"Duration\".__"
   ]
  },
  {
   "cell_type": "code",
   "execution_count": 36,
   "id": "e997708d",
   "metadata": {},
   "outputs": [],
   "source": [
    "# First assigning Duration column values into a list :\n",
    "\n",
    "duration=list(trainset['Duration'])"
   ]
  },
  {
   "cell_type": "code",
   "execution_count": 37,
   "id": "bb507d23",
   "metadata": {},
   "outputs": [],
   "source": [
    "duration = list(trainset[\"Duration\"])\n",
    "\n",
    "for i in range(len(duration)):\n",
    "    if len(duration[i].split()) != 2:    # Check if duration contains only hour or mins\n",
    "        if \"h\" in duration[i]:\n",
    "            duration[i] = duration[i].strip() + \" 0m\"   # Adds 0 minute\n",
    "        else:\n",
    "            duration[i] = \"0h \" + duration[i]           # Adds 0 hour\n",
    "\n",
    "duration_hours = []\n",
    "duration_mins = []\n",
    "for i in range(len(duration)):\n",
    "    duration_hours.append(int(duration[i].split(sep = \"h\")[0])) # Extract hours from duration\n",
    "    duration_mins.append(int(duration[i].split(sep = \"m\")[0].split()[-1])) \n",
    "    # Extracts minutes from duration"
   ]
  },
  {
   "cell_type": "code",
   "execution_count": 38,
   "id": "573841e6",
   "metadata": {},
   "outputs": [],
   "source": [
    "trainset[\"Duration_hours\"] = duration_hours\n",
    "trainset[\"Duration_mins\"] = duration_mins"
   ]
  },
  {
   "cell_type": "code",
   "execution_count": 39,
   "id": "bc2eee83",
   "metadata": {},
   "outputs": [
    {
     "data": {
      "text/html": [
       "<div>\n",
       "<style scoped>\n",
       "    .dataframe tbody tr th:only-of-type {\n",
       "        vertical-align: middle;\n",
       "    }\n",
       "\n",
       "    .dataframe tbody tr th {\n",
       "        vertical-align: top;\n",
       "    }\n",
       "\n",
       "    .dataframe thead th {\n",
       "        text-align: right;\n",
       "    }\n",
       "</style>\n",
       "<table border=\"1\" class=\"dataframe\">\n",
       "  <thead>\n",
       "    <tr style=\"text-align: right;\">\n",
       "      <th></th>\n",
       "      <th>Airline</th>\n",
       "      <th>Source</th>\n",
       "      <th>Destination</th>\n",
       "      <th>Route</th>\n",
       "      <th>Duration</th>\n",
       "      <th>Total_Stops</th>\n",
       "      <th>Additional_Info</th>\n",
       "      <th>Price</th>\n",
       "      <th>Journey_Day</th>\n",
       "      <th>Journey_Month</th>\n",
       "      <th>Dep_Hour</th>\n",
       "      <th>Dep_Min</th>\n",
       "      <th>Arrival_Hour</th>\n",
       "      <th>Arrival_Min</th>\n",
       "      <th>Duration_hours</th>\n",
       "      <th>Duration_mins</th>\n",
       "    </tr>\n",
       "  </thead>\n",
       "  <tbody>\n",
       "    <tr>\n",
       "      <th>0</th>\n",
       "      <td>IndiGo</td>\n",
       "      <td>Banglore</td>\n",
       "      <td>Delhi</td>\n",
       "      <td>BLR → DEL</td>\n",
       "      <td>2h 50m</td>\n",
       "      <td>non-stop</td>\n",
       "      <td>No info</td>\n",
       "      <td>3897</td>\n",
       "      <td>24</td>\n",
       "      <td>3</td>\n",
       "      <td>22</td>\n",
       "      <td>20</td>\n",
       "      <td>1</td>\n",
       "      <td>10</td>\n",
       "      <td>2</td>\n",
       "      <td>50</td>\n",
       "    </tr>\n",
       "    <tr>\n",
       "      <th>1</th>\n",
       "      <td>Air India</td>\n",
       "      <td>Kolkata</td>\n",
       "      <td>Banglore</td>\n",
       "      <td>CCU → IXR → BBI → BLR</td>\n",
       "      <td>7h 25m</td>\n",
       "      <td>2 stops</td>\n",
       "      <td>No info</td>\n",
       "      <td>7662</td>\n",
       "      <td>1</td>\n",
       "      <td>5</td>\n",
       "      <td>5</td>\n",
       "      <td>50</td>\n",
       "      <td>13</td>\n",
       "      <td>15</td>\n",
       "      <td>7</td>\n",
       "      <td>25</td>\n",
       "    </tr>\n",
       "    <tr>\n",
       "      <th>2</th>\n",
       "      <td>Jet Airways</td>\n",
       "      <td>Delhi</td>\n",
       "      <td>Cochin</td>\n",
       "      <td>DEL → LKO → BOM → COK</td>\n",
       "      <td>19h</td>\n",
       "      <td>2 stops</td>\n",
       "      <td>No info</td>\n",
       "      <td>13882</td>\n",
       "      <td>9</td>\n",
       "      <td>6</td>\n",
       "      <td>9</td>\n",
       "      <td>25</td>\n",
       "      <td>4</td>\n",
       "      <td>25</td>\n",
       "      <td>19</td>\n",
       "      <td>0</td>\n",
       "    </tr>\n",
       "    <tr>\n",
       "      <th>3</th>\n",
       "      <td>IndiGo</td>\n",
       "      <td>Kolkata</td>\n",
       "      <td>Banglore</td>\n",
       "      <td>CCU → NAG → BLR</td>\n",
       "      <td>5h 25m</td>\n",
       "      <td>1 stop</td>\n",
       "      <td>No info</td>\n",
       "      <td>6218</td>\n",
       "      <td>12</td>\n",
       "      <td>5</td>\n",
       "      <td>18</td>\n",
       "      <td>5</td>\n",
       "      <td>23</td>\n",
       "      <td>30</td>\n",
       "      <td>5</td>\n",
       "      <td>25</td>\n",
       "    </tr>\n",
       "    <tr>\n",
       "      <th>4</th>\n",
       "      <td>IndiGo</td>\n",
       "      <td>Banglore</td>\n",
       "      <td>Delhi</td>\n",
       "      <td>BLR → NAG → DEL</td>\n",
       "      <td>4h 45m</td>\n",
       "      <td>1 stop</td>\n",
       "      <td>No info</td>\n",
       "      <td>13302</td>\n",
       "      <td>1</td>\n",
       "      <td>3</td>\n",
       "      <td>16</td>\n",
       "      <td>50</td>\n",
       "      <td>21</td>\n",
       "      <td>35</td>\n",
       "      <td>4</td>\n",
       "      <td>45</td>\n",
       "    </tr>\n",
       "  </tbody>\n",
       "</table>\n",
       "</div>"
      ],
      "text/plain": [
       "       Airline    Source Destination                  Route Duration  \\\n",
       "0       IndiGo  Banglore       Delhi              BLR → DEL   2h 50m   \n",
       "1    Air India   Kolkata    Banglore  CCU → IXR → BBI → BLR   7h 25m   \n",
       "2  Jet Airways     Delhi      Cochin  DEL → LKO → BOM → COK      19h   \n",
       "3       IndiGo   Kolkata    Banglore        CCU → NAG → BLR   5h 25m   \n",
       "4       IndiGo  Banglore       Delhi        BLR → NAG → DEL   4h 45m   \n",
       "\n",
       "  Total_Stops Additional_Info  Price  Journey_Day  Journey_Month  Dep_Hour  \\\n",
       "0    non-stop         No info   3897           24              3        22   \n",
       "1     2 stops         No info   7662            1              5         5   \n",
       "2     2 stops         No info  13882            9              6         9   \n",
       "3      1 stop         No info   6218           12              5        18   \n",
       "4      1 stop         No info  13302            1              3        16   \n",
       "\n",
       "   Dep_Min  Arrival_Hour  Arrival_Min  Duration_hours  Duration_mins  \n",
       "0       20             1           10               2             50  \n",
       "1       50            13           15               7             25  \n",
       "2       25             4           25              19              0  \n",
       "3        5            23           30               5             25  \n",
       "4       50            21           35               4             45  "
      ]
     },
     "execution_count": 39,
     "metadata": {},
     "output_type": "execute_result"
    }
   ],
   "source": [
    "trainset.head()"
   ]
  },
  {
   "cell_type": "markdown",
   "id": "5073d361",
   "metadata": {},
   "source": [
    "__2 Separate columns for hour and minute of duration are added to the train dataset.__\n",
    "\n",
    "__Hence, \"Duration\" can be dropped.__"
   ]
  },
  {
   "cell_type": "code",
   "execution_count": 40,
   "id": "6239b7be",
   "metadata": {},
   "outputs": [],
   "source": [
    "trainset.drop(['Duration'],axis=1,inplace=True)"
   ]
  },
  {
   "cell_type": "code",
   "execution_count": 41,
   "id": "360a2c93",
   "metadata": {},
   "outputs": [
    {
     "data": {
      "text/html": [
       "<div>\n",
       "<style scoped>\n",
       "    .dataframe tbody tr th:only-of-type {\n",
       "        vertical-align: middle;\n",
       "    }\n",
       "\n",
       "    .dataframe tbody tr th {\n",
       "        vertical-align: top;\n",
       "    }\n",
       "\n",
       "    .dataframe thead th {\n",
       "        text-align: right;\n",
       "    }\n",
       "</style>\n",
       "<table border=\"1\" class=\"dataframe\">\n",
       "  <thead>\n",
       "    <tr style=\"text-align: right;\">\n",
       "      <th></th>\n",
       "      <th>Airline</th>\n",
       "      <th>Source</th>\n",
       "      <th>Destination</th>\n",
       "      <th>Route</th>\n",
       "      <th>Total_Stops</th>\n",
       "      <th>Additional_Info</th>\n",
       "      <th>Price</th>\n",
       "      <th>Journey_Day</th>\n",
       "      <th>Journey_Month</th>\n",
       "      <th>Dep_Hour</th>\n",
       "      <th>Dep_Min</th>\n",
       "      <th>Arrival_Hour</th>\n",
       "      <th>Arrival_Min</th>\n",
       "      <th>Duration_hours</th>\n",
       "      <th>Duration_mins</th>\n",
       "    </tr>\n",
       "  </thead>\n",
       "  <tbody>\n",
       "    <tr>\n",
       "      <th>0</th>\n",
       "      <td>IndiGo</td>\n",
       "      <td>Banglore</td>\n",
       "      <td>Delhi</td>\n",
       "      <td>BLR → DEL</td>\n",
       "      <td>non-stop</td>\n",
       "      <td>No info</td>\n",
       "      <td>3897</td>\n",
       "      <td>24</td>\n",
       "      <td>3</td>\n",
       "      <td>22</td>\n",
       "      <td>20</td>\n",
       "      <td>1</td>\n",
       "      <td>10</td>\n",
       "      <td>2</td>\n",
       "      <td>50</td>\n",
       "    </tr>\n",
       "  </tbody>\n",
       "</table>\n",
       "</div>"
      ],
      "text/plain": [
       "  Airline    Source Destination      Route Total_Stops Additional_Info  Price  \\\n",
       "0  IndiGo  Banglore       Delhi  BLR → DEL    non-stop         No info   3897   \n",
       "\n",
       "   Journey_Day  Journey_Month  Dep_Hour  Dep_Min  Arrival_Hour  Arrival_Min  \\\n",
       "0           24              3        22       20             1           10   \n",
       "\n",
       "   Duration_hours  Duration_mins  \n",
       "0               2             50  "
      ]
     },
     "execution_count": 41,
     "metadata": {},
     "output_type": "execute_result"
    }
   ],
   "source": [
    "trainset.head(1)"
   ]
  },
  {
   "cell_type": "markdown",
   "id": "cf28dc3b",
   "metadata": {},
   "source": [
    "__Successfully dropped.__"
   ]
  },
  {
   "cell_type": "markdown",
   "id": "253e77b2",
   "metadata": {},
   "source": [
    "__Handling \"Total_Stops\" column :__"
   ]
  },
  {
   "cell_type": "code",
   "execution_count": 42,
   "id": "0cbfcd71",
   "metadata": {},
   "outputs": [
    {
     "data": {
      "text/plain": [
       "1 stop      5625\n",
       "non-stop    3491\n",
       "2 stops     1520\n",
       "3 stops       45\n",
       "4 stops        1\n",
       "Name: Total_Stops, dtype: int64"
      ]
     },
     "execution_count": 42,
     "metadata": {},
     "output_type": "execute_result"
    }
   ],
   "source": [
    "trainset.Total_Stops.value_counts()"
   ]
  },
  {
   "cell_type": "markdown",
   "id": "479c0c19",
   "metadata": {},
   "source": [
    "__Here we can observe 4 uniques values : non-stop, 1 stop, 2 stops, 3 stops, 4 stops.__\n",
    "    \n",
    "__We can replace these values with single digits for easy analysis, because while using label  encoder to convert them, it might assign random values.__"
   ]
  },
  {
   "cell_type": "code",
   "execution_count": 43,
   "id": "343bfecc",
   "metadata": {},
   "outputs": [],
   "source": [
    "trainset.Total_Stops.replace(['non-stop', '1 stop', '2 stops', '3 stops', '4 stops'],[0,1,2,3,4],inplace=True)"
   ]
  },
  {
   "cell_type": "code",
   "execution_count": 44,
   "id": "c257dd9c",
   "metadata": {},
   "outputs": [
    {
     "data": {
      "text/plain": [
       "1    5625\n",
       "0    3491\n",
       "2    1520\n",
       "3      45\n",
       "4       1\n",
       "Name: Total_Stops, dtype: int64"
      ]
     },
     "execution_count": 44,
     "metadata": {},
     "output_type": "execute_result"
    }
   ],
   "source": [
    "trainset.Total_Stops.value_counts()"
   ]
  },
  {
   "cell_type": "markdown",
   "id": "dbffcb7a",
   "metadata": {},
   "source": [
    "__Successfully replaced.__"
   ]
  },
  {
   "cell_type": "markdown",
   "id": "d3cc4ed9",
   "metadata": {},
   "source": [
    "# Handling Categorical Data :"
   ]
  },
  {
   "cell_type": "markdown",
   "id": "2e314ea5",
   "metadata": {},
   "source": [
    "We have 3 categorical features to handle :\n",
    "    \n",
    "    1. Airline\n",
    "    2. Source\n",
    "    3. Destination"
   ]
  },
  {
   "cell_type": "markdown",
   "id": "264bf99a",
   "metadata": {},
   "source": [
    "__\"Airline\" :__"
   ]
  },
  {
   "cell_type": "code",
   "execution_count": 45,
   "id": "ca3907a8",
   "metadata": {},
   "outputs": [
    {
     "data": {
      "text/plain": [
       "Jet Airways                          3849\n",
       "IndiGo                               2053\n",
       "Air India                            1751\n",
       "Multiple carriers                    1196\n",
       "SpiceJet                              818\n",
       "Vistara                               479\n",
       "Air Asia                              319\n",
       "GoAir                                 194\n",
       "Multiple carriers Premium economy      13\n",
       "Jet Airways Business                    6\n",
       "Vistara Premium economy                 3\n",
       "Trujet                                  1\n",
       "Name: Airline, dtype: int64"
      ]
     },
     "execution_count": 45,
     "metadata": {},
     "output_type": "execute_result"
    }
   ],
   "source": [
    "trainset.Airline.value_counts()"
   ]
  },
  {
   "cell_type": "markdown",
   "id": "2a55b9ca",
   "metadata": {},
   "source": [
    "__Here we can observe repeated values for some airlines, which are Jet Airways, Multiple carriers, and Vistara. Hence these can be replaced with one airline only.__"
   ]
  },
  {
   "cell_type": "code",
   "execution_count": 46,
   "id": "496a5d78",
   "metadata": {},
   "outputs": [],
   "source": [
    "trainset[\"Airline\"]=trainset[\"Airline\"].replace({'Jet Airways Business': 'Jet Airways'})\n",
    "trainset[\"Airline\"]=trainset[\"Airline\"].replace({'Multiple carriers Premium economy': 'Multiple carriers'})\n",
    "trainset[\"Airline\"]=trainset[\"Airline\"].replace({'Vistara Premium economy': 'Vistara'})"
   ]
  },
  {
   "cell_type": "code",
   "execution_count": 47,
   "id": "be86294c",
   "metadata": {},
   "outputs": [
    {
     "data": {
      "text/plain": [
       "Jet Airways          3855\n",
       "IndiGo               2053\n",
       "Air India            1751\n",
       "Multiple carriers    1209\n",
       "SpiceJet              818\n",
       "Vistara               482\n",
       "Air Asia              319\n",
       "GoAir                 194\n",
       "Trujet                  1\n",
       "Name: Airline, dtype: int64"
      ]
     },
     "execution_count": 47,
     "metadata": {},
     "output_type": "execute_result"
    }
   ],
   "source": [
    "trainset.Airline.value_counts()"
   ]
  },
  {
   "cell_type": "markdown",
   "id": "7d74e25a",
   "metadata": {},
   "source": [
    "__Successfully replaced.__"
   ]
  },
  {
   "cell_type": "markdown",
   "id": "adef2c30",
   "metadata": {},
   "source": [
    "__Here Airline is nominal data, that is, data is not in any specific order, hence we use OneHotEncoder.__"
   ]
  },
  {
   "cell_type": "code",
   "execution_count": 48,
   "id": "eda2cd43",
   "metadata": {},
   "outputs": [],
   "source": [
    "Airline=trainset['Airline']"
   ]
  },
  {
   "cell_type": "code",
   "execution_count": 49,
   "id": "c093704a",
   "metadata": {},
   "outputs": [
    {
     "data": {
      "text/html": [
       "<div>\n",
       "<style scoped>\n",
       "    .dataframe tbody tr th:only-of-type {\n",
       "        vertical-align: middle;\n",
       "    }\n",
       "\n",
       "    .dataframe tbody tr th {\n",
       "        vertical-align: top;\n",
       "    }\n",
       "\n",
       "    .dataframe thead th {\n",
       "        text-align: right;\n",
       "    }\n",
       "</style>\n",
       "<table border=\"1\" class=\"dataframe\">\n",
       "  <thead>\n",
       "    <tr style=\"text-align: right;\">\n",
       "      <th></th>\n",
       "      <th>Air India</th>\n",
       "      <th>GoAir</th>\n",
       "      <th>IndiGo</th>\n",
       "      <th>Jet Airways</th>\n",
       "      <th>Multiple carriers</th>\n",
       "      <th>SpiceJet</th>\n",
       "      <th>Trujet</th>\n",
       "      <th>Vistara</th>\n",
       "    </tr>\n",
       "  </thead>\n",
       "  <tbody>\n",
       "    <tr>\n",
       "      <th>0</th>\n",
       "      <td>0</td>\n",
       "      <td>0</td>\n",
       "      <td>1</td>\n",
       "      <td>0</td>\n",
       "      <td>0</td>\n",
       "      <td>0</td>\n",
       "      <td>0</td>\n",
       "      <td>0</td>\n",
       "    </tr>\n",
       "    <tr>\n",
       "      <th>1</th>\n",
       "      <td>1</td>\n",
       "      <td>0</td>\n",
       "      <td>0</td>\n",
       "      <td>0</td>\n",
       "      <td>0</td>\n",
       "      <td>0</td>\n",
       "      <td>0</td>\n",
       "      <td>0</td>\n",
       "    </tr>\n",
       "    <tr>\n",
       "      <th>2</th>\n",
       "      <td>0</td>\n",
       "      <td>0</td>\n",
       "      <td>0</td>\n",
       "      <td>1</td>\n",
       "      <td>0</td>\n",
       "      <td>0</td>\n",
       "      <td>0</td>\n",
       "      <td>0</td>\n",
       "    </tr>\n",
       "    <tr>\n",
       "      <th>3</th>\n",
       "      <td>0</td>\n",
       "      <td>0</td>\n",
       "      <td>1</td>\n",
       "      <td>0</td>\n",
       "      <td>0</td>\n",
       "      <td>0</td>\n",
       "      <td>0</td>\n",
       "      <td>0</td>\n",
       "    </tr>\n",
       "    <tr>\n",
       "      <th>4</th>\n",
       "      <td>0</td>\n",
       "      <td>0</td>\n",
       "      <td>1</td>\n",
       "      <td>0</td>\n",
       "      <td>0</td>\n",
       "      <td>0</td>\n",
       "      <td>0</td>\n",
       "      <td>0</td>\n",
       "    </tr>\n",
       "  </tbody>\n",
       "</table>\n",
       "</div>"
      ],
      "text/plain": [
       "   Air India  GoAir  IndiGo  Jet Airways  Multiple carriers  SpiceJet  Trujet  \\\n",
       "0          0      0       1            0                  0         0       0   \n",
       "1          1      0       0            0                  0         0       0   \n",
       "2          0      0       0            1                  0         0       0   \n",
       "3          0      0       1            0                  0         0       0   \n",
       "4          0      0       1            0                  0         0       0   \n",
       "\n",
       "   Vistara  \n",
       "0        0  \n",
       "1        0  \n",
       "2        0  \n",
       "3        0  \n",
       "4        0  "
      ]
     },
     "execution_count": 49,
     "metadata": {},
     "output_type": "execute_result"
    }
   ],
   "source": [
    "Airline=pd.get_dummies(Airline,drop_first=True)\n",
    "Airline.head()"
   ]
  },
  {
   "cell_type": "markdown",
   "id": "19d3a588",
   "metadata": {},
   "source": [
    "__And we obtained separate columns for all the airlines.__"
   ]
  },
  {
   "cell_type": "code",
   "execution_count": 50,
   "id": "321be86d",
   "metadata": {},
   "outputs": [],
   "source": [
    "import matplotlib.pyplot as plt"
   ]
  },
  {
   "cell_type": "code",
   "execution_count": 51,
   "id": "5181f622",
   "metadata": {},
   "outputs": [
    {
     "data": {
      "image/png": "[encoded data removed]",
      "text/plain": [
       "<Figure size 1296x432 with 1 Axes>"
      ]
     },
     "metadata": {
      "needs_background": "light"
     },
     "output_type": "display_data"
    }
   ],
   "source": [
    "# Airline vs Price\n",
    "\n",
    "sns.catplot(y = \"Price\", x = \"Airline\", data = trainset.sort_values(\"Price\", ascending = False), kind=\"boxen\", height = 6, aspect = 3)\n",
    "plt.show()"
   ]
  },
  {
   "cell_type": "markdown",
   "id": "a6bdb3c1",
   "metadata": {},
   "source": [
    "__\"Source\" :__"
   ]
  },
  {
   "cell_type": "code",
   "execution_count": 52,
   "id": "4f4cbac7",
   "metadata": {},
   "outputs": [
    {
     "data": {
      "text/plain": [
       "Delhi       4536\n",
       "Kolkata     2871\n",
       "Banglore    2197\n",
       "Mumbai       697\n",
       "Chennai      381\n",
       "Name: Source, dtype: int64"
      ]
     },
     "execution_count": 52,
     "metadata": {},
     "output_type": "execute_result"
    }
   ],
   "source": [
    "trainset.Source.value_counts()"
   ]
  },
  {
   "cell_type": "code",
   "execution_count": 53,
   "id": "e60dcab8",
   "metadata": {},
   "outputs": [
    {
     "data": {
      "image/png": "[encoded data removed]",
      "text/plain": [
       "<Figure size 1296x432 with 1 Axes>"
      ]
     },
     "metadata": {
      "needs_background": "light"
     },
     "output_type": "display_data"
    }
   ],
   "source": [
    "# Source vs Price\n",
    "\n",
    "sns.catplot(y = \"Price\", x = \"Source\", data = trainset.sort_values(\"Price\", ascending = False), kind=\"boxen\", height = 6, aspect = 3)\n",
    "plt.show()"
   ]
  },
  {
   "cell_type": "code",
   "execution_count": 54,
   "id": "c908de4f",
   "metadata": {},
   "outputs": [
    {
     "data": {
      "text/html": [
       "<div>\n",
       "<style scoped>\n",
       "    .dataframe tbody tr th:only-of-type {\n",
       "        vertical-align: middle;\n",
       "    }\n",
       "\n",
       "    .dataframe tbody tr th {\n",
       "        vertical-align: top;\n",
       "    }\n",
       "\n",
       "    .dataframe thead th {\n",
       "        text-align: right;\n",
       "    }\n",
       "</style>\n",
       "<table border=\"1\" class=\"dataframe\">\n",
       "  <thead>\n",
       "    <tr style=\"text-align: right;\">\n",
       "      <th></th>\n",
       "      <th>Chennai</th>\n",
       "      <th>Delhi</th>\n",
       "      <th>Kolkata</th>\n",
       "      <th>Mumbai</th>\n",
       "    </tr>\n",
       "  </thead>\n",
       "  <tbody>\n",
       "    <tr>\n",
       "      <th>0</th>\n",
       "      <td>0</td>\n",
       "      <td>0</td>\n",
       "      <td>0</td>\n",
       "      <td>0</td>\n",
       "    </tr>\n",
       "    <tr>\n",
       "      <th>1</th>\n",
       "      <td>0</td>\n",
       "      <td>0</td>\n",
       "      <td>1</td>\n",
       "      <td>0</td>\n",
       "    </tr>\n",
       "    <tr>\n",
       "      <th>2</th>\n",
       "      <td>0</td>\n",
       "      <td>1</td>\n",
       "      <td>0</td>\n",
       "      <td>0</td>\n",
       "    </tr>\n",
       "    <tr>\n",
       "      <th>3</th>\n",
       "      <td>0</td>\n",
       "      <td>0</td>\n",
       "      <td>1</td>\n",
       "      <td>0</td>\n",
       "    </tr>\n",
       "    <tr>\n",
       "      <th>4</th>\n",
       "      <td>0</td>\n",
       "      <td>0</td>\n",
       "      <td>0</td>\n",
       "      <td>0</td>\n",
       "    </tr>\n",
       "  </tbody>\n",
       "</table>\n",
       "</div>"
      ],
      "text/plain": [
       "   Chennai  Delhi  Kolkata  Mumbai\n",
       "0        0      0        0       0\n",
       "1        0      0        1       0\n",
       "2        0      1        0       0\n",
       "3        0      0        1       0\n",
       "4        0      0        0       0"
      ]
     },
     "execution_count": 54,
     "metadata": {},
     "output_type": "execute_result"
    }
   ],
   "source": [
    "Source=trainset['Source']\n",
    "Source=pd.get_dummies(Source,drop_first=True)\n",
    "Source.head()"
   ]
  },
  {
   "cell_type": "markdown",
   "id": "7b79eb0f",
   "metadata": {},
   "source": [
    "__And we obtained separate columns for all the source places.__"
   ]
  },
  {
   "cell_type": "markdown",
   "id": "236fa4f7",
   "metadata": {},
   "source": [
    "__\"Destination\" :__"
   ]
  },
  {
   "cell_type": "code",
   "execution_count": 55,
   "id": "3c276a89",
   "metadata": {},
   "outputs": [
    {
     "data": {
      "text/plain": [
       "Cochin       4536\n",
       "Banglore     2871\n",
       "Delhi        2197\n",
       "Hyderabad     697\n",
       "Kolkata       381\n",
       "Name: Destination, dtype: int64"
      ]
     },
     "execution_count": 55,
     "metadata": {},
     "output_type": "execute_result"
    }
   ],
   "source": [
    "trainset.Destination.value_counts()"
   ]
  },
  {
   "cell_type": "code",
   "execution_count": 56,
   "id": "1c3a255d",
   "metadata": {},
   "outputs": [
    {
     "data": {
      "image/png": "[encoded data removed]",
      "text/plain": [
       "<Figure size 1296x432 with 1 Axes>"
      ]
     },
     "metadata": {
      "needs_background": "light"
     },
     "output_type": "display_data"
    }
   ],
   "source": [
    "# Destination vs Price\n",
    "\n",
    "sns.catplot(y = \"Price\", x = \"Destination\", data = trainset.sort_values(\"Price\", ascending = False), kind=\"boxen\", height = 6, aspect = 3)\n",
    "plt.show()"
   ]
  },
  {
   "cell_type": "code",
   "execution_count": 57,
   "id": "cc3871dc",
   "metadata": {},
   "outputs": [
    {
     "data": {
      "text/html": [
       "<div>\n",
       "<style scoped>\n",
       "    .dataframe tbody tr th:only-of-type {\n",
       "        vertical-align: middle;\n",
       "    }\n",
       "\n",
       "    .dataframe tbody tr th {\n",
       "        vertical-align: top;\n",
       "    }\n",
       "\n",
       "    .dataframe thead th {\n",
       "        text-align: right;\n",
       "    }\n",
       "</style>\n",
       "<table border=\"1\" class=\"dataframe\">\n",
       "  <thead>\n",
       "    <tr style=\"text-align: right;\">\n",
       "      <th></th>\n",
       "      <th>Cochin</th>\n",
       "      <th>Delhi</th>\n",
       "      <th>Hyderabad</th>\n",
       "      <th>Kolkata</th>\n",
       "    </tr>\n",
       "  </thead>\n",
       "  <tbody>\n",
       "    <tr>\n",
       "      <th>0</th>\n",
       "      <td>0</td>\n",
       "      <td>1</td>\n",
       "      <td>0</td>\n",
       "      <td>0</td>\n",
       "    </tr>\n",
       "    <tr>\n",
       "      <th>1</th>\n",
       "      <td>0</td>\n",
       "      <td>0</td>\n",
       "      <td>0</td>\n",
       "      <td>0</td>\n",
       "    </tr>\n",
       "    <tr>\n",
       "      <th>2</th>\n",
       "      <td>1</td>\n",
       "      <td>0</td>\n",
       "      <td>0</td>\n",
       "      <td>0</td>\n",
       "    </tr>\n",
       "    <tr>\n",
       "      <th>3</th>\n",
       "      <td>0</td>\n",
       "      <td>0</td>\n",
       "      <td>0</td>\n",
       "      <td>0</td>\n",
       "    </tr>\n",
       "    <tr>\n",
       "      <th>4</th>\n",
       "      <td>0</td>\n",
       "      <td>1</td>\n",
       "      <td>0</td>\n",
       "      <td>0</td>\n",
       "    </tr>\n",
       "  </tbody>\n",
       "</table>\n",
       "</div>"
      ],
      "text/plain": [
       "   Cochin  Delhi  Hyderabad  Kolkata\n",
       "0       0      1          0        0\n",
       "1       0      0          0        0\n",
       "2       1      0          0        0\n",
       "3       0      0          0        0\n",
       "4       0      1          0        0"
      ]
     },
     "execution_count": 57,
     "metadata": {},
     "output_type": "execute_result"
    }
   ],
   "source": [
    "Destination=trainset['Destination']\n",
    "Destination=pd.get_dummies(Destination,drop_first=True)\n",
    "Destination.head()"
   ]
  },
  {
   "cell_type": "markdown",
   "id": "956073bf",
   "metadata": {},
   "source": [
    "__And we obtained separate columns for all the destination places.__"
   ]
  },
  {
   "cell_type": "markdown",
   "id": "8a1c9aea",
   "metadata": {},
   "source": [
    "__Now lets merge all the 3 dataframes into our train dataset :__"
   ]
  },
  {
   "cell_type": "code",
   "execution_count": 58,
   "id": "9408081f",
   "metadata": {},
   "outputs": [],
   "source": [
    "trainset=pd.concat([trainset,Airline,Source,Destination],axis=1)"
   ]
  },
  {
   "cell_type": "code",
   "execution_count": 59,
   "id": "539b005a",
   "metadata": {},
   "outputs": [
    {
     "data": {
      "text/html": [
       "<div>\n",
       "<style scoped>\n",
       "    .dataframe tbody tr th:only-of-type {\n",
       "        vertical-align: middle;\n",
       "    }\n",
       "\n",
       "    .dataframe tbody tr th {\n",
       "        vertical-align: top;\n",
       "    }\n",
       "\n",
       "    .dataframe thead th {\n",
       "        text-align: right;\n",
       "    }\n",
       "</style>\n",
       "<table border=\"1\" class=\"dataframe\">\n",
       "  <thead>\n",
       "    <tr style=\"text-align: right;\">\n",
       "      <th></th>\n",
       "      <th>Airline</th>\n",
       "      <th>Source</th>\n",
       "      <th>Destination</th>\n",
       "      <th>Route</th>\n",
       "      <th>Total_Stops</th>\n",
       "      <th>Additional_Info</th>\n",
       "      <th>Price</th>\n",
       "      <th>Journey_Day</th>\n",
       "      <th>Journey_Month</th>\n",
       "      <th>Dep_Hour</th>\n",
       "      <th>...</th>\n",
       "      <th>Trujet</th>\n",
       "      <th>Vistara</th>\n",
       "      <th>Chennai</th>\n",
       "      <th>Delhi</th>\n",
       "      <th>Kolkata</th>\n",
       "      <th>Mumbai</th>\n",
       "      <th>Cochin</th>\n",
       "      <th>Delhi</th>\n",
       "      <th>Hyderabad</th>\n",
       "      <th>Kolkata</th>\n",
       "    </tr>\n",
       "  </thead>\n",
       "  <tbody>\n",
       "    <tr>\n",
       "      <th>0</th>\n",
       "      <td>IndiGo</td>\n",
       "      <td>Banglore</td>\n",
       "      <td>Delhi</td>\n",
       "      <td>BLR → DEL</td>\n",
       "      <td>0</td>\n",
       "      <td>No info</td>\n",
       "      <td>3897</td>\n",
       "      <td>24</td>\n",
       "      <td>3</td>\n",
       "      <td>22</td>\n",
       "      <td>...</td>\n",
       "      <td>0</td>\n",
       "      <td>0</td>\n",
       "      <td>0</td>\n",
       "      <td>0</td>\n",
       "      <td>0</td>\n",
       "      <td>0</td>\n",
       "      <td>0</td>\n",
       "      <td>1</td>\n",
       "      <td>0</td>\n",
       "      <td>0</td>\n",
       "    </tr>\n",
       "    <tr>\n",
       "      <th>1</th>\n",
       "      <td>Air India</td>\n",
       "      <td>Kolkata</td>\n",
       "      <td>Banglore</td>\n",
       "      <td>CCU → IXR → BBI → BLR</td>\n",
       "      <td>2</td>\n",
       "      <td>No info</td>\n",
       "      <td>7662</td>\n",
       "      <td>1</td>\n",
       "      <td>5</td>\n",
       "      <td>5</td>\n",
       "      <td>...</td>\n",
       "      <td>0</td>\n",
       "      <td>0</td>\n",
       "      <td>0</td>\n",
       "      <td>0</td>\n",
       "      <td>1</td>\n",
       "      <td>0</td>\n",
       "      <td>0</td>\n",
       "      <td>0</td>\n",
       "      <td>0</td>\n",
       "      <td>0</td>\n",
       "    </tr>\n",
       "    <tr>\n",
       "      <th>2</th>\n",
       "      <td>Jet Airways</td>\n",
       "      <td>Delhi</td>\n",
       "      <td>Cochin</td>\n",
       "      <td>DEL → LKO → BOM → COK</td>\n",
       "      <td>2</td>\n",
       "      <td>No info</td>\n",
       "      <td>13882</td>\n",
       "      <td>9</td>\n",
       "      <td>6</td>\n",
       "      <td>9</td>\n",
       "      <td>...</td>\n",
       "      <td>0</td>\n",
       "      <td>0</td>\n",
       "      <td>0</td>\n",
       "      <td>1</td>\n",
       "      <td>0</td>\n",
       "      <td>0</td>\n",
       "      <td>1</td>\n",
       "      <td>0</td>\n",
       "      <td>0</td>\n",
       "      <td>0</td>\n",
       "    </tr>\n",
       "    <tr>\n",
       "      <th>3</th>\n",
       "      <td>IndiGo</td>\n",
       "      <td>Kolkata</td>\n",
       "      <td>Banglore</td>\n",
       "      <td>CCU → NAG → BLR</td>\n",
       "      <td>1</td>\n",
       "      <td>No info</td>\n",
       "      <td>6218</td>\n",
       "      <td>12</td>\n",
       "      <td>5</td>\n",
       "      <td>18</td>\n",
       "      <td>...</td>\n",
       "      <td>0</td>\n",
       "      <td>0</td>\n",
       "      <td>0</td>\n",
       "      <td>0</td>\n",
       "      <td>1</td>\n",
       "      <td>0</td>\n",
       "      <td>0</td>\n",
       "      <td>0</td>\n",
       "      <td>0</td>\n",
       "      <td>0</td>\n",
       "    </tr>\n",
       "    <tr>\n",
       "      <th>4</th>\n",
       "      <td>IndiGo</td>\n",
       "      <td>Banglore</td>\n",
       "      <td>Delhi</td>\n",
       "      <td>BLR → NAG → DEL</td>\n",
       "      <td>1</td>\n",
       "      <td>No info</td>\n",
       "      <td>13302</td>\n",
       "      <td>1</td>\n",
       "      <td>3</td>\n",
       "      <td>16</td>\n",
       "      <td>...</td>\n",
       "      <td>0</td>\n",
       "      <td>0</td>\n",
       "      <td>0</td>\n",
       "      <td>0</td>\n",
       "      <td>0</td>\n",
       "      <td>0</td>\n",
       "      <td>0</td>\n",
       "      <td>1</td>\n",
       "      <td>0</td>\n",
       "      <td>0</td>\n",
       "    </tr>\n",
       "  </tbody>\n",
       "</table>\n",
       "<p>5 rows × 31 columns</p>\n",
       "</div>"
      ],
      "text/plain": [
       "       Airline    Source Destination                  Route  Total_Stops  \\\n",
       "0       IndiGo  Banglore       Delhi              BLR → DEL            0   \n",
       "1    Air India   Kolkata    Banglore  CCU → IXR → BBI → BLR            2   \n",
       "2  Jet Airways     Delhi      Cochin  DEL → LKO → BOM → COK            2   \n",
       "3       IndiGo   Kolkata    Banglore        CCU → NAG → BLR            1   \n",
       "4       IndiGo  Banglore       Delhi        BLR → NAG → DEL            1   \n",
       "\n",
       "  Additional_Info  Price  Journey_Day  Journey_Month  Dep_Hour  ...  Trujet  \\\n",
       "0         No info   3897           24              3        22  ...       0   \n",
       "1         No info   7662            1              5         5  ...       0   \n",
       "2         No info  13882            9              6         9  ...       0   \n",
       "3         No info   6218           12              5        18  ...       0   \n",
       "4         No info  13302            1              3        16  ...       0   \n",
       "\n",
       "   Vistara  Chennai  Delhi  Kolkata  Mumbai  Cochin  Delhi  Hyderabad  Kolkata  \n",
       "0        0        0      0        0       0       0      1          0        0  \n",
       "1        0        0      0        1       0       0      0          0        0  \n",
       "2        0        0      1        0       0       1      0          0        0  \n",
       "3        0        0      0        1       0       0      0          0        0  \n",
       "4        0        0      0        0       0       0      1          0        0  \n",
       "\n",
       "[5 rows x 31 columns]"
      ]
     },
     "execution_count": 59,
     "metadata": {},
     "output_type": "execute_result"
    }
   ],
   "source": [
    "trainset.head()"
   ]
  },
  {
   "cell_type": "markdown",
   "id": "0ca6c758",
   "metadata": {},
   "source": [
    "Therefore now we can drop those 3 columns from the dataset, as we already encoded them.\n",
    "\n",
    "'Route' feature is similar to 'Total_Stops', as the route also gives total number of stopages during the whole journey, so it can be dropped.\n",
    "\n",
    "'Additional_Info' contains almost 80% no_info, hence can be dropped."
   ]
  },
  {
   "cell_type": "code",
   "execution_count": 60,
   "id": "bb40822a",
   "metadata": {},
   "outputs": [],
   "source": [
    "trainset.drop(['Airline','Source','Destination','Route','Additional_Info','Trujet'],axis=1,inplace=True)"
   ]
  },
  {
   "cell_type": "code",
   "execution_count": 61,
   "id": "1e2b6dcf",
   "metadata": {},
   "outputs": [
    {
     "data": {
      "text/html": [
       "<div>\n",
       "<style scoped>\n",
       "    .dataframe tbody tr th:only-of-type {\n",
       "        vertical-align: middle;\n",
       "    }\n",
       "\n",
       "    .dataframe tbody tr th {\n",
       "        vertical-align: top;\n",
       "    }\n",
       "\n",
       "    .dataframe thead th {\n",
       "        text-align: right;\n",
       "    }\n",
       "</style>\n",
       "<table border=\"1\" class=\"dataframe\">\n",
       "  <thead>\n",
       "    <tr style=\"text-align: right;\">\n",
       "      <th></th>\n",
       "      <th>Total_Stops</th>\n",
       "      <th>Price</th>\n",
       "      <th>Journey_Day</th>\n",
       "      <th>Journey_Month</th>\n",
       "      <th>Dep_Hour</th>\n",
       "      <th>Dep_Min</th>\n",
       "      <th>Arrival_Hour</th>\n",
       "      <th>Arrival_Min</th>\n",
       "      <th>Duration_hours</th>\n",
       "      <th>Duration_mins</th>\n",
       "      <th>...</th>\n",
       "      <th>SpiceJet</th>\n",
       "      <th>Vistara</th>\n",
       "      <th>Chennai</th>\n",
       "      <th>Delhi</th>\n",
       "      <th>Kolkata</th>\n",
       "      <th>Mumbai</th>\n",
       "      <th>Cochin</th>\n",
       "      <th>Delhi</th>\n",
       "      <th>Hyderabad</th>\n",
       "      <th>Kolkata</th>\n",
       "    </tr>\n",
       "  </thead>\n",
       "  <tbody>\n",
       "    <tr>\n",
       "      <th>0</th>\n",
       "      <td>0</td>\n",
       "      <td>3897</td>\n",
       "      <td>24</td>\n",
       "      <td>3</td>\n",
       "      <td>22</td>\n",
       "      <td>20</td>\n",
       "      <td>1</td>\n",
       "      <td>10</td>\n",
       "      <td>2</td>\n",
       "      <td>50</td>\n",
       "      <td>...</td>\n",
       "      <td>0</td>\n",
       "      <td>0</td>\n",
       "      <td>0</td>\n",
       "      <td>0</td>\n",
       "      <td>0</td>\n",
       "      <td>0</td>\n",
       "      <td>0</td>\n",
       "      <td>1</td>\n",
       "      <td>0</td>\n",
       "      <td>0</td>\n",
       "    </tr>\n",
       "  </tbody>\n",
       "</table>\n",
       "<p>1 rows × 25 columns</p>\n",
       "</div>"
      ],
      "text/plain": [
       "   Total_Stops  Price  Journey_Day  Journey_Month  Dep_Hour  Dep_Min  \\\n",
       "0            0   3897           24              3        22       20   \n",
       "\n",
       "   Arrival_Hour  Arrival_Min  Duration_hours  Duration_mins  ...  SpiceJet  \\\n",
       "0             1           10               2             50  ...         0   \n",
       "\n",
       "   Vistara  Chennai  Delhi  Kolkata  Mumbai  Cochin  Delhi  Hyderabad  Kolkata  \n",
       "0        0        0      0        0       0       0      1          0        0  \n",
       "\n",
       "[1 rows x 25 columns]"
      ]
     },
     "execution_count": 61,
     "metadata": {},
     "output_type": "execute_result"
    }
   ],
   "source": [
    "trainset.head(1)"
   ]
  },
  {
   "cell_type": "markdown",
   "id": "2466aef6",
   "metadata": {},
   "source": [
    "__Successfully dropped.__"
   ]
  },
  {
   "cell_type": "markdown",
   "id": "bbc3221c",
   "metadata": {},
   "source": [
    "# Univariate Analysis :"
   ]
  },
  {
   "cell_type": "code",
   "execution_count": 62,
   "id": "c458361e",
   "metadata": {},
   "outputs": [
    {
     "data": {
      "text/plain": [
       "<AxesSubplot:xlabel='Total_Stops', ylabel='count'>"
      ]
     },
     "execution_count": 62,
     "metadata": {},
     "output_type": "execute_result"
    },
    {
     "data": {
      "image/png": "[encoded data removed]",
      "text/plain": [
       "<Figure size 432x288 with 1 Axes>"
      ]
     },
     "metadata": {
      "needs_background": "light"
     },
     "output_type": "display_data"
    }
   ],
   "source": [
    "sns.countplot(x='Total_Stops', data=trainset)"
   ]
  },
  {
   "cell_type": "markdown",
   "id": "15b07c34",
   "metadata": {},
   "source": [
    "__Majority of the flights are with one stop, followed by non-stop flights.__"
   ]
  },
  {
   "cell_type": "code",
   "execution_count": 63,
   "id": "91740ce1",
   "metadata": {},
   "outputs": [
    {
     "data": {
      "text/plain": [
       "<AxesSubplot:xlabel='Price', ylabel='Density'>"
      ]
     },
     "execution_count": 63,
     "metadata": {},
     "output_type": "execute_result"
    },
    {
     "data": {
      "image/png": "[encoded data removed]",
      "text/plain": [
       "<Figure size 720x360 with 1 Axes>"
      ]
     },
     "metadata": {
      "needs_background": "light"
     },
     "output_type": "display_data"
    }
   ],
   "source": [
    "plt.figure(figsize=(10,5))\n",
    "sns.distplot(trainset['Price'], color='darkgreen')"
   ]
  },
  {
   "cell_type": "markdown",
   "id": "1295ca12",
   "metadata": {},
   "source": [
    "__The target variable 'Price' is skewed right.__"
   ]
  },
  {
   "cell_type": "code",
   "execution_count": 64,
   "id": "a6f9d9e8",
   "metadata": {},
   "outputs": [
    {
     "data": {
      "text/plain": [
       "<AxesSubplot:xlabel='Journey_Day', ylabel='Density'>"
      ]
     },
     "execution_count": 64,
     "metadata": {},
     "output_type": "execute_result"
    },
    {
     "data": {
      "image/png": "[encoded data removed]",
      "text/plain": [
       "<Figure size 720x360 with 1 Axes>"
      ]
     },
     "metadata": {
      "needs_background": "light"
     },
     "output_type": "display_data"
    }
   ],
   "source": [
    "plt.figure(figsize=(10,5))\n",
    "sns.distplot(trainset['Journey_Day'], color='darkblue')"
   ]
  },
  {
   "cell_type": "code",
   "execution_count": 65,
   "id": "b723b540",
   "metadata": {},
   "outputs": [
    {
     "data": {
      "text/plain": [
       "<AxesSubplot:xlabel='Journey_Month', ylabel='Density'>"
      ]
     },
     "execution_count": 65,
     "metadata": {},
     "output_type": "execute_result"
    },
    {
     "data": {
      "image/png": "[encoded data removed]",
      "text/plain": [
       "<Figure size 720x360 with 1 Axes>"
      ]
     },
     "metadata": {
      "needs_background": "light"
     },
     "output_type": "display_data"
    }
   ],
   "source": [
    "plt.figure(figsize=(10,5))\n",
    "sns.distplot(trainset['Journey_Month'], color='darkred')"
   ]
  },
  {
   "cell_type": "markdown",
   "id": "75209ca1",
   "metadata": {},
   "source": [
    "__People are mostly travelling in the month of May.__"
   ]
  },
  {
   "cell_type": "code",
   "execution_count": 66,
   "id": "5ae9b586",
   "metadata": {},
   "outputs": [
    {
     "data": {
      "text/plain": [
       "<AxesSubplot:xlabel='Dep_Hour', ylabel='Density'>"
      ]
     },
     "execution_count": 66,
     "metadata": {},
     "output_type": "execute_result"
    },
    {
     "data": {
      "image/png": "[encoded data removed]",
      "text/plain": [
       "<Figure size 720x360 with 1 Axes>"
      ]
     },
     "metadata": {
      "needs_background": "light"
     },
     "output_type": "display_data"
    }
   ],
   "source": [
    "plt.figure(figsize=(10,5))\n",
    "sns.distplot(trainset['Dep_Hour'], color='orange')"
   ]
  },
  {
   "cell_type": "markdown",
   "id": "a37d6f9d",
   "metadata": {},
   "source": [
    "__People are mostly getting tickets in the morning hours.__"
   ]
  },
  {
   "cell_type": "code",
   "execution_count": 67,
   "id": "13371fb3",
   "metadata": {},
   "outputs": [
    {
     "data": {
      "text/plain": [
       "<AxesSubplot:xlabel='Arrival_Hour', ylabel='Density'>"
      ]
     },
     "execution_count": 67,
     "metadata": {},
     "output_type": "execute_result"
    },
    {
     "data": {
      "image/png": "[encoded data removed]",
      "text/plain": [
       "<Figure size 720x360 with 1 Axes>"
      ]
     },
     "metadata": {
      "needs_background": "light"
     },
     "output_type": "display_data"
    }
   ],
   "source": [
    "plt.figure(figsize=(10,5))\n",
    "sns.distplot(trainset['Arrival_Hour'], color='red')"
   ]
  },
  {
   "cell_type": "markdown",
   "id": "2c08df84",
   "metadata": {},
   "source": [
    "Passengers are arriving at late hours and early departures[as seen in the above graph], which indicates longer journeys."
   ]
  },
  {
   "cell_type": "code",
   "execution_count": 68,
   "id": "9a7800b9",
   "metadata": {},
   "outputs": [
    {
     "data": {
      "text/plain": [
       "<AxesSubplot:xlabel='Duration_hours', ylabel='Density'>"
      ]
     },
     "execution_count": 68,
     "metadata": {},
     "output_type": "execute_result"
    },
    {
     "data": {
      "image/png": "[encoded data removed]",
      "text/plain": [
       "<Figure size 720x360 with 1 Axes>"
      ]
     },
     "metadata": {
      "needs_background": "light"
     },
     "output_type": "display_data"
    }
   ],
   "source": [
    "plt.figure(figsize=(10,5))\n",
    "sns.distplot(trainset['Duration_hours'], color='purple')"
   ]
  },
  {
   "cell_type": "markdown",
   "id": "a9dd134a",
   "metadata": {},
   "source": [
    "__Here we can observe some right skewed data.__"
   ]
  },
  {
   "cell_type": "markdown",
   "id": "0d98c6cc",
   "metadata": {},
   "source": [
    "# Bivariate Analysis :"
   ]
  },
  {
   "cell_type": "code",
   "execution_count": 69,
   "id": "f6295850",
   "metadata": {},
   "outputs": [
    {
     "data": {
      "text/plain": [
       "<AxesSubplot:xlabel='Total_Stops', ylabel='Price'>"
      ]
     },
     "execution_count": 69,
     "metadata": {},
     "output_type": "execute_result"
    },
    {
     "data": {
      "image/png": "[encoded data removed]",
      "text/plain": [
       "<Figure size 432x288 with 1 Axes>"
      ]
     },
     "metadata": {
      "needs_background": "light"
     },
     "output_type": "display_data"
    }
   ],
   "source": [
    "sns.barplot(data=trainset, x='Total_Stops',y='Price')"
   ]
  },
  {
   "cell_type": "markdown",
   "id": "ff27f719",
   "metadata": {},
   "source": [
    "__With the increase in layovers during the journey, price also increases. Price of tickets are lowest with non stop flights.__"
   ]
  },
  {
   "cell_type": "code",
   "execution_count": 70,
   "id": "d855e2ea",
   "metadata": {},
   "outputs": [
    {
     "data": {
      "text/plain": [
       "<AxesSubplot:xlabel='Journey_Day', ylabel='Price'>"
      ]
     },
     "execution_count": 70,
     "metadata": {},
     "output_type": "execute_result"
    },
    {
     "data": {
      "image/png": "[encoded data removed]",
      "text/plain": [
       "<Figure size 432x288 with 1 Axes>"
      ]
     },
     "metadata": {
      "needs_background": "light"
     },
     "output_type": "display_data"
    }
   ],
   "source": [
    "sns.swarmplot(data=trainset, x='Journey_Day',y='Price')"
   ]
  },
  {
   "cell_type": "markdown",
   "id": "1143ac9e",
   "metadata": {},
   "source": [
    "__People are mostly travelling in the first week of the month and due to the spread of datapoints we can say that outliers can be present.__"
   ]
  },
  {
   "cell_type": "code",
   "execution_count": 71,
   "id": "7e90029e",
   "metadata": {},
   "outputs": [
    {
     "data": {
      "text/plain": [
       "<AxesSubplot:xlabel='Journey_Month', ylabel='Price'>"
      ]
     },
     "execution_count": 71,
     "metadata": {},
     "output_type": "execute_result"
    },
    {
     "data": {
      "image/png": "[encoded data removed]",
      "text/plain": [
       "<Figure size 432x288 with 1 Axes>"
      ]
     },
     "metadata": {
      "needs_background": "light"
     },
     "output_type": "display_data"
    }
   ],
   "source": [
    "sns.swarmplot(data=trainset, x='Journey_Month',y='Price')"
   ]
  },
  {
   "cell_type": "markdown",
   "id": "36932ae0",
   "metadata": {},
   "source": [
    "__People are most travelling in the month of March.__"
   ]
  },
  {
   "cell_type": "code",
   "execution_count": 72,
   "id": "cc00ddea",
   "metadata": {},
   "outputs": [
    {
     "data": {
      "text/plain": [
       "<AxesSubplot:xlabel='Dep_Hour', ylabel='Price'>"
      ]
     },
     "execution_count": 72,
     "metadata": {},
     "output_type": "execute_result"
    },
    {
     "data": {
      "image/png": "[encoded data removed]",
      "text/plain": [
       "<Figure size 432x288 with 1 Axes>"
      ]
     },
     "metadata": {
      "needs_background": "light"
     },
     "output_type": "display_data"
    }
   ],
   "source": [
    "sns.stripplot(data=trainset, x='Dep_Hour',y='Price')"
   ]
  },
  {
   "cell_type": "markdown",
   "id": "4d842d93",
   "metadata": {},
   "source": [
    "__Price can be little less with early departure hours, and outliers can be observed here.__"
   ]
  },
  {
   "cell_type": "code",
   "execution_count": 73,
   "id": "1dc0bf93",
   "metadata": {},
   "outputs": [
    {
     "data": {
      "text/plain": [
       "<AxesSubplot:xlabel='Arrival_Hour', ylabel='Price'>"
      ]
     },
     "execution_count": 73,
     "metadata": {},
     "output_type": "execute_result"
    },
    {
     "data": {
      "image/png": "[encoded data removed]",
      "text/plain": [
       "<Figure size 432x288 with 1 Axes>"
      ]
     },
     "metadata": {
      "needs_background": "light"
     },
     "output_type": "display_data"
    }
   ],
   "source": [
    "sns.stripplot(data=trainset, x='Arrival_Hour',y='Price')"
   ]
  },
  {
   "cell_type": "markdown",
   "id": "5d1828f2",
   "metadata": {},
   "source": [
    "__Price of the tickets can be less for early arrival hours. And outliers can also be observed here.__"
   ]
  },
  {
   "cell_type": "code",
   "execution_count": 74,
   "id": "7383c3aa",
   "metadata": {},
   "outputs": [
    {
     "data": {
      "text/plain": [
       "<AxesSubplot:xlabel='Duration_hours', ylabel='Price'>"
      ]
     },
     "execution_count": 74,
     "metadata": {},
     "output_type": "execute_result"
    },
    {
     "data": {
      "image/png": "[encoded data removed]",
      "text/plain": [
       "<Figure size 432x288 with 1 Axes>"
      ]
     },
     "metadata": {
      "needs_background": "light"
     },
     "output_type": "display_data"
    }
   ],
   "source": [
    "sns.scatterplot(data=trainset, x='Duration_hours',y='Price', color='orange')"
   ]
  },
  {
   "cell_type": "markdown",
   "id": "1dffcd12",
   "metadata": {},
   "source": [
    "__Mostly flight journeys takes 3 to 5 hours of duration.__"
   ]
  },
  {
   "cell_type": "markdown",
   "id": "913438c5",
   "metadata": {},
   "source": [
    "# Detecting Outliers :"
   ]
  },
  {
   "cell_type": "code",
   "execution_count": 75,
   "id": "778b07b7",
   "metadata": {},
   "outputs": [
    {
     "data": {
      "text/plain": [
       "Total_Stops             AxesSubplot(0.125,0.787927;0.168478x0.0920732)\n",
       "Price                AxesSubplot(0.327174,0.787927;0.168478x0.0920732)\n",
       "Journey_Day          AxesSubplot(0.529348,0.787927;0.168478x0.0920732)\n",
       "Journey_Month        AxesSubplot(0.731522,0.787927;0.168478x0.0920732)\n",
       "Dep_Hour                AxesSubplot(0.125,0.677439;0.168478x0.0920732)\n",
       "Dep_Min              AxesSubplot(0.327174,0.677439;0.168478x0.0920732)\n",
       "Arrival_Hour         AxesSubplot(0.529348,0.677439;0.168478x0.0920732)\n",
       "Arrival_Min          AxesSubplot(0.731522,0.677439;0.168478x0.0920732)\n",
       "Duration_hours          AxesSubplot(0.125,0.566951;0.168478x0.0920732)\n",
       "Duration_mins        AxesSubplot(0.327174,0.566951;0.168478x0.0920732)\n",
       "Air India            AxesSubplot(0.529348,0.566951;0.168478x0.0920732)\n",
       "GoAir                AxesSubplot(0.731522,0.566951;0.168478x0.0920732)\n",
       "IndiGo                  AxesSubplot(0.125,0.456463;0.168478x0.0920732)\n",
       "Jet Airways          AxesSubplot(0.327174,0.456463;0.168478x0.0920732)\n",
       "Multiple carriers    AxesSubplot(0.529348,0.456463;0.168478x0.0920732)\n",
       "SpiceJet             AxesSubplot(0.731522,0.456463;0.168478x0.0920732)\n",
       "Vistara                 AxesSubplot(0.125,0.345976;0.168478x0.0920732)\n",
       "Chennai              AxesSubplot(0.327174,0.345976;0.168478x0.0920732)\n",
       "Delhi                AxesSubplot(0.529348,0.235488;0.168478x0.0920732)\n",
       "Kolkata                    AxesSubplot(0.125,0.125;0.168478x0.0920732)\n",
       "Mumbai                  AxesSubplot(0.125,0.235488;0.168478x0.0920732)\n",
       "Cochin               AxesSubplot(0.327174,0.235488;0.168478x0.0920732)\n",
       "Hyderabad            AxesSubplot(0.731522,0.235488;0.168478x0.0920732)\n",
       "dtype: object"
      ]
     },
     "execution_count": 75,
     "metadata": {},
     "output_type": "execute_result"
    },
    {
     "data": {
      "image/png": "[encoded data removed]",
      "text/plain": [
       "<Figure size 1440x1440 with 28 Axes>"
      ]
     },
     "metadata": {
      "needs_background": "light"
     },
     "output_type": "display_data"
    }
   ],
   "source": [
    "trainset.plot(kind='box', subplots=True, layout=(7,4), figsize=(20,20), colormap='Blues')"
   ]
  },
  {
   "cell_type": "markdown",
   "id": "32cc5e33",
   "metadata": {},
   "source": [
    "Through this visualizations, the outliers are clearly visible.\n",
    "\n"
   ]
  },
  {
   "cell_type": "code",
   "execution_count": 76,
   "id": "cdd0474e",
   "metadata": {},
   "outputs": [],
   "source": [
    "# Importing required zscore library\n",
    "\n",
    "from scipy.stats import zscore\n",
    "import numpy as np"
   ]
  },
  {
   "cell_type": "code",
   "execution_count": 77,
   "id": "191f17e1",
   "metadata": {},
   "outputs": [],
   "source": [
    "z=np.abs(zscore(trainset))"
   ]
  },
  {
   "cell_type": "code",
   "execution_count": 78,
   "id": "f9dbe1f3",
   "metadata": {},
   "outputs": [],
   "source": [
    "threshold=3"
   ]
  },
  {
   "cell_type": "code",
   "execution_count": 79,
   "id": "60cee6d8",
   "metadata": {},
   "outputs": [],
   "source": [
    "trainset_new=trainset[(z<3).all(axis=1)]"
   ]
  },
  {
   "cell_type": "code",
   "execution_count": 80,
   "id": "5c8b2ccf",
   "metadata": {},
   "outputs": [
    {
     "name": "stdout",
     "output_type": "stream",
     "text": [
      "Shape of original dataframe (10682, 25)\n"
     ]
    }
   ],
   "source": [
    "print('Shape of original dataframe', trainset.shape)"
   ]
  },
  {
   "cell_type": "code",
   "execution_count": 81,
   "id": "fef796fe",
   "metadata": {},
   "outputs": [
    {
     "name": "stdout",
     "output_type": "stream",
     "text": [
      "Shape of dataframe after outliers removal (8244, 25)\n"
     ]
    }
   ],
   "source": [
    "print('Shape of dataframe after outliers removal', trainset_new.shape)"
   ]
  },
  {
   "cell_type": "markdown",
   "id": "24ea4ec2",
   "metadata": {},
   "source": [
    "# Skewness :"
   ]
  },
  {
   "cell_type": "code",
   "execution_count": 82,
   "id": "799b82c5",
   "metadata": {},
   "outputs": [
    {
     "data": {
      "text/plain": [
       "Journey_Month       -0.387409\n",
       "Arrival_Hour        -0.370146\n",
       "Duration_mins       -0.090680\n",
       "Arrival_Min          0.110945\n",
       "Dep_Hour             0.112924\n",
       "Journey_Day          0.118174\n",
       "Dep_Min              0.167234\n",
       "Cochin               0.304968\n",
       "Delhi                0.304968\n",
       "Total_Stops          0.317109\n",
       "Jet Airways          0.579406\n",
       "Duration_hours       0.851197\n",
       "Kolkata              1.043321\n",
       "Delhi                1.456574\n",
       "IndiGo               1.562601\n",
       "Price                1.812405\n",
       "Air India            1.815902\n",
       "Multiple carriers    2.442274\n",
       "SpiceJet             3.185036\n",
       "Hyderabad            3.521217\n",
       "Mumbai               3.521217\n",
       "Vistara              4.383432\n",
       "Chennai              5.008071\n",
       "Kolkata              5.008071\n",
       "GoAir                7.217685\n",
       "dtype: float64"
      ]
     },
     "execution_count": 82,
     "metadata": {},
     "output_type": "execute_result"
    }
   ],
   "source": [
    "trainset.skew().sort_values()"
   ]
  },
  {
   "cell_type": "code",
   "execution_count": 83,
   "id": "3d38f978",
   "metadata": {},
   "outputs": [],
   "source": [
    "trainset[\"Duration_hours\"] = np.log1p(trainset[\"Duration_hours\"])"
   ]
  },
  {
   "cell_type": "code",
   "execution_count": 84,
   "id": "890f2f2b",
   "metadata": {},
   "outputs": [
    {
     "data": {
      "text/plain": [
       "Journey_Month       -0.387409\n",
       "Arrival_Hour        -0.370146\n",
       "Duration_hours      -0.099961\n",
       "Duration_mins       -0.090680\n",
       "Arrival_Min          0.110945\n",
       "Dep_Hour             0.112924\n",
       "Journey_Day          0.118174\n",
       "Dep_Min              0.167234\n",
       "Cochin               0.304968\n",
       "Delhi                0.304968\n",
       "Total_Stops          0.317109\n",
       "Jet Airways          0.579406\n",
       "Kolkata              1.043321\n",
       "Delhi                1.456574\n",
       "IndiGo               1.562601\n",
       "Price                1.812405\n",
       "Air India            1.815902\n",
       "Multiple carriers    2.442274\n",
       "SpiceJet             3.185036\n",
       "Hyderabad            3.521217\n",
       "Mumbai               3.521217\n",
       "Vistara              4.383432\n",
       "Chennai              5.008071\n",
       "Kolkata              5.008071\n",
       "GoAir                7.217685\n",
       "dtype: float64"
      ]
     },
     "execution_count": 84,
     "metadata": {},
     "output_type": "execute_result"
    }
   ],
   "source": [
    "trainset.skew().sort_values()"
   ]
  },
  {
   "cell_type": "markdown",
   "id": "c654d2c2",
   "metadata": {},
   "source": [
    "Removed skewness in Duration_hours as it is a numerical column."
   ]
  },
  {
   "cell_type": "markdown",
   "id": "1b38bd3e",
   "metadata": {},
   "source": [
    "# Variance Inflation Factor : "
   ]
  },
  {
   "cell_type": "markdown",
   "id": "5596b24a",
   "metadata": {},
   "source": [
    "__<font color=orange>It helps us to eliminate multi co-linearity.</font>__"
   ]
  },
  {
   "cell_type": "markdown",
   "id": "b64a61ff",
   "metadata": {},
   "source": [
    "___Spliting the dataset :___"
   ]
  },
  {
   "cell_type": "code",
   "execution_count": 85,
   "id": "33be5685",
   "metadata": {},
   "outputs": [],
   "source": [
    "# Data part\n",
    "\n",
    "x=trainset.drop(['Price'],axis=1)"
   ]
  },
  {
   "cell_type": "code",
   "execution_count": 86,
   "id": "17f72f44",
   "metadata": {},
   "outputs": [],
   "source": [
    "# Target\n",
    "\n",
    "y=trainset.Price"
   ]
  },
  {
   "cell_type": "code",
   "execution_count": 87,
   "id": "3d6ffd1f",
   "metadata": {},
   "outputs": [],
   "source": [
    "# Importing required library for variance inflation factor.\n",
    "\n",
    "from statsmodels.stats.outliers_influence import variance_inflation_factor"
   ]
  },
  {
   "cell_type": "code",
   "execution_count": 88,
   "id": "a3736801",
   "metadata": {},
   "outputs": [],
   "source": [
    "def vif_calc():\n",
    "    vif=pd.DataFrame()\n",
    "    vif['VIF Factor']=[variance_inflation_factor(x.values,i) for i in range(x.shape[1])]\n",
    "    vif['Features']=x.columns\n",
    "    print(vif)"
   ]
  },
  {
   "cell_type": "code",
   "execution_count": 89,
   "id": "55bacc93",
   "metadata": {},
   "outputs": [
    {
     "name": "stdout",
     "output_type": "stream",
     "text": [
      "    VIF Factor           Features\n",
      "0     3.840781        Total_Stops\n",
      "1     1.022100        Journey_Day\n",
      "2     1.111901      Journey_Month\n",
      "3     1.062839           Dep_Hour\n",
      "4     1.107597            Dep_Min\n",
      "5     1.083017       Arrival_Hour\n",
      "6     1.138203        Arrival_Min\n",
      "7     4.407574     Duration_hours\n",
      "8     1.147657      Duration_mins\n",
      "9     6.166244          Air India\n",
      "10    1.602143              GoAir\n",
      "11    6.296803             IndiGo\n",
      "12    9.318805        Jet Airways\n",
      "13    4.906609  Multiple carriers\n",
      "14    3.433420           SpiceJet\n",
      "15    2.574583            Vistara\n",
      "16         inf            Chennai\n",
      "17         inf              Delhi\n",
      "18   27.883145            Kolkata\n",
      "19         inf             Mumbai\n",
      "20         inf             Cochin\n",
      "21   19.127627              Delhi\n",
      "22         inf          Hyderabad\n",
      "23         inf            Kolkata\n"
     ]
    }
   ],
   "source": [
    "vif_calc()"
   ]
  },
  {
   "cell_type": "markdown",
   "id": "9437ec91",
   "metadata": {},
   "source": [
    "# Feature Scaling :\n",
    "__<font color=orange>To transform the dataset into same format, so that we have a uniform dataset.</font>__"
   ]
  },
  {
   "cell_type": "code",
   "execution_count": 90,
   "id": "43f68693",
   "metadata": {},
   "outputs": [],
   "source": [
    "# Importing required scaler library\n",
    "\n",
    "from sklearn.preprocessing import StandardScaler"
   ]
  },
  {
   "cell_type": "code",
   "execution_count": 91,
   "id": "f6c58e2f",
   "metadata": {},
   "outputs": [
    {
     "data": {
      "text/html": [
       "<div>\n",
       "<style scoped>\n",
       "    .dataframe tbody tr th:only-of-type {\n",
       "        vertical-align: middle;\n",
       "    }\n",
       "\n",
       "    .dataframe tbody tr th {\n",
       "        vertical-align: top;\n",
       "    }\n",
       "\n",
       "    .dataframe thead th {\n",
       "        text-align: right;\n",
       "    }\n",
       "</style>\n",
       "<table border=\"1\" class=\"dataframe\">\n",
       "  <thead>\n",
       "    <tr style=\"text-align: right;\">\n",
       "      <th></th>\n",
       "      <th>Total_Stops</th>\n",
       "      <th>Journey_Day</th>\n",
       "      <th>Journey_Month</th>\n",
       "      <th>Dep_Hour</th>\n",
       "      <th>Dep_Min</th>\n",
       "      <th>Arrival_Hour</th>\n",
       "      <th>Arrival_Min</th>\n",
       "      <th>Duration_hours</th>\n",
       "      <th>Duration_mins</th>\n",
       "      <th>Air India</th>\n",
       "      <th>...</th>\n",
       "      <th>SpiceJet</th>\n",
       "      <th>Vistara</th>\n",
       "      <th>Chennai</th>\n",
       "      <th>Delhi</th>\n",
       "      <th>Kolkata</th>\n",
       "      <th>Mumbai</th>\n",
       "      <th>Cochin</th>\n",
       "      <th>Delhi</th>\n",
       "      <th>Hyderabad</th>\n",
       "      <th>Kolkata</th>\n",
       "    </tr>\n",
       "  </thead>\n",
       "  <tbody>\n",
       "    <tr>\n",
       "      <th>0</th>\n",
       "      <td>-1.220666</td>\n",
       "      <td>1.237288</td>\n",
       "      <td>-1.467402</td>\n",
       "      <td>1.654154</td>\n",
       "      <td>-0.234950</td>\n",
       "      <td>-1.800436</td>\n",
       "      <td>-0.890014</td>\n",
       "      <td>-1.186286</td>\n",
       "      <td>1.279041</td>\n",
       "      <td>-0.442785</td>\n",
       "      <td>...</td>\n",
       "      <td>-0.287972</td>\n",
       "      <td>-0.217382</td>\n",
       "      <td>-0.192319</td>\n",
       "      <td>-0.859093</td>\n",
       "      <td>-0.606266</td>\n",
       "      <td>-0.264206</td>\n",
       "      <td>-0.859093</td>\n",
       "      <td>1.965219</td>\n",
       "      <td>-0.264206</td>\n",
       "      <td>-0.192319</td>\n",
       "    </tr>\n",
       "    <tr>\n",
       "      <th>1</th>\n",
       "      <td>1.741432</td>\n",
       "      <td>-1.475307</td>\n",
       "      <td>0.250289</td>\n",
       "      <td>-1.303113</td>\n",
       "      <td>1.363607</td>\n",
       "      <td>-0.050909</td>\n",
       "      <td>-0.587094</td>\n",
       "      <td>-0.021232</td>\n",
       "      <td>-0.196319</td>\n",
       "      <td>2.258432</td>\n",
       "      <td>...</td>\n",
       "      <td>-0.287972</td>\n",
       "      <td>-0.217382</td>\n",
       "      <td>-0.192319</td>\n",
       "      <td>-0.859093</td>\n",
       "      <td>1.649441</td>\n",
       "      <td>-0.264206</td>\n",
       "      <td>-0.859093</td>\n",
       "      <td>-0.508849</td>\n",
       "      <td>-0.264206</td>\n",
       "      <td>-0.192319</td>\n",
       "    </tr>\n",
       "    <tr>\n",
       "      <th>2</th>\n",
       "      <td>1.741432</td>\n",
       "      <td>-0.531796</td>\n",
       "      <td>1.109135</td>\n",
       "      <td>-0.607286</td>\n",
       "      <td>0.031476</td>\n",
       "      <td>-1.363054</td>\n",
       "      <td>0.018745</td>\n",
       "      <td>1.067161</td>\n",
       "      <td>-1.671678</td>\n",
       "      <td>-0.442785</td>\n",
       "      <td>...</td>\n",
       "      <td>-0.287972</td>\n",
       "      <td>-0.217382</td>\n",
       "      <td>-0.192319</td>\n",
       "      <td>1.164018</td>\n",
       "      <td>-0.606266</td>\n",
       "      <td>-0.264206</td>\n",
       "      <td>1.164018</td>\n",
       "      <td>-0.508849</td>\n",
       "      <td>-0.264206</td>\n",
       "      <td>-0.192319</td>\n",
       "    </tr>\n",
       "    <tr>\n",
       "      <th>3</th>\n",
       "      <td>0.260383</td>\n",
       "      <td>-0.177979</td>\n",
       "      <td>0.250289</td>\n",
       "      <td>0.958326</td>\n",
       "      <td>-1.034229</td>\n",
       "      <td>1.407030</td>\n",
       "      <td>0.321664</td>\n",
       "      <td>-0.362948</td>\n",
       "      <td>-0.196319</td>\n",
       "      <td>-0.442785</td>\n",
       "      <td>...</td>\n",
       "      <td>-0.287972</td>\n",
       "      <td>-0.217382</td>\n",
       "      <td>-0.192319</td>\n",
       "      <td>-0.859093</td>\n",
       "      <td>1.649441</td>\n",
       "      <td>-0.264206</td>\n",
       "      <td>-0.859093</td>\n",
       "      <td>-0.508849</td>\n",
       "      <td>-0.264206</td>\n",
       "      <td>-0.192319</td>\n",
       "    </tr>\n",
       "    <tr>\n",
       "      <th>4</th>\n",
       "      <td>0.260383</td>\n",
       "      <td>-1.475307</td>\n",
       "      <td>-1.467402</td>\n",
       "      <td>0.610412</td>\n",
       "      <td>1.363607</td>\n",
       "      <td>1.115442</td>\n",
       "      <td>0.624584</td>\n",
       "      <td>-0.579514</td>\n",
       "      <td>0.983969</td>\n",
       "      <td>-0.442785</td>\n",
       "      <td>...</td>\n",
       "      <td>-0.287972</td>\n",
       "      <td>-0.217382</td>\n",
       "      <td>-0.192319</td>\n",
       "      <td>-0.859093</td>\n",
       "      <td>-0.606266</td>\n",
       "      <td>-0.264206</td>\n",
       "      <td>-0.859093</td>\n",
       "      <td>1.965219</td>\n",
       "      <td>-0.264206</td>\n",
       "      <td>-0.192319</td>\n",
       "    </tr>\n",
       "    <tr>\n",
       "      <th>5</th>\n",
       "      <td>-1.220666</td>\n",
       "      <td>1.237288</td>\n",
       "      <td>1.109135</td>\n",
       "      <td>-0.607286</td>\n",
       "      <td>-1.300655</td>\n",
       "      <td>-0.342497</td>\n",
       "      <td>0.018745</td>\n",
       "      <td>-1.186286</td>\n",
       "      <td>-0.196319</td>\n",
       "      <td>-0.442785</td>\n",
       "      <td>...</td>\n",
       "      <td>3.472561</td>\n",
       "      <td>-0.217382</td>\n",
       "      <td>-0.192319</td>\n",
       "      <td>-0.859093</td>\n",
       "      <td>1.649441</td>\n",
       "      <td>-0.264206</td>\n",
       "      <td>-0.859093</td>\n",
       "      <td>-0.508849</td>\n",
       "      <td>-0.264206</td>\n",
       "      <td>-0.192319</td>\n",
       "    </tr>\n",
       "    <tr>\n",
       "      <th>6</th>\n",
       "      <td>0.260383</td>\n",
       "      <td>-0.177979</td>\n",
       "      <td>-1.467402</td>\n",
       "      <td>0.958326</td>\n",
       "      <td>1.630034</td>\n",
       "      <td>-0.488291</td>\n",
       "      <td>0.018745</td>\n",
       "      <td>0.802105</td>\n",
       "      <td>0.098753</td>\n",
       "      <td>-0.442785</td>\n",
       "      <td>...</td>\n",
       "      <td>-0.287972</td>\n",
       "      <td>-0.217382</td>\n",
       "      <td>-0.192319</td>\n",
       "      <td>-0.859093</td>\n",
       "      <td>-0.606266</td>\n",
       "      <td>-0.264206</td>\n",
       "      <td>-0.859093</td>\n",
       "      <td>1.965219</td>\n",
       "      <td>-0.264206</td>\n",
       "      <td>-0.192319</td>\n",
       "    </tr>\n",
       "    <tr>\n",
       "      <th>7</th>\n",
       "      <td>0.260383</td>\n",
       "      <td>-1.475307</td>\n",
       "      <td>-1.467402</td>\n",
       "      <td>-0.781243</td>\n",
       "      <td>-1.300655</td>\n",
       "      <td>-1.217261</td>\n",
       "      <td>-1.192933</td>\n",
       "      <td>1.180372</td>\n",
       "      <td>-1.376606</td>\n",
       "      <td>-0.442785</td>\n",
       "      <td>...</td>\n",
       "      <td>-0.287972</td>\n",
       "      <td>-0.217382</td>\n",
       "      <td>-0.192319</td>\n",
       "      <td>-0.859093</td>\n",
       "      <td>-0.606266</td>\n",
       "      <td>-0.264206</td>\n",
       "      <td>-0.859093</td>\n",
       "      <td>1.965219</td>\n",
       "      <td>-0.264206</td>\n",
       "      <td>-0.192319</td>\n",
       "    </tr>\n",
       "    <tr>\n",
       "      <th>8</th>\n",
       "      <td>0.260383</td>\n",
       "      <td>-0.177979</td>\n",
       "      <td>-1.467402</td>\n",
       "      <td>-0.781243</td>\n",
       "      <td>1.630034</td>\n",
       "      <td>-0.488291</td>\n",
       "      <td>0.018745</td>\n",
       "      <td>1.378803</td>\n",
       "      <td>0.098753</td>\n",
       "      <td>-0.442785</td>\n",
       "      <td>...</td>\n",
       "      <td>-0.287972</td>\n",
       "      <td>-0.217382</td>\n",
       "      <td>-0.192319</td>\n",
       "      <td>-0.859093</td>\n",
       "      <td>-0.606266</td>\n",
       "      <td>-0.264206</td>\n",
       "      <td>-0.859093</td>\n",
       "      <td>1.965219</td>\n",
       "      <td>-0.264206</td>\n",
       "      <td>-0.192319</td>\n",
       "    </tr>\n",
       "    <tr>\n",
       "      <th>9</th>\n",
       "      <td>0.260383</td>\n",
       "      <td>1.591104</td>\n",
       "      <td>0.250289</td>\n",
       "      <td>-0.259372</td>\n",
       "      <td>0.031476</td>\n",
       "      <td>0.823854</td>\n",
       "      <td>-0.587094</td>\n",
       "      <td>-0.021232</td>\n",
       "      <td>1.279041</td>\n",
       "      <td>-0.442785</td>\n",
       "      <td>...</td>\n",
       "      <td>-0.287972</td>\n",
       "      <td>-0.217382</td>\n",
       "      <td>-0.192319</td>\n",
       "      <td>1.164018</td>\n",
       "      <td>-0.606266</td>\n",
       "      <td>-0.264206</td>\n",
       "      <td>1.164018</td>\n",
       "      <td>-0.508849</td>\n",
       "      <td>-0.264206</td>\n",
       "      <td>-0.192319</td>\n",
       "    </tr>\n",
       "  </tbody>\n",
       "</table>\n",
       "<p>10 rows × 24 columns</p>\n",
       "</div>"
      ],
      "text/plain": [
       "   Total_Stops  Journey_Day  Journey_Month  Dep_Hour   Dep_Min  Arrival_Hour  \\\n",
       "0    -1.220666     1.237288      -1.467402  1.654154 -0.234950     -1.800436   \n",
       "1     1.741432    -1.475307       0.250289 -1.303113  1.363607     -0.050909   \n",
       "2     1.741432    -0.531796       1.109135 -0.607286  0.031476     -1.363054   \n",
       "3     0.260383    -0.177979       0.250289  0.958326 -1.034229      1.407030   \n",
       "4     0.260383    -1.475307      -1.467402  0.610412  1.363607      1.115442   \n",
       "5    -1.220666     1.237288       1.109135 -0.607286 -1.300655     -0.342497   \n",
       "6     0.260383    -0.177979      -1.467402  0.958326  1.630034     -0.488291   \n",
       "7     0.260383    -1.475307      -1.467402 -0.781243 -1.300655     -1.217261   \n",
       "8     0.260383    -0.177979      -1.467402 -0.781243  1.630034     -0.488291   \n",
       "9     0.260383     1.591104       0.250289 -0.259372  0.031476      0.823854   \n",
       "\n",
       "   Arrival_Min  Duration_hours  Duration_mins  Air India  ...  SpiceJet  \\\n",
       "0    -0.890014       -1.186286       1.279041  -0.442785  ... -0.287972   \n",
       "1    -0.587094       -0.021232      -0.196319   2.258432  ... -0.287972   \n",
       "2     0.018745        1.067161      -1.671678  -0.442785  ... -0.287972   \n",
       "3     0.321664       -0.362948      -0.196319  -0.442785  ... -0.287972   \n",
       "4     0.624584       -0.579514       0.983969  -0.442785  ... -0.287972   \n",
       "5     0.018745       -1.186286      -0.196319  -0.442785  ...  3.472561   \n",
       "6     0.018745        0.802105       0.098753  -0.442785  ... -0.287972   \n",
       "7    -1.192933        1.180372      -1.376606  -0.442785  ... -0.287972   \n",
       "8     0.018745        1.378803       0.098753  -0.442785  ... -0.287972   \n",
       "9    -0.587094       -0.021232       1.279041  -0.442785  ... -0.287972   \n",
       "\n",
       "    Vistara   Chennai     Delhi   Kolkata    Mumbai    Cochin     Delhi  \\\n",
       "0 -0.217382 -0.192319 -0.859093 -0.606266 -0.264206 -0.859093  1.965219   \n",
       "1 -0.217382 -0.192319 -0.859093  1.649441 -0.264206 -0.859093 -0.508849   \n",
       "2 -0.217382 -0.192319  1.164018 -0.606266 -0.264206  1.164018 -0.508849   \n",
       "3 -0.217382 -0.192319 -0.859093  1.649441 -0.264206 -0.859093 -0.508849   \n",
       "4 -0.217382 -0.192319 -0.859093 -0.606266 -0.264206 -0.859093  1.965219   \n",
       "5 -0.217382 -0.192319 -0.859093  1.649441 -0.264206 -0.859093 -0.508849   \n",
       "6 -0.217382 -0.192319 -0.859093 -0.606266 -0.264206 -0.859093  1.965219   \n",
       "7 -0.217382 -0.192319 -0.859093 -0.606266 -0.264206 -0.859093  1.965219   \n",
       "8 -0.217382 -0.192319 -0.859093 -0.606266 -0.264206 -0.859093  1.965219   \n",
       "9 -0.217382 -0.192319  1.164018 -0.606266 -0.264206  1.164018 -0.508849   \n",
       "\n",
       "   Hyderabad   Kolkata  \n",
       "0  -0.264206 -0.192319  \n",
       "1  -0.264206 -0.192319  \n",
       "2  -0.264206 -0.192319  \n",
       "3  -0.264206 -0.192319  \n",
       "4  -0.264206 -0.192319  \n",
       "5  -0.264206 -0.192319  \n",
       "6  -0.264206 -0.192319  \n",
       "7  -0.264206 -0.192319  \n",
       "8  -0.264206 -0.192319  \n",
       "9  -0.264206 -0.192319  \n",
       "\n",
       "[10 rows x 24 columns]"
      ]
     },
     "execution_count": 91,
     "metadata": {},
     "output_type": "execute_result"
    }
   ],
   "source": [
    "scale=StandardScaler()\n",
    "x=pd.DataFrame(scale.fit_transform(x), columns=x.columns)\n",
    "x.head(10)"
   ]
  },
  {
   "cell_type": "markdown",
   "id": "393cfb8c",
   "metadata": {},
   "source": [
    "# Power Transformation :\n",
    "I will use Yeo-Johnson to transform this dataset so that the resulting features looks more normally distributed. And also reduce skewness and outliers."
   ]
  },
  {
   "cell_type": "code",
   "execution_count": 92,
   "id": "3b2155a1",
   "metadata": {},
   "outputs": [],
   "source": [
    "# First importing the required library for power transformation\n",
    "\n",
    "from sklearn.preprocessing import PowerTransformer"
   ]
  },
  {
   "cell_type": "code",
   "execution_count": 93,
   "id": "60cf8fe4",
   "metadata": {},
   "outputs": [
    {
     "data": {
      "text/html": [
       "<div>\n",
       "<style scoped>\n",
       "    .dataframe tbody tr th:only-of-type {\n",
       "        vertical-align: middle;\n",
       "    }\n",
       "\n",
       "    .dataframe tbody tr th {\n",
       "        vertical-align: top;\n",
       "    }\n",
       "\n",
       "    .dataframe thead th {\n",
       "        text-align: right;\n",
       "    }\n",
       "</style>\n",
       "<table border=\"1\" class=\"dataframe\">\n",
       "  <thead>\n",
       "    <tr style=\"text-align: right;\">\n",
       "      <th></th>\n",
       "      <th>Total_Stops</th>\n",
       "      <th>Journey_Day</th>\n",
       "      <th>Journey_Month</th>\n",
       "      <th>Dep_Hour</th>\n",
       "      <th>Dep_Min</th>\n",
       "      <th>Arrival_Hour</th>\n",
       "      <th>Arrival_Min</th>\n",
       "      <th>Duration_hours</th>\n",
       "      <th>Duration_mins</th>\n",
       "      <th>Air India</th>\n",
       "      <th>...</th>\n",
       "      <th>SpiceJet</th>\n",
       "      <th>Vistara</th>\n",
       "      <th>Chennai</th>\n",
       "      <th>Delhi</th>\n",
       "      <th>Kolkata</th>\n",
       "      <th>Mumbai</th>\n",
       "      <th>Cochin</th>\n",
       "      <th>Delhi</th>\n",
       "      <th>Hyderabad</th>\n",
       "      <th>Kolkata</th>\n",
       "    </tr>\n",
       "  </thead>\n",
       "  <tbody>\n",
       "    <tr>\n",
       "      <th>0</th>\n",
       "      <td>-1.259152</td>\n",
       "      <td>1.216754</td>\n",
       "      <td>-1.355849</td>\n",
       "      <td>1.588580</td>\n",
       "      <td>-0.179161</td>\n",
       "      <td>-1.616579</td>\n",
       "      <td>-0.887192</td>\n",
       "      <td>-1.170459</td>\n",
       "      <td>1.300069</td>\n",
       "      <td>-0.442785</td>\n",
       "      <td>...</td>\n",
       "      <td>-0.287972</td>\n",
       "      <td>-0.217382</td>\n",
       "      <td>-0.192319</td>\n",
       "      <td>-0.859093</td>\n",
       "      <td>-0.606266</td>\n",
       "      <td>-0.264206</td>\n",
       "      <td>-0.859093</td>\n",
       "      <td>1.965219</td>\n",
       "      <td>-0.264206</td>\n",
       "      <td>-0.192319</td>\n",
       "    </tr>\n",
       "    <tr>\n",
       "      <th>1</th>\n",
       "      <td>1.665321</td>\n",
       "      <td>-1.534461</td>\n",
       "      <td>0.092432</td>\n",
       "      <td>-1.341329</td>\n",
       "      <td>1.323842</td>\n",
       "      <td>-0.182563</td>\n",
       "      <td>-0.567984</td>\n",
       "      <td>-0.068402</td>\n",
       "      <td>-0.224018</td>\n",
       "      <td>2.258432</td>\n",
       "      <td>...</td>\n",
       "      <td>-0.287972</td>\n",
       "      <td>-0.217382</td>\n",
       "      <td>-0.192319</td>\n",
       "      <td>-0.859093</td>\n",
       "      <td>1.649441</td>\n",
       "      <td>-0.264206</td>\n",
       "      <td>-0.859093</td>\n",
       "      <td>-0.508849</td>\n",
       "      <td>-0.264206</td>\n",
       "      <td>-0.192319</td>\n",
       "    </tr>\n",
       "    <tr>\n",
       "      <th>2</th>\n",
       "      <td>1.665321</td>\n",
       "      <td>-0.501189</td>\n",
       "      <td>1.218651</td>\n",
       "      <td>-0.581313</td>\n",
       "      <td>0.092465</td>\n",
       "      <td>-1.299287</td>\n",
       "      <td>0.052360</td>\n",
       "      <td>1.079060</td>\n",
       "      <td>-1.628204</td>\n",
       "      <td>-0.442785</td>\n",
       "      <td>...</td>\n",
       "      <td>-0.287972</td>\n",
       "      <td>-0.217382</td>\n",
       "      <td>-0.192319</td>\n",
       "      <td>1.164018</td>\n",
       "      <td>-0.606266</td>\n",
       "      <td>-0.264206</td>\n",
       "      <td>1.164018</td>\n",
       "      <td>-0.508849</td>\n",
       "      <td>-0.264206</td>\n",
       "      <td>-0.192319</td>\n",
       "    </tr>\n",
       "    <tr>\n",
       "      <th>3</th>\n",
       "      <td>0.307368</td>\n",
       "      <td>-0.132587</td>\n",
       "      <td>0.092432</td>\n",
       "      <td>0.962729</td>\n",
       "      <td>-1.048043</td>\n",
       "      <td>1.587940</td>\n",
       "      <td>0.351380</td>\n",
       "      <td>-0.403195</td>\n",
       "      <td>-0.224018</td>\n",
       "      <td>-0.442785</td>\n",
       "      <td>...</td>\n",
       "      <td>-0.287972</td>\n",
       "      <td>-0.217382</td>\n",
       "      <td>-0.192319</td>\n",
       "      <td>-0.859093</td>\n",
       "      <td>1.649441</td>\n",
       "      <td>-0.264206</td>\n",
       "      <td>-0.859093</td>\n",
       "      <td>-0.508849</td>\n",
       "      <td>-0.264206</td>\n",
       "      <td>-0.192319</td>\n",
       "    </tr>\n",
       "    <tr>\n",
       "      <th>4</th>\n",
       "      <td>0.307368</td>\n",
       "      <td>-1.534461</td>\n",
       "      <td>-1.355849</td>\n",
       "      <td>0.639320</td>\n",
       "      <td>1.323842</td>\n",
       "      <td>1.191130</td>\n",
       "      <td>0.644066</td>\n",
       "      <td>-0.609665</td>\n",
       "      <td>0.986398</td>\n",
       "      <td>-0.442785</td>\n",
       "      <td>...</td>\n",
       "      <td>-0.287972</td>\n",
       "      <td>-0.217382</td>\n",
       "      <td>-0.192319</td>\n",
       "      <td>-0.859093</td>\n",
       "      <td>-0.606266</td>\n",
       "      <td>-0.264206</td>\n",
       "      <td>-0.859093</td>\n",
       "      <td>1.965219</td>\n",
       "      <td>-0.264206</td>\n",
       "      <td>-0.192319</td>\n",
       "    </tr>\n",
       "  </tbody>\n",
       "</table>\n",
       "<p>5 rows × 24 columns</p>\n",
       "</div>"
      ],
      "text/plain": [
       "   Total_Stops  Journey_Day  Journey_Month  Dep_Hour   Dep_Min  Arrival_Hour  \\\n",
       "0    -1.259152     1.216754      -1.355849  1.588580 -0.179161     -1.616579   \n",
       "1     1.665321    -1.534461       0.092432 -1.341329  1.323842     -0.182563   \n",
       "2     1.665321    -0.501189       1.218651 -0.581313  0.092465     -1.299287   \n",
       "3     0.307368    -0.132587       0.092432  0.962729 -1.048043      1.587940   \n",
       "4     0.307368    -1.534461      -1.355849  0.639320  1.323842      1.191130   \n",
       "\n",
       "   Arrival_Min  Duration_hours  Duration_mins  Air India  ...  SpiceJet  \\\n",
       "0    -0.887192       -1.170459       1.300069  -0.442785  ... -0.287972   \n",
       "1    -0.567984       -0.068402      -0.224018   2.258432  ... -0.287972   \n",
       "2     0.052360        1.079060      -1.628204  -0.442785  ... -0.287972   \n",
       "3     0.351380       -0.403195      -0.224018  -0.442785  ... -0.287972   \n",
       "4     0.644066       -0.609665       0.986398  -0.442785  ... -0.287972   \n",
       "\n",
       "    Vistara   Chennai     Delhi   Kolkata    Mumbai    Cochin     Delhi  \\\n",
       "0 -0.217382 -0.192319 -0.859093 -0.606266 -0.264206 -0.859093  1.965219   \n",
       "1 -0.217382 -0.192319 -0.859093  1.649441 -0.264206 -0.859093 -0.508849   \n",
       "2 -0.217382 -0.192319  1.164018 -0.606266 -0.264206  1.164018 -0.508849   \n",
       "3 -0.217382 -0.192319 -0.859093  1.649441 -0.264206 -0.859093 -0.508849   \n",
       "4 -0.217382 -0.192319 -0.859093 -0.606266 -0.264206 -0.859093  1.965219   \n",
       "\n",
       "   Hyderabad   Kolkata  \n",
       "0  -0.264206 -0.192319  \n",
       "1  -0.264206 -0.192319  \n",
       "2  -0.264206 -0.192319  \n",
       "3  -0.264206 -0.192319  \n",
       "4  -0.264206 -0.192319  \n",
       "\n",
       "[5 rows x 24 columns]"
      ]
     },
     "execution_count": 93,
     "metadata": {},
     "output_type": "execute_result"
    }
   ],
   "source": [
    "power=PowerTransformer(method='yeo-johnson')\n",
    "x=pd.DataFrame(power.fit_transform(x), columns=x.columns)\n",
    "x.head()"
   ]
  },
  {
   "cell_type": "markdown",
   "id": "098c52d0",
   "metadata": {},
   "source": [
    "# Machine Learning Models :\n",
    "Here we have a linear case, hence we'll go with Linear Regression and various other regression models."
   ]
  },
  {
   "cell_type": "code",
   "execution_count": 94,
   "id": "6c131b1e",
   "metadata": {},
   "outputs": [],
   "source": [
    "# Importing the necessary libraries :\n",
    "from sklearn.model_selection import train_test_split\n",
    "from sklearn.model_selection import cross_val_score\n",
    "from sklearn.linear_model import LinearRegression, Ridge, Lasso, ElasticNet\n",
    "from sklearn.svm import SVR\n",
    "from sklearn.tree import DecisionTreeRegressor\n",
    "from sklearn.ensemble import RandomForestRegressor\n",
    "from sklearn.neighbors import KNeighborsRegressor\n",
    "from sklearn.ensemble import AdaBoostRegressor\n",
    "from sklearn.ensemble import ExtraTreesRegressor\n",
    "from sklearn.ensemble import GradientBoostingRegressor\n",
    "from sklearn.metrics import r2_score\n",
    "from sklearn.metrics import mean_squared_error,mean_absolute_error"
   ]
  },
  {
   "cell_type": "markdown",
   "id": "9af6626b",
   "metadata": {},
   "source": [
    "# Finding best random state :"
   ]
  },
  {
   "cell_type": "code",
   "execution_count": 95,
   "id": "307f96e0",
   "metadata": {},
   "outputs": [
    {
     "name": "stdout",
     "output_type": "stream",
     "text": [
      "Highest r2 score is 0.6347646590223937 on random state 879\n"
     ]
    }
   ],
   "source": [
    "score=0\n",
    "random_state=0\n",
    "\n",
    "for i in range(1, 1000):\n",
    "    x_train,x_test,y_train,y_test=train_test_split(x, y,test_size=0.20,random_state=i)\n",
    "    lr=LinearRegression()\n",
    "    lr.fit(x_train, y_train)\n",
    "    pred=lr.predict(x_test)\n",
    "    r2=r2_score(y_test,pred)\n",
    "    \n",
    "    if r2>score:\n",
    "        score=r2\n",
    "        random_state=i\n",
    "\n",
    "print(\"Highest r2 score is\", score,\"on random state\", random_state)"
   ]
  },
  {
   "cell_type": "markdown",
   "id": "d2d47e26",
   "metadata": {},
   "source": [
    "# Required Evaluation Metrices :"
   ]
  },
  {
   "cell_type": "code",
   "execution_count": 96,
   "id": "ac3e54be",
   "metadata": {},
   "outputs": [],
   "source": [
    "# Spliting the dataset\n",
    "def reg(model, x, y):\n",
    "    x_train,x_test,y_train,y_test=train_test_split(x,y,test_size=0.20,random_state=879)\n",
    "# Here 20% will be used for testing purpose and rest 80% for training purpose.\n",
    "    \n",
    "    # Training the model\n",
    "    model.fit(x_train, y_train)\n",
    "    \n",
    "    # Predicting x_test\n",
    "    pred=model.predict(x_test)\n",
    "    \n",
    "    # Mean square error should be low always\n",
    "    mse=mean_squared_error(y_test,pred,squared=False)\n",
    "    print(\"Mean Square Error Score is:\", mse)\n",
    "    \n",
    "    # Mean absolute error should be low\n",
    "    mae=mean_absolute_error(y_test,pred)\n",
    "    print(\"Mean Absolute Error Score is:\", mae)\n",
    "    \n",
    "    # Root Mean square error\n",
    "    rmse=np.sqrt(mean_squared_error(y_test,pred,squared=False))\n",
    "    print(\"Root Mean Square Error is:\", rmse)\n",
    "    \n",
    "    # r2 score\n",
    "    r2=r2_score(y_test,pred,multioutput='variance_weighted')*100\n",
    "    print(\"r2 Score is:\", r2)\n",
    "    \n",
    "    # Cross Validation Score\n",
    "    cv=(cross_val_score(model, x, y, cv=5).mean())*100\n",
    "    print(\"Cross Validation Score:\", cv)"
   ]
  },
  {
   "cell_type": "markdown",
   "id": "8dd28254",
   "metadata": {},
   "source": [
    "Now we can call all the models one by one using this function :"
   ]
  },
  {
   "cell_type": "code",
   "execution_count": 97,
   "id": "bd6e692a",
   "metadata": {},
   "outputs": [
    {
     "name": "stdout",
     "output_type": "stream",
     "text": [
      "Mean Square Error Score is: 2638.6933556060144\n",
      "Mean Absolute Error Score is: 1907.537151233565\n",
      "Root Mean Square Error is: 51.368213474930336\n",
      "r2 Score is: 63.47646590223937\n",
      "Cross Validation Score: 56.08089617702152\n"
     ]
    }
   ],
   "source": [
    "# Linear Regression\n",
    "\n",
    "model1=LinearRegression()\n",
    "reg(model1,x,y)"
   ]
  },
  {
   "cell_type": "code",
   "execution_count": 98,
   "id": "608edb81",
   "metadata": {},
   "outputs": [
    {
     "name": "stdout",
     "output_type": "stream",
     "text": [
      "Mean Square Error Score is: 2638.892895143088\n",
      "Mean Absolute Error Score is: 1908.074822549121\n",
      "Root Mean Square Error is: 51.370155685408314\n",
      "r2 Score is: 63.47094183129881\n",
      "Cross Validation Score: 56.08299040392228\n"
     ]
    }
   ],
   "source": [
    "# Ridge Regression\n",
    "\n",
    "model2=Ridge(alpha=0.001, normalize=True)\n",
    "reg(model2,x,y)"
   ]
  },
  {
   "cell_type": "code",
   "execution_count": 99,
   "id": "307c630e",
   "metadata": {},
   "outputs": [
    {
     "name": "stdout",
     "output_type": "stream",
     "text": [
      "Mean Square Error Score is: 2638.973512032937\n",
      "Mean Absolute Error Score is: 1908.0663112227294\n",
      "Root Mean Square Error is: 51.37094034600629\n",
      "r2 Score is: 63.468709907414286\n",
      "Cross Validation Score: 56.08314501469947\n"
     ]
    }
   ],
   "source": [
    "# Lasso Regression\n",
    "\n",
    "model3=Lasso(alpha=0.001, normalize=True)\n",
    "reg(model3,x,y)"
   ]
  },
  {
   "cell_type": "code",
   "execution_count": 100,
   "id": "4b3898f9",
   "metadata": {},
   "outputs": [
    {
     "name": "stdout",
     "output_type": "stream",
     "text": [
      "Mean Square Error Score is: 2638.969785371468\n",
      "Mean Absolute Error Score is: 1908.0577693772632\n",
      "Root Mean Square Error is: 51.37090407391589\n",
      "r2 Score is: 63.46881308363373\n",
      "Cross Validation Score: 56.08307262488618\n"
     ]
    }
   ],
   "source": [
    "# ElasticNet\n",
    "\n",
    "model4=ElasticNet(alpha=0.0001)\n",
    "reg(model4,x,y)"
   ]
  },
  {
   "cell_type": "code",
   "execution_count": 101,
   "id": "fac7c6c4",
   "metadata": {},
   "outputs": [
    {
     "name": "stdout",
     "output_type": "stream",
     "text": [
      "Mean Square Error Score is: 4144.292331414336\n",
      "Mean Absolute Error Score is: 3346.117379084622\n",
      "Root Mean Square Error is: 64.37617829146382\n",
      "r2 Score is: 9.906032679866572\n",
      "Cross Validation Score: 7.048195687452726\n"
     ]
    }
   ],
   "source": [
    "# Support Vector Regression (poly)\n",
    "\n",
    "model5=SVR(kernel='poly', gamma='auto')\n",
    "reg(model5,x,y)"
   ]
  },
  {
   "cell_type": "code",
   "execution_count": 102,
   "id": "854ad457",
   "metadata": {},
   "outputs": [
    {
     "name": "stdout",
     "output_type": "stream",
     "text": [
      "Mean Square Error Score is: 2824.3355736597973\n",
      "Mean Absolute Error Score is: 1892.671064833387\n",
      "Root Mean Square Error is: 53.1444782988769\n",
      "r2 Score is: 58.156544741581115\n",
      "Cross Validation Score: 49.410690206870754\n"
     ]
    }
   ],
   "source": [
    "# Support Vector Regression (linear)\n",
    "\n",
    "model6=SVR(kernel='linear', gamma='auto')\n",
    "reg(model6,x,y)"
   ]
  },
  {
   "cell_type": "code",
   "execution_count": 103,
   "id": "885099d5",
   "metadata": {},
   "outputs": [
    {
     "name": "stdout",
     "output_type": "stream",
     "text": [
      "Mean Square Error Score is: 4191.225663791156\n",
      "Mean Absolute Error Score is: 3382.1160872366463\n",
      "Root Mean Square Error is: 64.73967611744096\n",
      "r2 Score is: 7.853883483547042\n",
      "Cross Validation Score: 5.686743107502923\n"
     ]
    }
   ],
   "source": [
    "# Support Vector Regression (rbf)\n",
    "\n",
    "model7=SVR(kernel='rbf', gamma='auto')\n",
    "reg(model7,x,y)"
   ]
  },
  {
   "cell_type": "code",
   "execution_count": 104,
   "id": "6026a249",
   "metadata": {},
   "outputs": [
    {
     "name": "stdout",
     "output_type": "stream",
     "text": [
      "Mean Square Error Score is: 2966.1297269703414\n",
      "Mean Absolute Error Score is: 1756.2766417095618\n",
      "Root Mean Square Error is: 54.462186211814355\n",
      "r2 Score is: 53.849625441628945\n",
      "Cross Validation Score: 52.9206885829735\n"
     ]
    }
   ],
   "source": [
    "# Decision Tree Regressor\n",
    "\n",
    "model8=DecisionTreeRegressor(criterion=\"poisson\", random_state=111)\n",
    "reg(model8,x,y)"
   ]
  },
  {
   "cell_type": "code",
   "execution_count": 105,
   "id": "b6af3af1",
   "metadata": {},
   "outputs": [
    {
     "name": "stdout",
     "output_type": "stream",
     "text": [
      "Mean Square Error Score is: 2067.7360458793405\n",
      "Mean Absolute Error Score is: 1203.6466629258018\n",
      "Root Mean Square Error is: 45.47236573875765\n",
      "r2 Score is: 77.57227901552245\n",
      "Cross Validation Score: 78.70636387564295\n"
     ]
    }
   ],
   "source": [
    "# Random Forest Regressor\n",
    "\n",
    "model9=RandomForestRegressor(n_estimators=10,random_state=40)\n",
    "reg(model9,x,y)"
   ]
  },
  {
   "cell_type": "code",
   "execution_count": 106,
   "id": "62aae755",
   "metadata": {},
   "outputs": [
    {
     "name": "stdout",
     "output_type": "stream",
     "text": [
      "Mean Square Error Score is: 2356.104734291708\n",
      "Mean Absolute Error Score is: 1406.2311651848386\n",
      "Root Mean Square Error is: 48.53972326138364\n",
      "r2 Score is: 70.88048541750258\n",
      "Cross Validation Score: 70.23076807717366\n"
     ]
    }
   ],
   "source": [
    "# K Neighbors Regressor\n",
    "\n",
    "model10=KNeighborsRegressor(n_neighbors=2)\n",
    "reg(model10,x,y)"
   ]
  },
  {
   "cell_type": "code",
   "execution_count": 107,
   "id": "0a1e2bc7",
   "metadata": {},
   "outputs": [
    {
     "name": "stdout",
     "output_type": "stream",
     "text": [
      "Mean Square Error Score is: 2022.7762051297298\n",
      "Mean Absolute Error Score is: 1429.7680157945297\n",
      "Root Mean Square Error is: 44.97528438075439\n",
      "r2 Score is: 78.53699041234088\n",
      "Cross Validation Score: 74.8941742036605\n"
     ]
    }
   ],
   "source": [
    "# Gradient Boosting Regressor\n",
    "\n",
    "model11=GradientBoostingRegressor(n_estimators=120)\n",
    "reg(model11,x,y)"
   ]
  },
  {
   "cell_type": "code",
   "execution_count": 108,
   "id": "175f273a",
   "metadata": {},
   "outputs": [
    {
     "name": "stdout",
     "output_type": "stream",
     "text": [
      "Mean Square Error Score is: 3978.3954181735435\n",
      "Mean Absolute Error Score is: 3286.551003099405\n",
      "Root Mean Square Error is: 63.07452273440952\n",
      "r2 Score is: 16.974626246811198\n",
      "Cross Validation Score: 24.964570535557105\n"
     ]
    }
   ],
   "source": [
    "# Ada Boost Regressor\n",
    "\n",
    "model12=AdaBoostRegressor(n_estimators=100,learning_rate=1.0,random_state=40)\n",
    "reg(model12,x,y)"
   ]
  },
  {
   "cell_type": "code",
   "execution_count": 109,
   "id": "08720c5f",
   "metadata": {},
   "outputs": [
    {
     "name": "stdout",
     "output_type": "stream",
     "text": [
      "Mean Square Error Score is: 2096.263976700971\n",
      "Mean Absolute Error Score is: 1223.5459832579418\n",
      "Root Mean Square Error is: 45.78497544720288\n",
      "r2 Score is: 76.94915291439017\n",
      "Cross Validation Score: 78.46707234407684\n"
     ]
    }
   ],
   "source": [
    "# Extra Trees Regressor\n",
    "\n",
    "model13=ExtraTreesRegressor(n_estimators=300)\n",
    "reg(model13,x,y)"
   ]
  },
  {
   "cell_type": "markdown",
   "id": "34c5d990",
   "metadata": {},
   "source": [
    "__After finding all the scores of various models, we found that Random Forest Regressor model gives the highest r2 score, and less difference between r2score and cv score. Hence we choose this model and proceed further with the process.__"
   ]
  },
  {
   "cell_type": "code",
   "execution_count": 110,
   "id": "cacbc3b9",
   "metadata": {},
   "outputs": [],
   "source": [
    "predict=model9.predict(x_test)"
   ]
  },
  {
   "cell_type": "code",
   "execution_count": 111,
   "id": "7724fc26",
   "metadata": {},
   "outputs": [
    {
     "data": {
      "text/plain": [
       "0.9148771657397163"
      ]
     },
     "execution_count": 111,
     "metadata": {},
     "output_type": "execute_result"
    }
   ],
   "source": [
    "model9.score(x_train,y_train)"
   ]
  },
  {
   "cell_type": "code",
   "execution_count": 112,
   "id": "de9855e8",
   "metadata": {},
   "outputs": [
    {
     "data": {
      "text/plain": [
       "0.9118508206260099"
      ]
     },
     "execution_count": 112,
     "metadata": {},
     "output_type": "execute_result"
    }
   ],
   "source": [
    "model9.score(x_test,y_test)"
   ]
  },
  {
   "cell_type": "code",
   "execution_count": 113,
   "id": "08073a60",
   "metadata": {},
   "outputs": [
    {
     "data": {
      "text/plain": [
       "0.9118508206260099"
      ]
     },
     "execution_count": 113,
     "metadata": {},
     "output_type": "execute_result"
    }
   ],
   "source": [
    "r2_score(y_test,predict)"
   ]
  },
  {
   "cell_type": "markdown",
   "id": "c0d14e0b",
   "metadata": {},
   "source": [
    "__Our model is performing good with the predictions and so we can proceed with the hyper tuning process.__"
   ]
  },
  {
   "cell_type": "markdown",
   "id": "056b8d66",
   "metadata": {},
   "source": [
    "# Hyper Parameter Tuning :\n",
    "Applying hyper parameter tuning using Randomized Search CV method, to find the best parameters of Random Forest Regressor Model"
   ]
  },
  {
   "cell_type": "markdown",
   "id": "651ec06e",
   "metadata": {},
   "source": [
    "First we have to create a dictionary of these parameters so that it can be passsed to the grid search function."
   ]
  },
  {
   "cell_type": "code",
   "execution_count": 114,
   "id": "b4da8905",
   "metadata": {},
   "outputs": [],
   "source": [
    "from sklearn.model_selection import RandomizedSearchCV"
   ]
  },
  {
   "cell_type": "code",
   "execution_count": 115,
   "id": "d18edc42",
   "metadata": {},
   "outputs": [],
   "source": [
    "# Number of trees in random forest\n",
    "n_estimators = [int(x) for x in np.linspace(start = 100, stop = 1200, num = 12)]\n",
    "\n",
    "# Number of features to consider at every split\n",
    "max_features = ['auto', 'sqrt']\n",
    "\n",
    "# Maximum number of levels in tree\n",
    "max_depth = [int(x) for x in np.linspace(5, 30, num = 6)]\n",
    "\n",
    "# Number of samples\n",
    "max_samples = [0.5,0.75,1.0]\n",
    "\n",
    "# Bootstrap samples\n",
    "bootstrap = [True,False]\n",
    "\n",
    "# Minimum number of samples required to split a node\n",
    "min_samples_split = [2, 5, 10, 15, 100]\n",
    "\n",
    "# Minimum number of samples required at each leaf node\n",
    "min_samples_leaf = [1, 2, 5, 10]\n"
   ]
  },
  {
   "cell_type": "code",
   "execution_count": 116,
   "id": "aab816fd",
   "metadata": {},
   "outputs": [],
   "source": [
    "random_grid = {\n",
    "               'n_estimators': n_estimators,\n",
    "               'max_features': max_features,\n",
    "               'max_depth': max_depth,\n",
    "               'max_samples':max_samples,\n",
    "               'bootstrap':bootstrap,\n",
    "               'min_samples_split': min_samples_split,\n",
    "               'min_samples_leaf': min_samples_leaf}"
   ]
  },
  {
   "cell_type": "code",
   "execution_count": 117,
   "id": "96001a4c",
   "metadata": {},
   "outputs": [],
   "source": [
    "random = RandomizedSearchCV(estimator = RandomForestRegressor(), \n",
    "                            param_distributions = random_grid,\n",
    "                            scoring='neg_mean_squared_error', \n",
    "                            n_iter = 10, cv = 5, verbose=2, random_state=879, n_jobs=-1)"
   ]
  },
  {
   "cell_type": "code",
   "execution_count": 118,
   "id": "dc01ac79",
   "metadata": {},
   "outputs": [
    {
     "name": "stdout",
     "output_type": "stream",
     "text": [
      "Fitting 5 folds for each of 10 candidates, totalling 50 fits\n"
     ]
    },
    {
     "data": {
      "text/plain": [
       "RandomizedSearchCV(cv=5, estimator=RandomForestRegressor(), n_jobs=-1,\n",
       "                   param_distributions={'bootstrap': [True, False],\n",
       "                                        'max_depth': [5, 10, 15, 20, 25, 30],\n",
       "                                        'max_features': ['auto', 'sqrt'],\n",
       "                                        'max_samples': [0.5, 0.75, 1.0],\n",
       "                                        'min_samples_leaf': [1, 2, 5, 10],\n",
       "                                        'min_samples_split': [2, 5, 10, 15,\n",
       "                                                              100],\n",
       "                                        'n_estimators': [100, 200, 300, 400,\n",
       "                                                         500, 600, 700, 800,\n",
       "                                                         900, 1000, 1100,\n",
       "                                                         1200]},\n",
       "                   random_state=879, scoring='neg_mean_squared_error',\n",
       "                   verbose=2)"
      ]
     },
     "execution_count": 118,
     "metadata": {},
     "output_type": "execute_result"
    }
   ],
   "source": [
    "random.fit(x_train,y_train)"
   ]
  },
  {
   "cell_type": "code",
   "execution_count": 119,
   "id": "ff2e3300",
   "metadata": {},
   "outputs": [
    {
     "data": {
      "text/plain": [
       "{'n_estimators': 400,\n",
       " 'min_samples_split': 5,\n",
       " 'min_samples_leaf': 2,\n",
       " 'max_samples': 0.75,\n",
       " 'max_features': 'auto',\n",
       " 'max_depth': 15,\n",
       " 'bootstrap': True}"
      ]
     },
     "execution_count": 119,
     "metadata": {},
     "output_type": "execute_result"
    }
   ],
   "source": [
    "random.best_params_"
   ]
  },
  {
   "cell_type": "markdown",
   "id": "1d30f63d",
   "metadata": {},
   "source": [
    "So here we have found the best parameters for our model, and now we can finally train our model."
   ]
  },
  {
   "cell_type": "code",
   "execution_count": 120,
   "id": "c7c07efa",
   "metadata": {},
   "outputs": [],
   "source": [
    "RFR=RandomForestRegressor(max_features='auto', \n",
    "                          n_estimators=400, \n",
    "                          min_samples_split=5, \n",
    "                          min_samples_leaf=2, \n",
    "                          max_samples=0.75, \n",
    "                          max_depth=15, \n",
    "                          bootstrap=True)"
   ]
  },
  {
   "cell_type": "code",
   "execution_count": 121,
   "id": "45d71c17",
   "metadata": {},
   "outputs": [
    {
     "name": "stdout",
     "output_type": "stream",
     "text": [
      "r2 score for the final model :  81.32377500812272\n",
      "Mean Square Error Score is: 2039.3375614669335\n",
      "Mean Absolute Error Score is: 1172.1336174037363\n",
      "Root Mean Square Error is: 45.15902524930021\n"
     ]
    }
   ],
   "source": [
    "RFR.fit(x_train,y_train)\n",
    "pred=RFR.predict(x_test)\n",
    "r2=r2_score(y_test, pred)*100\n",
    "print('r2 score for the final model : ',r2)\n",
    "mse=mean_squared_error(y_test,pred,squared=False)\n",
    "print(\"Mean Square Error Score is:\", mse)\n",
    "mae=mean_absolute_error(y_test,pred)\n",
    "print(\"Mean Absolute Error Score is:\", mae)\n",
    "rmse=np.sqrt(mean_squared_error(y_test,pred,squared=False))\n",
    "print(\"Root Mean Square Error is:\", rmse)"
   ]
  },
  {
   "cell_type": "markdown",
   "id": "825204f9",
   "metadata": {},
   "source": [
    "# Saving the best model :"
   ]
  },
  {
   "cell_type": "code",
   "execution_count": 122,
   "id": "8c9d0f04",
   "metadata": {},
   "outputs": [],
   "source": [
    "import pickle\n",
    "filename='New_Flight_Price.pkl'\n",
    "pickle.dump(RFR,open(filename,'wb'))"
   ]
  },
  {
   "cell_type": "markdown",
   "id": "0b08ea03",
   "metadata": {},
   "source": [
    "# Exploratory Data Analysis for Test Dataset"
   ]
  },
  {
   "cell_type": "code",
   "execution_count": 123,
   "id": "6083d7d3",
   "metadata": {},
   "outputs": [],
   "source": [
    "testset=pd.read_excel(\"Flight_Test.xlsx\")"
   ]
  },
  {
   "cell_type": "code",
   "execution_count": 124,
   "id": "c4603144",
   "metadata": {},
   "outputs": [
    {
     "data": {
      "text/html": [
       "<div>\n",
       "<style scoped>\n",
       "    .dataframe tbody tr th:only-of-type {\n",
       "        vertical-align: middle;\n",
       "    }\n",
       "\n",
       "    .dataframe tbody tr th {\n",
       "        vertical-align: top;\n",
       "    }\n",
       "\n",
       "    .dataframe thead th {\n",
       "        text-align: right;\n",
       "    }\n",
       "</style>\n",
       "<table border=\"1\" class=\"dataframe\">\n",
       "  <thead>\n",
       "    <tr style=\"text-align: right;\">\n",
       "      <th></th>\n",
       "      <th>Airline</th>\n",
       "      <th>Date_of_Journey</th>\n",
       "      <th>Source</th>\n",
       "      <th>Destination</th>\n",
       "      <th>Route</th>\n",
       "      <th>Dep_Time</th>\n",
       "      <th>Arrival_Time</th>\n",
       "      <th>Duration</th>\n",
       "      <th>Total_Stops</th>\n",
       "      <th>Additional_Info</th>\n",
       "    </tr>\n",
       "  </thead>\n",
       "  <tbody>\n",
       "    <tr>\n",
       "      <th>0</th>\n",
       "      <td>Jet Airways</td>\n",
       "      <td>6/06/2019</td>\n",
       "      <td>Delhi</td>\n",
       "      <td>Cochin</td>\n",
       "      <td>DEL → BOM → COK</td>\n",
       "      <td>17:30</td>\n",
       "      <td>04:25 07 Jun</td>\n",
       "      <td>10h 55m</td>\n",
       "      <td>1 stop</td>\n",
       "      <td>No info</td>\n",
       "    </tr>\n",
       "    <tr>\n",
       "      <th>1</th>\n",
       "      <td>IndiGo</td>\n",
       "      <td>12/05/2019</td>\n",
       "      <td>Kolkata</td>\n",
       "      <td>Banglore</td>\n",
       "      <td>CCU → MAA → BLR</td>\n",
       "      <td>06:20</td>\n",
       "      <td>10:20</td>\n",
       "      <td>4h</td>\n",
       "      <td>1 stop</td>\n",
       "      <td>No info</td>\n",
       "    </tr>\n",
       "    <tr>\n",
       "      <th>2</th>\n",
       "      <td>Jet Airways</td>\n",
       "      <td>21/05/2019</td>\n",
       "      <td>Delhi</td>\n",
       "      <td>Cochin</td>\n",
       "      <td>DEL → BOM → COK</td>\n",
       "      <td>19:15</td>\n",
       "      <td>19:00 22 May</td>\n",
       "      <td>23h 45m</td>\n",
       "      <td>1 stop</td>\n",
       "      <td>In-flight meal not included</td>\n",
       "    </tr>\n",
       "    <tr>\n",
       "      <th>3</th>\n",
       "      <td>Multiple carriers</td>\n",
       "      <td>21/05/2019</td>\n",
       "      <td>Delhi</td>\n",
       "      <td>Cochin</td>\n",
       "      <td>DEL → BOM → COK</td>\n",
       "      <td>08:00</td>\n",
       "      <td>21:00</td>\n",
       "      <td>13h</td>\n",
       "      <td>1 stop</td>\n",
       "      <td>No info</td>\n",
       "    </tr>\n",
       "    <tr>\n",
       "      <th>4</th>\n",
       "      <td>Air Asia</td>\n",
       "      <td>24/06/2019</td>\n",
       "      <td>Banglore</td>\n",
       "      <td>Delhi</td>\n",
       "      <td>BLR → DEL</td>\n",
       "      <td>23:55</td>\n",
       "      <td>02:45 25 Jun</td>\n",
       "      <td>2h 50m</td>\n",
       "      <td>non-stop</td>\n",
       "      <td>No info</td>\n",
       "    </tr>\n",
       "  </tbody>\n",
       "</table>\n",
       "</div>"
      ],
      "text/plain": [
       "             Airline Date_of_Journey    Source Destination            Route  \\\n",
       "0        Jet Airways       6/06/2019     Delhi      Cochin  DEL → BOM → COK   \n",
       "1             IndiGo      12/05/2019   Kolkata    Banglore  CCU → MAA → BLR   \n",
       "2        Jet Airways      21/05/2019     Delhi      Cochin  DEL → BOM → COK   \n",
       "3  Multiple carriers      21/05/2019     Delhi      Cochin  DEL → BOM → COK   \n",
       "4           Air Asia      24/06/2019  Banglore       Delhi        BLR → DEL   \n",
       "\n",
       "  Dep_Time  Arrival_Time Duration Total_Stops              Additional_Info  \n",
       "0    17:30  04:25 07 Jun  10h 55m      1 stop                      No info  \n",
       "1    06:20         10:20       4h      1 stop                      No info  \n",
       "2    19:15  19:00 22 May  23h 45m      1 stop  In-flight meal not included  \n",
       "3    08:00         21:00      13h      1 stop                      No info  \n",
       "4    23:55  02:45 25 Jun   2h 50m    non-stop                      No info  "
      ]
     },
     "execution_count": 124,
     "metadata": {},
     "output_type": "execute_result"
    }
   ],
   "source": [
    "testset.head()"
   ]
  },
  {
   "cell_type": "code",
   "execution_count": 125,
   "id": "becd7042",
   "metadata": {},
   "outputs": [
    {
     "data": {
      "text/plain": [
       "(2671, 10)"
      ]
     },
     "execution_count": 125,
     "metadata": {},
     "output_type": "execute_result"
    }
   ],
   "source": [
    "# Checking shape of the test dataset\n",
    "\n",
    "testset.shape"
   ]
  },
  {
   "cell_type": "markdown",
   "id": "5c0f45e2",
   "metadata": {},
   "source": [
    "__The test dataset has 2671 rows and 10 columns.__"
   ]
  },
  {
   "cell_type": "code",
   "execution_count": 126,
   "id": "730ab1ff",
   "metadata": {},
   "outputs": [
    {
     "data": {
      "text/plain": [
       "Airline            object\n",
       "Date_of_Journey    object\n",
       "Source             object\n",
       "Destination        object\n",
       "Route              object\n",
       "Dep_Time           object\n",
       "Arrival_Time       object\n",
       "Duration           object\n",
       "Total_Stops        object\n",
       "Additional_Info    object\n",
       "dtype: object"
      ]
     },
     "execution_count": 126,
     "metadata": {},
     "output_type": "execute_result"
    }
   ],
   "source": [
    "# Checking the types of the dataset\n",
    "\n",
    "testset.dtypes"
   ]
  },
  {
   "cell_type": "code",
   "execution_count": 127,
   "id": "62879727",
   "metadata": {},
   "outputs": [
    {
     "data": {
      "text/plain": [
       "Airline            0\n",
       "Date_of_Journey    0\n",
       "Source             0\n",
       "Destination        0\n",
       "Route              0\n",
       "Dep_Time           0\n",
       "Arrival_Time       0\n",
       "Duration           0\n",
       "Total_Stops        0\n",
       "Additional_Info    0\n",
       "dtype: int64"
      ]
     },
     "execution_count": 127,
     "metadata": {},
     "output_type": "execute_result"
    }
   ],
   "source": [
    "# Checking for null values in test dataset\n",
    "\n",
    "testset.isnull().sum()"
   ]
  },
  {
   "cell_type": "markdown",
   "id": "0631122b",
   "metadata": {},
   "source": [
    "__No null values in the test dataset.__"
   ]
  },
  {
   "cell_type": "code",
   "execution_count": 128,
   "id": "614f1fd2",
   "metadata": {},
   "outputs": [
    {
     "data": {
      "text/plain": [
       "<AxesSubplot:>"
      ]
     },
     "execution_count": 128,
     "metadata": {},
     "output_type": "execute_result"
    },
    {
     "data": {
      "image/png": "[encoded data removed]",
      "text/plain": [
       "<Figure size 432x288 with 2 Axes>"
      ]
     },
     "metadata": {
      "needs_background": "light"
     },
     "output_type": "display_data"
    }
   ],
   "source": [
    "sns.heatmap(testset.isnull())"
   ]
  },
  {
   "cell_type": "markdown",
   "id": "3bf46e69",
   "metadata": {},
   "source": [
    "__From the above heatmap visualization we can observe that there are no white spaces, hence no null values.__"
   ]
  },
  {
   "cell_type": "code",
   "execution_count": 129,
   "id": "5f6b71ea",
   "metadata": {},
   "outputs": [
    {
     "data": {
      "text/plain": [
       "Airline             11\n",
       "Date_of_Journey     44\n",
       "Source               5\n",
       "Destination          6\n",
       "Route              100\n",
       "Dep_Time           199\n",
       "Arrival_Time       704\n",
       "Duration           320\n",
       "Total_Stops          5\n",
       "Additional_Info      6\n",
       "dtype: int64"
      ]
     },
     "execution_count": 129,
     "metadata": {},
     "output_type": "execute_result"
    }
   ],
   "source": [
    "testset.nunique()"
   ]
  },
  {
   "cell_type": "markdown",
   "id": "c154d9de",
   "metadata": {},
   "source": [
    "# Feature Engineering :"
   ]
  },
  {
   "cell_type": "markdown",
   "id": "f7c3b4f9",
   "metadata": {},
   "source": [
    "In the dataset we can observe columns such as __\"Date_of_Journey\", \"Route\", \"Dep_Time\", \"Arrival_Time\", \"Duration\"__ are not in a proper format which can be used for analysis and machine learning models.\n",
    "\n",
    "Therefore we need to convert them into timestamps using __datetime__ library for proper analysis and prediction."
   ]
  },
  {
   "cell_type": "code",
   "execution_count": 130,
   "id": "1a93f3e0",
   "metadata": {},
   "outputs": [],
   "source": [
    "# To extract the day of journey\n",
    "testset['Journey_Day']= pd.to_datetime(testset.Date_of_Journey, format=\"%d/%m/%Y\").dt.day\n",
    "\n",
    "# To extract the month of journey\n",
    "testset['Journey_Month']= pd.to_datetime(testset.Date_of_Journey, format=\"%d/%m/%Y\").dt.month\n",
    "\n",
    "# Separate columns for day and month of journey are added to the test dataset.\n",
    "# Hence, \"Date_of_Journey\" can be dropped.\n",
    "testset.drop(['Date_of_Journey'],axis=1,inplace=True)\n",
    "\n",
    "# Now similarly, we can extract values from \"Dep_Time\"\n",
    "# To extract the hour value\n",
    "testset['Dep_Hour']= pd.to_datetime(testset.Dep_Time).dt.hour\n",
    "\n",
    "# To extract the minute value\n",
    "testset['Dep_Min']= pd.to_datetime(testset.Dep_Time).dt.minute\n",
    "\n",
    "# Separate columns for hour and minute of departure are added to the test dataset.\n",
    "# Hence, \"Dep_Time\" can be dropped.\n",
    "testset.drop(['Dep_Time'],axis=1,inplace=True)\n",
    "\n",
    "# Similarly, we can extract values from \"Arrival_Time\"\n",
    "# To extract the hour value\n",
    "testset['Arrival_Hour']= pd.to_datetime(testset.Arrival_Time).dt.hour\n",
    "\n",
    "# To extract the minute value\n",
    "testset['Arrival_Min']= pd.to_datetime(testset.Arrival_Time).dt.minute\n",
    "\n",
    "# Separate columns for hour and minute of arrival are added to the test dataset.\n",
    "# Hence, \"Arrival_Time\" can be dropped.\n",
    "testset.drop(['Arrival_Time'],axis=1,inplace=True)\n",
    "\n",
    "# Now we have to extract values from \"Duration\"\n",
    "duration = list(testset[\"Duration\"])\n",
    "\n",
    "for i in range(len(duration)):\n",
    "    if len(duration[i].split()) != 2:    # Check if duration contains only hour or mins\n",
    "        if \"h\" in duration[i]:\n",
    "            duration[i] = duration[i].strip() + \" 0m\"   # Adds 0 minute\n",
    "        else:\n",
    "            duration[i] = \"0h \" + duration[i]           # Adds 0 hour\n",
    "\n",
    "duration_hours = []\n",
    "duration_mins = []\n",
    "for i in range(len(duration)):\n",
    "    duration_hours.append(int(duration[i].split(sep = \"h\")[0])) # Extract hours from duration\n",
    "    duration_mins.append(int(duration[i].split(sep = \"m\")[0].split()[-1])) \n",
    "    # Extracts minutes from duration\n",
    "testset[\"Duration_hours\"] = duration_hours\n",
    "testset[\"Duration_mins\"] = duration_mins\n",
    "\n",
    "# Separate columns for hour and minute of duration are added to the test dataset.\n",
    "# Hence, \"Duration\" can be dropped.\n",
    "testset.drop(['Duration'],axis=1,inplace=True)\n",
    "\n",
    "# Handling \"Total_Stops\" column\n",
    "testset.Total_Stops.replace(['non-stop', '1 stop', '2 stops', '3 stops', '4 stops'],[0,1,2,3,4],inplace=True)"
   ]
  },
  {
   "cell_type": "markdown",
   "id": "197c4acd",
   "metadata": {},
   "source": [
    "# Handling Categorical Data :"
   ]
  },
  {
   "cell_type": "code",
   "execution_count": 131,
   "id": "588b761a",
   "metadata": {},
   "outputs": [],
   "source": [
    "# Airline feature :\n",
    "testset[\"Airline\"]=testset[\"Airline\"].replace({'Jet Airways Business': 'Jet Airways'})\n",
    "testset[\"Airline\"]=testset[\"Airline\"].replace({'Multiple carriers Premium economy': 'Multiple carriers'})\n",
    "testset[\"Airline\"]=testset[\"Airline\"].replace({'Vistara Premium economy': 'Vistara'})\n",
    "# Here Airline is nominal data, that is, data is not in any specific order, hence we use OneHotEncoder.\n",
    "Airline=testset['Airline']\n",
    "Airline=pd.get_dummies(Airline,drop_first=True)\n",
    "\n",
    "# Destination\n",
    "testset['Destination']=testset['Destination'].replace({'New Delhi':'Delhi'})\n",
    "Destination=testset['Destination']\n",
    "Destination=pd.get_dummies(Destination,drop_first=True)\n",
    "\n",
    "# Source\n",
    "# Here Source is nominal data, that is, data is not in any specific order, hence we use OneHotEncoder.\n",
    "Source=testset['Source']\n",
    "Source=pd.get_dummies(Source,drop_first=True)\n",
    "\n",
    "# Now lets merge all the 3 dataframes into our test dataset :\n",
    "testset=pd.concat([testset,Airline,Source,Destination],axis=1)\n",
    "\n",
    "\n",
    "# Therefore now we can drop those 3 columns from the dataset, as we already encoded them.\n",
    "#'Route' feature is similar to 'Total_Stops', as the route also gives total number of stopages during the whole journey, so it can be dropped.\n",
    "testset.drop(['Airline','Source','Destination','Route','Additional_Info'],axis=1,inplace=True)"
   ]
  },
  {
   "cell_type": "code",
   "execution_count": 132,
   "id": "00e36530",
   "metadata": {},
   "outputs": [
    {
     "data": {
      "text/html": [
       "<div>\n",
       "<style scoped>\n",
       "    .dataframe tbody tr th:only-of-type {\n",
       "        vertical-align: middle;\n",
       "    }\n",
       "\n",
       "    .dataframe tbody tr th {\n",
       "        vertical-align: top;\n",
       "    }\n",
       "\n",
       "    .dataframe thead th {\n",
       "        text-align: right;\n",
       "    }\n",
       "</style>\n",
       "<table border=\"1\" class=\"dataframe\">\n",
       "  <thead>\n",
       "    <tr style=\"text-align: right;\">\n",
       "      <th></th>\n",
       "      <th>Total_Stops</th>\n",
       "      <th>Journey_Day</th>\n",
       "      <th>Journey_Month</th>\n",
       "      <th>Dep_Hour</th>\n",
       "      <th>Dep_Min</th>\n",
       "      <th>Arrival_Hour</th>\n",
       "      <th>Arrival_Min</th>\n",
       "      <th>Duration_hours</th>\n",
       "      <th>Duration_mins</th>\n",
       "      <th>Air India</th>\n",
       "      <th>...</th>\n",
       "      <th>SpiceJet</th>\n",
       "      <th>Vistara</th>\n",
       "      <th>Chennai</th>\n",
       "      <th>Delhi</th>\n",
       "      <th>Kolkata</th>\n",
       "      <th>Mumbai</th>\n",
       "      <th>Cochin</th>\n",
       "      <th>Delhi</th>\n",
       "      <th>Hyderabad</th>\n",
       "      <th>Kolkata</th>\n",
       "    </tr>\n",
       "  </thead>\n",
       "  <tbody>\n",
       "    <tr>\n",
       "      <th>0</th>\n",
       "      <td>1</td>\n",
       "      <td>6</td>\n",
       "      <td>6</td>\n",
       "      <td>17</td>\n",
       "      <td>30</td>\n",
       "      <td>4</td>\n",
       "      <td>25</td>\n",
       "      <td>10</td>\n",
       "      <td>55</td>\n",
       "      <td>0</td>\n",
       "      <td>...</td>\n",
       "      <td>0</td>\n",
       "      <td>0</td>\n",
       "      <td>0</td>\n",
       "      <td>1</td>\n",
       "      <td>0</td>\n",
       "      <td>0</td>\n",
       "      <td>1</td>\n",
       "      <td>0</td>\n",
       "      <td>0</td>\n",
       "      <td>0</td>\n",
       "    </tr>\n",
       "  </tbody>\n",
       "</table>\n",
       "<p>1 rows × 24 columns</p>\n",
       "</div>"
      ],
      "text/plain": [
       "   Total_Stops  Journey_Day  Journey_Month  Dep_Hour  Dep_Min  Arrival_Hour  \\\n",
       "0            1            6              6        17       30             4   \n",
       "\n",
       "   Arrival_Min  Duration_hours  Duration_mins  Air India  ...  SpiceJet  \\\n",
       "0           25              10             55          0  ...         0   \n",
       "\n",
       "   Vistara  Chennai  Delhi  Kolkata  Mumbai  Cochin  Delhi  Hyderabad  Kolkata  \n",
       "0        0        0      1        0       0       1      0          0        0  \n",
       "\n",
       "[1 rows x 24 columns]"
      ]
     },
     "execution_count": 132,
     "metadata": {},
     "output_type": "execute_result"
    }
   ],
   "source": [
    "testset.head(1)"
   ]
  },
  {
   "cell_type": "code",
   "execution_count": 133,
   "id": "3b2380d0",
   "metadata": {},
   "outputs": [
    {
     "data": {
      "text/plain": [
       "Total_Stops          0\n",
       "Journey_Day          0\n",
       "Journey_Month        0\n",
       "Dep_Hour             0\n",
       "Dep_Min              0\n",
       "Arrival_Hour         0\n",
       "Arrival_Min          0\n",
       "Duration_hours       0\n",
       "Duration_mins        0\n",
       "Air India            0\n",
       "GoAir                0\n",
       "IndiGo               0\n",
       "Jet Airways          0\n",
       "Multiple carriers    0\n",
       "SpiceJet             0\n",
       "Vistara              0\n",
       "Chennai              0\n",
       "Delhi                0\n",
       "Kolkata              0\n",
       "Mumbai               0\n",
       "Cochin               0\n",
       "Delhi                0\n",
       "Hyderabad            0\n",
       "Kolkata              0\n",
       "dtype: int64"
      ]
     },
     "execution_count": 133,
     "metadata": {},
     "output_type": "execute_result"
    }
   ],
   "source": [
    "# Checking null values in the dataframe\n",
    "\n",
    "testset.isnull().sum()"
   ]
  },
  {
   "cell_type": "markdown",
   "id": "2a9126fe",
   "metadata": {},
   "source": [
    "__There are no missing values present in any of the columns.__"
   ]
  },
  {
   "cell_type": "markdown",
   "id": "ae3e1e95",
   "metadata": {},
   "source": [
    "# Detecting Outliers :\n"
   ]
  },
  {
   "cell_type": "code",
   "execution_count": 134,
   "id": "657e6ab6",
   "metadata": {},
   "outputs": [
    {
     "data": {
      "text/plain": [
       "Total_Stops             AxesSubplot(0.125,0.772143;0.168478x0.107857)\n",
       "Journey_Day          AxesSubplot(0.327174,0.772143;0.168478x0.107857)\n",
       "Journey_Month        AxesSubplot(0.529348,0.772143;0.168478x0.107857)\n",
       "Dep_Hour             AxesSubplot(0.731522,0.772143;0.168478x0.107857)\n",
       "Dep_Min                 AxesSubplot(0.125,0.642714;0.168478x0.107857)\n",
       "Arrival_Hour         AxesSubplot(0.327174,0.642714;0.168478x0.107857)\n",
       "Arrival_Min          AxesSubplot(0.529348,0.642714;0.168478x0.107857)\n",
       "Duration_hours       AxesSubplot(0.731522,0.642714;0.168478x0.107857)\n",
       "Duration_mins           AxesSubplot(0.125,0.513286;0.168478x0.107857)\n",
       "Air India            AxesSubplot(0.327174,0.513286;0.168478x0.107857)\n",
       "GoAir                AxesSubplot(0.529348,0.513286;0.168478x0.107857)\n",
       "IndiGo               AxesSubplot(0.731522,0.513286;0.168478x0.107857)\n",
       "Jet Airways             AxesSubplot(0.125,0.383857;0.168478x0.107857)\n",
       "Multiple carriers    AxesSubplot(0.327174,0.383857;0.168478x0.107857)\n",
       "SpiceJet             AxesSubplot(0.529348,0.383857;0.168478x0.107857)\n",
       "Vistara              AxesSubplot(0.731522,0.383857;0.168478x0.107857)\n",
       "Chennai                 AxesSubplot(0.125,0.254429;0.168478x0.107857)\n",
       "Delhi                   AxesSubplot(0.327174,0.125;0.168478x0.107857)\n",
       "Kolkata                 AxesSubplot(0.731522,0.125;0.168478x0.107857)\n",
       "Mumbai               AxesSubplot(0.731522,0.254429;0.168478x0.107857)\n",
       "Cochin                     AxesSubplot(0.125,0.125;0.168478x0.107857)\n",
       "Hyderabad               AxesSubplot(0.529348,0.125;0.168478x0.107857)\n",
       "dtype: object"
      ]
     },
     "execution_count": 134,
     "metadata": {},
     "output_type": "execute_result"
    },
    {
     "data": {
      "image/png": "[encoded data removed]",
      "text/plain": [
       "<Figure size 1440x1440 with 24 Axes>"
      ]
     },
     "metadata": {
      "needs_background": "light"
     },
     "output_type": "display_data"
    }
   ],
   "source": [
    "testset.plot(kind='box', subplots=True, layout=(6,4), figsize=(20,20), colormap='Blues')"
   ]
  },
  {
   "cell_type": "code",
   "execution_count": 135,
   "id": "8447a250",
   "metadata": {},
   "outputs": [],
   "source": [
    "z=np.abs(zscore(testset))"
   ]
  },
  {
   "cell_type": "code",
   "execution_count": 136,
   "id": "48df7df9",
   "metadata": {},
   "outputs": [],
   "source": [
    "testset_new=testset[(z<3).all(axis=1)]"
   ]
  },
  {
   "cell_type": "code",
   "execution_count": 137,
   "id": "657f87d9",
   "metadata": {},
   "outputs": [
    {
     "name": "stdout",
     "output_type": "stream",
     "text": [
      "Shape of original dataframe (2671, 24)\n"
     ]
    }
   ],
   "source": [
    "print('Shape of original dataframe', testset.shape)"
   ]
  },
  {
   "cell_type": "code",
   "execution_count": 138,
   "id": "831a85f2",
   "metadata": {},
   "outputs": [
    {
     "name": "stdout",
     "output_type": "stream",
     "text": [
      "Shape of dataframe after outliers removal (2084, 24)\n"
     ]
    }
   ],
   "source": [
    "print('Shape of dataframe after outliers removal', testset_new.shape)"
   ]
  },
  {
   "cell_type": "markdown",
   "id": "920f2a4e",
   "metadata": {},
   "source": [
    "# Skewness"
   ]
  },
  {
   "cell_type": "code",
   "execution_count": 139,
   "id": "c23a4cbb",
   "metadata": {},
   "outputs": [
    {
     "data": {
      "text/plain": [
       "Arrival_Hour        -0.443166\n",
       "Journey_Month       -0.403700\n",
       "Duration_mins       -0.104482\n",
       "Dep_Hour             0.093759\n",
       "Arrival_Min          0.115267\n",
       "Dep_Min              0.128515\n",
       "Journey_Day          0.199540\n",
       "Cochin               0.288396\n",
       "Delhi                0.288396\n",
       "Total_Stops          0.321364\n",
       "Jet Airways          0.692064\n",
       "Duration_hours       0.884647\n",
       "Kolkata              1.060800\n",
       "Delhi                1.441261\n",
       "IndiGo               1.570462\n",
       "Air India            1.808687\n",
       "Multiple carriers    2.188059\n",
       "SpiceJet             3.152294\n",
       "Hyderabad            3.383478\n",
       "Mumbai               3.383478\n",
       "Vistara              4.178576\n",
       "Chennai              5.716548\n",
       "Kolkata              5.716548\n",
       "GoAir                7.425946\n",
       "dtype: float64"
      ]
     },
     "execution_count": 139,
     "metadata": {},
     "output_type": "execute_result"
    }
   ],
   "source": [
    "testset.skew().sort_values()"
   ]
  },
  {
   "cell_type": "code",
   "execution_count": 140,
   "id": "7649af54",
   "metadata": {},
   "outputs": [],
   "source": [
    "testset[\"Duration_hours\"] = np.log1p(testset[\"Duration_hours\"])"
   ]
  },
  {
   "cell_type": "code",
   "execution_count": 141,
   "id": "604b4845",
   "metadata": {},
   "outputs": [
    {
     "data": {
      "text/plain": [
       "Arrival_Hour        -0.443166\n",
       "Journey_Month       -0.403700\n",
       "Duration_hours      -0.124116\n",
       "Duration_mins       -0.104482\n",
       "Dep_Hour             0.093759\n",
       "Arrival_Min          0.115267\n",
       "Dep_Min              0.128515\n",
       "Journey_Day          0.199540\n",
       "Cochin               0.288396\n",
       "Delhi                0.288396\n",
       "Total_Stops          0.321364\n",
       "Jet Airways          0.692064\n",
       "Kolkata              1.060800\n",
       "Delhi                1.441261\n",
       "IndiGo               1.570462\n",
       "Air India            1.808687\n",
       "Multiple carriers    2.188059\n",
       "SpiceJet             3.152294\n",
       "Hyderabad            3.383478\n",
       "Mumbai               3.383478\n",
       "Vistara              4.178576\n",
       "Chennai              5.716548\n",
       "Kolkata              5.716548\n",
       "GoAir                7.425946\n",
       "dtype: float64"
      ]
     },
     "execution_count": 141,
     "metadata": {},
     "output_type": "execute_result"
    }
   ],
   "source": [
    "testset.skew().sort_values()"
   ]
  },
  {
   "cell_type": "markdown",
   "id": "9cec452b",
   "metadata": {},
   "source": [
    "# Feature Scaling :"
   ]
  },
  {
   "cell_type": "code",
   "execution_count": 142,
   "id": "4ed04839",
   "metadata": {},
   "outputs": [
    {
     "data": {
      "text/html": [
       "<div>\n",
       "<style scoped>\n",
       "    .dataframe tbody tr th:only-of-type {\n",
       "        vertical-align: middle;\n",
       "    }\n",
       "\n",
       "    .dataframe tbody tr th {\n",
       "        vertical-align: top;\n",
       "    }\n",
       "\n",
       "    .dataframe thead th {\n",
       "        text-align: right;\n",
       "    }\n",
       "</style>\n",
       "<table border=\"1\" class=\"dataframe\">\n",
       "  <thead>\n",
       "    <tr style=\"text-align: right;\">\n",
       "      <th></th>\n",
       "      <th>Total_Stops</th>\n",
       "      <th>Journey_Day</th>\n",
       "      <th>Journey_Month</th>\n",
       "      <th>Dep_Hour</th>\n",
       "      <th>Dep_Min</th>\n",
       "      <th>Arrival_Hour</th>\n",
       "      <th>Arrival_Min</th>\n",
       "      <th>Duration_hours</th>\n",
       "      <th>Duration_mins</th>\n",
       "      <th>Air India</th>\n",
       "      <th>...</th>\n",
       "      <th>SpiceJet</th>\n",
       "      <th>Vistara</th>\n",
       "      <th>Chennai</th>\n",
       "      <th>Delhi</th>\n",
       "      <th>Kolkata</th>\n",
       "      <th>Mumbai</th>\n",
       "      <th>Cochin</th>\n",
       "      <th>Delhi</th>\n",
       "      <th>Hyderabad</th>\n",
       "      <th>Kolkata</th>\n",
       "    </tr>\n",
       "  </thead>\n",
       "  <tbody>\n",
       "    <tr>\n",
       "      <th>0</th>\n",
       "      <td>0.247853</td>\n",
       "      <td>-0.837333</td>\n",
       "      <td>1.094745</td>\n",
       "      <td>0.773265</td>\n",
       "      <td>0.267704</td>\n",
       "      <td>-1.361709</td>\n",
       "      <td>0.026340</td>\n",
       "      <td>0.358374</td>\n",
       "      <td>1.588723</td>\n",
       "      <td>-0.444096</td>\n",
       "      <td>...</td>\n",
       "      <td>-0.290603</td>\n",
       "      <td>-0.227101</td>\n",
       "      <td>-0.169972</td>\n",
       "      <td>1.154448</td>\n",
       "      <td>-0.601714</td>\n",
       "      <td>-0.273586</td>\n",
       "      <td>1.154448</td>\n",
       "      <td>-0.512140</td>\n",
       "      <td>-0.273586</td>\n",
       "      <td>-0.169972</td>\n",
       "    </tr>\n",
       "    <tr>\n",
       "      <th>1</th>\n",
       "      <td>0.247853</td>\n",
       "      <td>-0.110877</td>\n",
       "      <td>0.240505</td>\n",
       "      <td>-1.161445</td>\n",
       "      <td>-0.256324</td>\n",
       "      <td>-0.509324</td>\n",
       "      <td>-0.271771</td>\n",
       "      <td>-0.587093</td>\n",
       "      <td>-1.695935</td>\n",
       "      <td>-0.444096</td>\n",
       "      <td>...</td>\n",
       "      <td>-0.290603</td>\n",
       "      <td>-0.227101</td>\n",
       "      <td>-0.169972</td>\n",
       "      <td>-0.866215</td>\n",
       "      <td>1.661918</td>\n",
       "      <td>-0.273586</td>\n",
       "      <td>-0.866215</td>\n",
       "      <td>-0.512140</td>\n",
       "      <td>-0.273586</td>\n",
       "      <td>-0.169972</td>\n",
       "    </tr>\n",
       "    <tr>\n",
       "      <th>2</th>\n",
       "      <td>0.247853</td>\n",
       "      <td>0.978807</td>\n",
       "      <td>0.240505</td>\n",
       "      <td>1.125030</td>\n",
       "      <td>-0.518338</td>\n",
       "      <td>0.769252</td>\n",
       "      <td>-1.464213</td>\n",
       "      <td>1.293889</td>\n",
       "      <td>0.991512</td>\n",
       "      <td>-0.444096</td>\n",
       "      <td>...</td>\n",
       "      <td>-0.290603</td>\n",
       "      <td>-0.227101</td>\n",
       "      <td>-0.169972</td>\n",
       "      <td>1.154448</td>\n",
       "      <td>-0.601714</td>\n",
       "      <td>-0.273586</td>\n",
       "      <td>1.154448</td>\n",
       "      <td>-0.512140</td>\n",
       "      <td>-0.273586</td>\n",
       "      <td>-0.169972</td>\n",
       "    </tr>\n",
       "    <tr>\n",
       "      <th>3</th>\n",
       "      <td>0.247853</td>\n",
       "      <td>0.978807</td>\n",
       "      <td>0.240505</td>\n",
       "      <td>-0.809679</td>\n",
       "      <td>-1.304381</td>\n",
       "      <td>1.053380</td>\n",
       "      <td>-1.464213</td>\n",
       "      <td>0.647560</td>\n",
       "      <td>-1.695935</td>\n",
       "      <td>-0.444096</td>\n",
       "      <td>...</td>\n",
       "      <td>-0.290603</td>\n",
       "      <td>-0.227101</td>\n",
       "      <td>-0.169972</td>\n",
       "      <td>1.154448</td>\n",
       "      <td>-0.601714</td>\n",
       "      <td>-0.273586</td>\n",
       "      <td>1.154448</td>\n",
       "      <td>-0.512140</td>\n",
       "      <td>-0.273586</td>\n",
       "      <td>-0.169972</td>\n",
       "    </tr>\n",
       "    <tr>\n",
       "      <th>4</th>\n",
       "      <td>-1.239823</td>\n",
       "      <td>1.342035</td>\n",
       "      <td>1.094745</td>\n",
       "      <td>1.828561</td>\n",
       "      <td>1.577774</td>\n",
       "      <td>-1.645837</td>\n",
       "      <td>1.218783</td>\n",
       "      <td>-1.199642</td>\n",
       "      <td>1.290118</td>\n",
       "      <td>-0.444096</td>\n",
       "      <td>...</td>\n",
       "      <td>-0.290603</td>\n",
       "      <td>-0.227101</td>\n",
       "      <td>-0.169972</td>\n",
       "      <td>-0.866215</td>\n",
       "      <td>-0.601714</td>\n",
       "      <td>-0.273586</td>\n",
       "      <td>-0.866215</td>\n",
       "      <td>1.952591</td>\n",
       "      <td>-0.273586</td>\n",
       "      <td>-0.169972</td>\n",
       "    </tr>\n",
       "    <tr>\n",
       "      <th>5</th>\n",
       "      <td>0.247853</td>\n",
       "      <td>-0.110877</td>\n",
       "      <td>1.094745</td>\n",
       "      <td>0.949147</td>\n",
       "      <td>-0.518338</td>\n",
       "      <td>-0.225196</td>\n",
       "      <td>0.622561</td>\n",
       "      <td>1.013753</td>\n",
       "      <td>-0.501514</td>\n",
       "      <td>-0.444096</td>\n",
       "      <td>...</td>\n",
       "      <td>-0.290603</td>\n",
       "      <td>-0.227101</td>\n",
       "      <td>-0.169972</td>\n",
       "      <td>1.154448</td>\n",
       "      <td>-0.601714</td>\n",
       "      <td>-0.273586</td>\n",
       "      <td>1.154448</td>\n",
       "      <td>-0.512140</td>\n",
       "      <td>-0.273586</td>\n",
       "      <td>-0.169972</td>\n",
       "    </tr>\n",
       "    <tr>\n",
       "      <th>6</th>\n",
       "      <td>0.247853</td>\n",
       "      <td>-0.110877</td>\n",
       "      <td>-1.467975</td>\n",
       "      <td>-0.985562</td>\n",
       "      <td>0.267704</td>\n",
       "      <td>1.195444</td>\n",
       "      <td>0.622561</td>\n",
       "      <td>0.807682</td>\n",
       "      <td>-1.397329</td>\n",
       "      <td>2.251767</td>\n",
       "      <td>...</td>\n",
       "      <td>-0.290603</td>\n",
       "      <td>-0.227101</td>\n",
       "      <td>-0.169972</td>\n",
       "      <td>-0.866215</td>\n",
       "      <td>-0.601714</td>\n",
       "      <td>-0.273586</td>\n",
       "      <td>-0.866215</td>\n",
       "      <td>1.952591</td>\n",
       "      <td>-0.273586</td>\n",
       "      <td>-0.169972</td>\n",
       "    </tr>\n",
       "    <tr>\n",
       "      <th>7</th>\n",
       "      <td>0.247853</td>\n",
       "      <td>-1.442712</td>\n",
       "      <td>0.240505</td>\n",
       "      <td>0.421499</td>\n",
       "      <td>-0.518338</td>\n",
       "      <td>0.911316</td>\n",
       "      <td>0.324451</td>\n",
       "      <td>-0.368465</td>\n",
       "      <td>-0.800119</td>\n",
       "      <td>-0.444096</td>\n",
       "      <td>...</td>\n",
       "      <td>-0.290603</td>\n",
       "      <td>-0.227101</td>\n",
       "      <td>-0.169972</td>\n",
       "      <td>-0.866215</td>\n",
       "      <td>1.661918</td>\n",
       "      <td>-0.273586</td>\n",
       "      <td>-0.866215</td>\n",
       "      <td>-0.512140</td>\n",
       "      <td>-0.273586</td>\n",
       "      <td>-0.169972</td>\n",
       "    </tr>\n",
       "    <tr>\n",
       "      <th>8</th>\n",
       "      <td>-1.239823</td>\n",
       "      <td>0.252351</td>\n",
       "      <td>-1.467975</td>\n",
       "      <td>-0.457914</td>\n",
       "      <td>-0.780352</td>\n",
       "      <td>-0.225196</td>\n",
       "      <td>1.815004</td>\n",
       "      <td>-1.199642</td>\n",
       "      <td>0.991512</td>\n",
       "      <td>-0.444096</td>\n",
       "      <td>...</td>\n",
       "      <td>-0.290603</td>\n",
       "      <td>-0.227101</td>\n",
       "      <td>-0.169972</td>\n",
       "      <td>-0.866215</td>\n",
       "      <td>1.661918</td>\n",
       "      <td>-0.273586</td>\n",
       "      <td>-0.866215</td>\n",
       "      <td>-0.512140</td>\n",
       "      <td>-0.273586</td>\n",
       "      <td>-0.169972</td>\n",
       "    </tr>\n",
       "    <tr>\n",
       "      <th>9</th>\n",
       "      <td>0.247853</td>\n",
       "      <td>0.615579</td>\n",
       "      <td>0.240505</td>\n",
       "      <td>0.597382</td>\n",
       "      <td>0.267704</td>\n",
       "      <td>1.195444</td>\n",
       "      <td>0.622561</td>\n",
       "      <td>-0.183617</td>\n",
       "      <td>-1.397329</td>\n",
       "      <td>-0.444096</td>\n",
       "      <td>...</td>\n",
       "      <td>-0.290603</td>\n",
       "      <td>-0.227101</td>\n",
       "      <td>-0.169972</td>\n",
       "      <td>-0.866215</td>\n",
       "      <td>1.661918</td>\n",
       "      <td>-0.273586</td>\n",
       "      <td>-0.866215</td>\n",
       "      <td>-0.512140</td>\n",
       "      <td>-0.273586</td>\n",
       "      <td>-0.169972</td>\n",
       "    </tr>\n",
       "  </tbody>\n",
       "</table>\n",
       "<p>10 rows × 24 columns</p>\n",
       "</div>"
      ],
      "text/plain": [
       "   Total_Stops  Journey_Day  Journey_Month  Dep_Hour   Dep_Min  Arrival_Hour  \\\n",
       "0     0.247853    -0.837333       1.094745  0.773265  0.267704     -1.361709   \n",
       "1     0.247853    -0.110877       0.240505 -1.161445 -0.256324     -0.509324   \n",
       "2     0.247853     0.978807       0.240505  1.125030 -0.518338      0.769252   \n",
       "3     0.247853     0.978807       0.240505 -0.809679 -1.304381      1.053380   \n",
       "4    -1.239823     1.342035       1.094745  1.828561  1.577774     -1.645837   \n",
       "5     0.247853    -0.110877       1.094745  0.949147 -0.518338     -0.225196   \n",
       "6     0.247853    -0.110877      -1.467975 -0.985562  0.267704      1.195444   \n",
       "7     0.247853    -1.442712       0.240505  0.421499 -0.518338      0.911316   \n",
       "8    -1.239823     0.252351      -1.467975 -0.457914 -0.780352     -0.225196   \n",
       "9     0.247853     0.615579       0.240505  0.597382  0.267704      1.195444   \n",
       "\n",
       "   Arrival_Min  Duration_hours  Duration_mins  Air India  ...  SpiceJet  \\\n",
       "0     0.026340        0.358374       1.588723  -0.444096  ... -0.290603   \n",
       "1    -0.271771       -0.587093      -1.695935  -0.444096  ... -0.290603   \n",
       "2    -1.464213        1.293889       0.991512  -0.444096  ... -0.290603   \n",
       "3    -1.464213        0.647560      -1.695935  -0.444096  ... -0.290603   \n",
       "4     1.218783       -1.199642       1.290118  -0.444096  ... -0.290603   \n",
       "5     0.622561        1.013753      -0.501514  -0.444096  ... -0.290603   \n",
       "6     0.622561        0.807682      -1.397329   2.251767  ... -0.290603   \n",
       "7     0.324451       -0.368465      -0.800119  -0.444096  ... -0.290603   \n",
       "8     1.815004       -1.199642       0.991512  -0.444096  ... -0.290603   \n",
       "9     0.622561       -0.183617      -1.397329  -0.444096  ... -0.290603   \n",
       "\n",
       "    Vistara   Chennai     Delhi   Kolkata    Mumbai    Cochin     Delhi  \\\n",
       "0 -0.227101 -0.169972  1.154448 -0.601714 -0.273586  1.154448 -0.512140   \n",
       "1 -0.227101 -0.169972 -0.866215  1.661918 -0.273586 -0.866215 -0.512140   \n",
       "2 -0.227101 -0.169972  1.154448 -0.601714 -0.273586  1.154448 -0.512140   \n",
       "3 -0.227101 -0.169972  1.154448 -0.601714 -0.273586  1.154448 -0.512140   \n",
       "4 -0.227101 -0.169972 -0.866215 -0.601714 -0.273586 -0.866215  1.952591   \n",
       "5 -0.227101 -0.169972  1.154448 -0.601714 -0.273586  1.154448 -0.512140   \n",
       "6 -0.227101 -0.169972 -0.866215 -0.601714 -0.273586 -0.866215  1.952591   \n",
       "7 -0.227101 -0.169972 -0.866215  1.661918 -0.273586 -0.866215 -0.512140   \n",
       "8 -0.227101 -0.169972 -0.866215  1.661918 -0.273586 -0.866215 -0.512140   \n",
       "9 -0.227101 -0.169972 -0.866215  1.661918 -0.273586 -0.866215 -0.512140   \n",
       "\n",
       "   Hyderabad   Kolkata  \n",
       "0  -0.273586 -0.169972  \n",
       "1  -0.273586 -0.169972  \n",
       "2  -0.273586 -0.169972  \n",
       "3  -0.273586 -0.169972  \n",
       "4  -0.273586 -0.169972  \n",
       "5  -0.273586 -0.169972  \n",
       "6  -0.273586 -0.169972  \n",
       "7  -0.273586 -0.169972  \n",
       "8  -0.273586 -0.169972  \n",
       "9  -0.273586 -0.169972  \n",
       "\n",
       "[10 rows x 24 columns]"
      ]
     },
     "execution_count": 142,
     "metadata": {},
     "output_type": "execute_result"
    }
   ],
   "source": [
    "scale=StandardScaler()\n",
    "testset=pd.DataFrame(scale.fit_transform(testset), columns=testset.columns)\n",
    "testset.head(10)"
   ]
  },
  {
   "cell_type": "markdown",
   "id": "b29137f5",
   "metadata": {},
   "source": [
    "# Power Transformation :"
   ]
  },
  {
   "cell_type": "code",
   "execution_count": 143,
   "id": "d761265b",
   "metadata": {},
   "outputs": [
    {
     "data": {
      "text/html": [
       "<div>\n",
       "<style scoped>\n",
       "    .dataframe tbody tr th:only-of-type {\n",
       "        vertical-align: middle;\n",
       "    }\n",
       "\n",
       "    .dataframe tbody tr th {\n",
       "        vertical-align: top;\n",
       "    }\n",
       "\n",
       "    .dataframe thead th {\n",
       "        text-align: right;\n",
       "    }\n",
       "</style>\n",
       "<table border=\"1\" class=\"dataframe\">\n",
       "  <thead>\n",
       "    <tr style=\"text-align: right;\">\n",
       "      <th></th>\n",
       "      <th>Total_Stops</th>\n",
       "      <th>Journey_Day</th>\n",
       "      <th>Journey_Month</th>\n",
       "      <th>Dep_Hour</th>\n",
       "      <th>Dep_Min</th>\n",
       "      <th>Arrival_Hour</th>\n",
       "      <th>Arrival_Min</th>\n",
       "      <th>Duration_hours</th>\n",
       "      <th>Duration_mins</th>\n",
       "      <th>Air India</th>\n",
       "      <th>...</th>\n",
       "      <th>SpiceJet</th>\n",
       "      <th>Vistara</th>\n",
       "      <th>Chennai</th>\n",
       "      <th>Delhi</th>\n",
       "      <th>Kolkata</th>\n",
       "      <th>Mumbai</th>\n",
       "      <th>Cochin</th>\n",
       "      <th>Delhi</th>\n",
       "      <th>Hyderabad</th>\n",
       "      <th>Kolkata</th>\n",
       "    </tr>\n",
       "  </thead>\n",
       "  <tbody>\n",
       "    <tr>\n",
       "      <th>0</th>\n",
       "      <td>0.292261</td>\n",
       "      <td>-0.826738</td>\n",
       "      <td>1.206315</td>\n",
       "      <td>0.788628</td>\n",
       "      <td>0.312687</td>\n",
       "      <td>-1.292336</td>\n",
       "      <td>0.062075</td>\n",
       "      <td>0.313038</td>\n",
       "      <td>1.638316</td>\n",
       "      <td>-0.444096</td>\n",
       "      <td>...</td>\n",
       "      <td>-0.290603</td>\n",
       "      <td>-0.227101</td>\n",
       "      <td>-0.169972</td>\n",
       "      <td>1.154448</td>\n",
       "      <td>-0.601714</td>\n",
       "      <td>-0.273586</td>\n",
       "      <td>1.154448</td>\n",
       "      <td>-0.512140</td>\n",
       "      <td>-0.273586</td>\n",
       "      <td>-0.169972</td>\n",
       "    </tr>\n",
       "    <tr>\n",
       "      <th>1</th>\n",
       "      <td>0.292261</td>\n",
       "      <td>-0.037135</td>\n",
       "      <td>0.073441</td>\n",
       "      <td>-1.179707</td>\n",
       "      <td>-0.212248</td>\n",
       "      <td>-0.642080</td>\n",
       "      <td>-0.239800</td>\n",
       "      <td>-0.621971</td>\n",
       "      <td>-1.646024</td>\n",
       "      <td>-0.444096</td>\n",
       "      <td>...</td>\n",
       "      <td>-0.290603</td>\n",
       "      <td>-0.227101</td>\n",
       "      <td>-0.169972</td>\n",
       "      <td>-0.866215</td>\n",
       "      <td>1.661918</td>\n",
       "      <td>-0.273586</td>\n",
       "      <td>-0.866215</td>\n",
       "      <td>-0.512140</td>\n",
       "      <td>-0.273586</td>\n",
       "      <td>-0.169972</td>\n",
       "    </tr>\n",
       "    <tr>\n",
       "      <th>2</th>\n",
       "      <td>0.292261</td>\n",
       "      <td>0.986181</td>\n",
       "      <td>0.073441</td>\n",
       "      <td>1.116026</td>\n",
       "      <td>-0.486379</td>\n",
       "      <td>0.744335</td>\n",
       "      <td>-1.507518</td>\n",
       "      <td>1.337360</td>\n",
       "      <td>0.994972</td>\n",
       "      <td>-0.444096</td>\n",
       "      <td>...</td>\n",
       "      <td>-0.290603</td>\n",
       "      <td>-0.227101</td>\n",
       "      <td>-0.169972</td>\n",
       "      <td>1.154448</td>\n",
       "      <td>-0.601714</td>\n",
       "      <td>-0.273586</td>\n",
       "      <td>1.154448</td>\n",
       "      <td>-0.512140</td>\n",
       "      <td>-0.273586</td>\n",
       "      <td>-0.169972</td>\n",
       "    </tr>\n",
       "    <tr>\n",
       "      <th>3</th>\n",
       "      <td>0.292261</td>\n",
       "      <td>0.986181</td>\n",
       "      <td>0.073441</td>\n",
       "      <td>-0.799980</td>\n",
       "      <td>-1.343694</td>\n",
       "      <td>1.136332</td>\n",
       "      <td>-1.507518</td>\n",
       "      <td>0.620979</td>\n",
       "      <td>-1.646024</td>\n",
       "      <td>-0.444096</td>\n",
       "      <td>...</td>\n",
       "      <td>-0.290603</td>\n",
       "      <td>-0.227101</td>\n",
       "      <td>-0.169972</td>\n",
       "      <td>1.154448</td>\n",
       "      <td>-0.601714</td>\n",
       "      <td>-0.273586</td>\n",
       "      <td>1.154448</td>\n",
       "      <td>-0.512140</td>\n",
       "      <td>-0.273586</td>\n",
       "      <td>-0.169972</td>\n",
       "    </tr>\n",
       "    <tr>\n",
       "      <th>4</th>\n",
       "      <td>-1.278340</td>\n",
       "      <td>1.297847</td>\n",
       "      <td>1.206315</td>\n",
       "      <td>1.753981</td>\n",
       "      <td>1.520904</td>\n",
       "      <td>-1.484031</td>\n",
       "      <td>1.203751</td>\n",
       "      <td>-1.180514</td>\n",
       "      <td>1.314779</td>\n",
       "      <td>-0.444096</td>\n",
       "      <td>...</td>\n",
       "      <td>-0.290603</td>\n",
       "      <td>-0.227101</td>\n",
       "      <td>-0.169972</td>\n",
       "      <td>-0.866215</td>\n",
       "      <td>-0.601714</td>\n",
       "      <td>-0.273586</td>\n",
       "      <td>-0.866215</td>\n",
       "      <td>1.952591</td>\n",
       "      <td>-0.273586</td>\n",
       "      <td>-0.169972</td>\n",
       "    </tr>\n",
       "  </tbody>\n",
       "</table>\n",
       "<p>5 rows × 24 columns</p>\n",
       "</div>"
      ],
      "text/plain": [
       "   Total_Stops  Journey_Day  Journey_Month  Dep_Hour   Dep_Min  Arrival_Hour  \\\n",
       "0     0.292261    -0.826738       1.206315  0.788628  0.312687     -1.292336   \n",
       "1     0.292261    -0.037135       0.073441 -1.179707 -0.212248     -0.642080   \n",
       "2     0.292261     0.986181       0.073441  1.116026 -0.486379      0.744335   \n",
       "3     0.292261     0.986181       0.073441 -0.799980 -1.343694      1.136332   \n",
       "4    -1.278340     1.297847       1.206315  1.753981  1.520904     -1.484031   \n",
       "\n",
       "   Arrival_Min  Duration_hours  Duration_mins  Air India  ...  SpiceJet  \\\n",
       "0     0.062075        0.313038       1.638316  -0.444096  ... -0.290603   \n",
       "1    -0.239800       -0.621971      -1.646024  -0.444096  ... -0.290603   \n",
       "2    -1.507518        1.337360       0.994972  -0.444096  ... -0.290603   \n",
       "3    -1.507518        0.620979      -1.646024  -0.444096  ... -0.290603   \n",
       "4     1.203751       -1.180514       1.314779  -0.444096  ... -0.290603   \n",
       "\n",
       "    Vistara   Chennai     Delhi   Kolkata    Mumbai    Cochin     Delhi  \\\n",
       "0 -0.227101 -0.169972  1.154448 -0.601714 -0.273586  1.154448 -0.512140   \n",
       "1 -0.227101 -0.169972 -0.866215  1.661918 -0.273586 -0.866215 -0.512140   \n",
       "2 -0.227101 -0.169972  1.154448 -0.601714 -0.273586  1.154448 -0.512140   \n",
       "3 -0.227101 -0.169972  1.154448 -0.601714 -0.273586  1.154448 -0.512140   \n",
       "4 -0.227101 -0.169972 -0.866215 -0.601714 -0.273586 -0.866215  1.952591   \n",
       "\n",
       "   Hyderabad   Kolkata  \n",
       "0  -0.273586 -0.169972  \n",
       "1  -0.273586 -0.169972  \n",
       "2  -0.273586 -0.169972  \n",
       "3  -0.273586 -0.169972  \n",
       "4  -0.273586 -0.169972  \n",
       "\n",
       "[5 rows x 24 columns]"
      ]
     },
     "execution_count": 143,
     "metadata": {},
     "output_type": "execute_result"
    }
   ],
   "source": [
    "power=PowerTransformer(method='yeo-johnson')\n",
    "testset=pd.DataFrame(power.fit_transform(testset), columns=testset.columns)\n",
    "testset.head()"
   ]
  },
  {
   "cell_type": "markdown",
   "id": "6531e156",
   "metadata": {},
   "source": [
    "# Predictions with new data"
   ]
  },
  {
   "cell_type": "code",
   "execution_count": 144,
   "id": "eb29cddb",
   "metadata": {},
   "outputs": [],
   "source": [
    "price_prediction=RFR.predict(testset)"
   ]
  },
  {
   "cell_type": "code",
   "execution_count": 145,
   "id": "bae1219a",
   "metadata": {},
   "outputs": [
    {
     "data": {
      "text/html": [
       "<div>\n",
       "<style scoped>\n",
       "    .dataframe tbody tr th:only-of-type {\n",
       "        vertical-align: middle;\n",
       "    }\n",
       "\n",
       "    .dataframe tbody tr th {\n",
       "        vertical-align: top;\n",
       "    }\n",
       "\n",
       "    .dataframe thead th {\n",
       "        text-align: right;\n",
       "    }\n",
       "</style>\n",
       "<table border=\"1\" class=\"dataframe\">\n",
       "  <thead>\n",
       "    <tr style=\"text-align: right;\">\n",
       "      <th></th>\n",
       "      <th>Price</th>\n",
       "    </tr>\n",
       "  </thead>\n",
       "  <tbody>\n",
       "    <tr>\n",
       "      <th>0</th>\n",
       "      <td>12409.281098</td>\n",
       "    </tr>\n",
       "    <tr>\n",
       "      <th>1</th>\n",
       "      <td>4228.716244</td>\n",
       "    </tr>\n",
       "    <tr>\n",
       "      <th>2</th>\n",
       "      <td>14504.630911</td>\n",
       "    </tr>\n",
       "    <tr>\n",
       "      <th>3</th>\n",
       "      <td>11026.301050</td>\n",
       "    </tr>\n",
       "    <tr>\n",
       "      <th>4</th>\n",
       "      <td>4284.628232</td>\n",
       "    </tr>\n",
       "    <tr>\n",
       "      <th>...</th>\n",
       "      <td>...</td>\n",
       "    </tr>\n",
       "    <tr>\n",
       "      <th>2666</th>\n",
       "      <td>10172.404099</td>\n",
       "    </tr>\n",
       "    <tr>\n",
       "      <th>2667</th>\n",
       "      <td>4764.261187</td>\n",
       "    </tr>\n",
       "    <tr>\n",
       "      <th>2668</th>\n",
       "      <td>14647.155487</td>\n",
       "    </tr>\n",
       "    <tr>\n",
       "      <th>2669</th>\n",
       "      <td>14004.887157</td>\n",
       "    </tr>\n",
       "    <tr>\n",
       "      <th>2670</th>\n",
       "      <td>7943.865606</td>\n",
       "    </tr>\n",
       "  </tbody>\n",
       "</table>\n",
       "<p>2671 rows × 1 columns</p>\n",
       "</div>"
      ],
      "text/plain": [
       "             Price\n",
       "0     12409.281098\n",
       "1      4228.716244\n",
       "2     14504.630911\n",
       "3     11026.301050\n",
       "4      4284.628232\n",
       "...            ...\n",
       "2666  10172.404099\n",
       "2667   4764.261187\n",
       "2668  14647.155487\n",
       "2669  14004.887157\n",
       "2670   7943.865606\n",
       "\n",
       "[2671 rows x 1 columns]"
      ]
     },
     "execution_count": 145,
     "metadata": {},
     "output_type": "execute_result"
    }
   ],
   "source": [
    "Prediction = pd.DataFrame()\n",
    "Prediction['Price']= price_prediction\n",
    "Prediction"
   ]
  },
  {
   "cell_type": "markdown",
   "id": "4db945c3",
   "metadata": {},
   "source": [
    "# __<font color=\"orange\">THANK YOU.</font>__"
   ]
  }
 ],
 "metadata": {
  "kernelspec": {
   "display_name": "Python 3",
   "language": "python",
   "name": "python3"
  },
  "language_info": {
   "codemirror_mode": {
    "name": "ipython",
    "version": 3
   },
   "file_extension": ".py",
   "mimetype": "text/x-python",
   "name": "python",
   "nbconvert_exporter": "python",
   "pygments_lexer": "ipython3",
   "version": "3.8.8"
  }
 },
 "nbformat": 4,
 "nbformat_minor": 5
}
